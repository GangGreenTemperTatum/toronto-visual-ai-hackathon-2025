{
 "cells": [
  {
   "cell_type": "markdown",
   "metadata": {},
   "source": [
    "## import dataset - LFITW"
   ]
  },
  {
   "cell_type": "markdown",
   "metadata": {},
   "source": [
    "https://docs.voxel51.com/dataset_zoo/datasets.html#dataset-zoo-activitynet-100"
   ]
  },
  {
   "cell_type": "code",
   "execution_count": 6,
   "metadata": {},
   "outputs": [
    {
     "name": "stdout",
     "output_type": "stream",
     "text": [
      "Dataset directory created at: /Users/ads/git/toronto-visual-ai-hackathon-2025/notebooks/../dataset\n",
      "Downloading split 'test' to '/Users/ads/fiftyone/lfw/test'\n",
      "Downloading dataset to '/Users/ads/fiftyone/lfw/tmp-download/lfw.tgz'\n",
      "Error loading dataset: HTTPConnectionPool(host='vis-www.cs.umass.edu', port=80): Max retries exceeded with url: /lfw/lfw.tgz (Caused by NameResolutionError(\"<urllib3.connection.HTTPConnection object at 0x153d98990>: Failed to resolve 'vis-www.cs.umass.edu' ([Errno 8] nodename nor servname provided, or not known)\"))\n"
     ]
    }
   ],
   "source": [
    "import os\n",
    "import fiftyone as fo\n",
    "import fiftyone.zoo as foz\n",
    "\n",
    "current_dir = os.getcwd()\n",
    "dataset_dir = os.path.join(current_dir, \"../dataset\")\n",
    "os.makedirs(dataset_dir, exist_ok=True)\n",
    "\n",
    "print(f\"Dataset directory created at: {dataset_dir}\")\n",
    "\n",
    "try:\n",
    "    dataset = foz.load_zoo_dataset(\n",
    "        \"lfw\",\n",
    "        split=\"test\",\n",
    "        dataset_dir=dataset_dir\n",
    "    )\n",
    "\n",
    "    session = fo.launch_app(dataset)\n",
    "\n",
    "except Exception as e:\n",
    "    print(f\"Error loading dataset: {e}\")"
   ]
  },
  {
   "cell_type": "code",
   "execution_count": null,
   "metadata": {},
   "outputs": [
    {
     "name": "stdout",
     "output_type": "stream",
     "text": [
      "Found 11 files/directories to copy.\n",
      "Copied file: pairs.csv\n",
      "Copied file: matchpairsDevTest.csv\n",
      "Copied file: people.csv\n",
      "Copied file: lfw_readme.csv\n",
      "Copied file: peopleDevTest.csv\n",
      "Copied file: mismatchpairsDevTrain.csv\n",
      "Copied directory: lfw-deepfunneled\n",
      "Copied file: matchpairsDevTrain.csv\n",
      "Copied file: mismatchpairsDevTest.csv\n",
      "Copied file: lfw_allnames.csv\n",
      "Copied file: peopleDevTrain.csv\n",
      "\n",
      "All files successfully copied to /Users/ads/git/toronto-visual-ai-hackathon-2025/dataset\n",
      "Destination directory now contains 11 files/directories.\n"
     ]
    }
   ],
   "source": [
    "import os\n",
    "import shutil\n",
    "\n",
    "source_path = \"/Users/ads/.cache/kagglehub/datasets/jessicali9530/lfw-dataset/versions/4\"\n",
    "destination_path = \"/Users/ads/git/toronto-visual-ai-hackathon-2025/dataset\"\n",
    "\n",
    "if not os.path.exists(source_path):\n",
    "    print(f\"Source path doesn't exist: {source_path}\")\n",
    "    exit()\n",
    "\n",
    "files = os.listdir(source_path)\n",
    "print(f\"Found {len(files)} files/directories to copy.\")\n",
    "\n",
    "for item in files:\n",
    "    source_item = os.path.join(source_path, item)\n",
    "    dest_item = os.path.join(destination_path, item)\n",
    "\n",
    "    if os.path.isdir(source_item):\n",
    "        if os.path.exists(dest_item):\n",
    "            shutil.rmtree(dest_item)\n",
    "        shutil.copytree(source_item, dest_item)\n",
    "        print(f\"Copied directory: {item}\")\n",
    "    else:\n",
    "        shutil.copy2(source_item, dest_item)\n",
    "        print(f\"Copied file: {item}\")\n",
    "\n",
    "print(f\"\\nAll files successfully copied to {destination_path}\")\n",
    "\n",
    "dest_files = os.listdir(destination_path)\n",
    "print(f\"Destination directory now contains {len(dest_files)} files/directories.\")"
   ]
  },
  {
   "cell_type": "markdown",
   "metadata": {},
   "source": [
    "## convert to FO\n",
    "\n",
    "https://docs.voxel51.com/user_guide/dataset_creation/datasets.html#imageclassificationdirectorytree"
   ]
  },
  {
   "cell_type": "code",
   "execution_count": 15,
   "metadata": {},
   "outputs": [
    {
     "name": "stdout",
     "output_type": "stream",
     "text": [
      "Loading dataset from: /Users/ads/git/toronto-visual-ai-hackathon-2025/dataset/lfw-deepfunneled/lfw-deepfunneled\n",
      " 100% |█████████████| 13233/13233 [2.3s elapsed, 0s remaining, 5.8K samples/s]      \n",
      "Name:        lfw-deepfunneled\n",
      "Media type:  image\n",
      "Num samples: 13233\n",
      "Persistent:  False\n",
      "Tags:        []\n",
      "Sample fields:\n",
      "    id:               fiftyone.core.fields.ObjectIdField\n",
      "    filepath:         fiftyone.core.fields.StringField\n",
      "    tags:             fiftyone.core.fields.ListField(fiftyone.core.fields.StringField)\n",
      "    metadata:         fiftyone.core.fields.EmbeddedDocumentField(fiftyone.core.metadata.ImageMetadata)\n",
      "    created_at:       fiftyone.core.fields.DateTimeField\n",
      "    last_modified_at: fiftyone.core.fields.DateTimeField\n",
      "    ground_truth:     fiftyone.core.fields.EmbeddedDocumentField(fiftyone.core.labels.Classification)\n",
      "[<Sample: {\n",
      "    'id': '67dedb2d40259dc46d042e93',\n",
      "    'media_type': 'image',\n",
      "    'filepath': '/Users/ads/git/toronto-visual-ai-hackathon-2025/dataset/lfw-deepfunneled/lfw-deepfunneled/AJ_Cook/AJ_Cook_0001.jpg',\n",
      "    'tags': [],\n",
      "    'metadata': None,\n",
      "    'created_at': datetime.datetime(2025, 3, 22, 15, 45, 49, 565000),\n",
      "    'last_modified_at': datetime.datetime(2025, 3, 22, 15, 45, 49, 565000),\n",
      "    'ground_truth': <Classification: {\n",
      "        'id': '67dedb2d40259dc46d042e92',\n",
      "        'tags': [],\n",
      "        'label': 'AJ_Cook',\n",
      "        'confidence': None,\n",
      "        'logits': None,\n",
      "    }>,\n",
      "}>, <Sample: {\n",
      "    'id': '67dedb2d40259dc46d042e9c',\n",
      "    'media_type': 'image',\n",
      "    'filepath': '/Users/ads/git/toronto-visual-ai-hackathon-2025/dataset/lfw-deepfunneled/lfw-deepfunneled/AJ_Lamas/AJ_Lamas_0001.jpg',\n",
      "    'tags': [],\n",
      "    'metadata': None,\n",
      "    'created_at': datetime.datetime(2025, 3, 22, 15, 45, 49, 566000),\n",
      "    'last_modified_at': datetime.datetime(2025, 3, 22, 15, 45, 49, 566000),\n",
      "    'ground_truth': <Classification: {\n",
      "        'id': '67dedb2d40259dc46d042e94',\n",
      "        'tags': [],\n",
      "        'label': 'AJ_Lamas',\n",
      "        'confidence': None,\n",
      "        'logits': None,\n",
      "    }>,\n",
      "}>, <Sample: {\n",
      "    'id': '67dedb2d40259dc46d042e9d',\n",
      "    'media_type': 'image',\n",
      "    'filepath': '/Users/ads/git/toronto-visual-ai-hackathon-2025/dataset/lfw-deepfunneled/lfw-deepfunneled/Aaron_Eckhart/Aaron_Eckhart_0001.jpg',\n",
      "    'tags': [],\n",
      "    'metadata': None,\n",
      "    'created_at': datetime.datetime(2025, 3, 22, 15, 45, 49, 566000),\n",
      "    'last_modified_at': datetime.datetime(2025, 3, 22, 15, 45, 49, 566000),\n",
      "    'ground_truth': <Classification: {\n",
      "        'id': '67dedb2d40259dc46d042e95',\n",
      "        'tags': [],\n",
      "        'label': 'Aaron_Eckhart',\n",
      "        'confidence': None,\n",
      "        'logits': None,\n",
      "    }>,\n",
      "}>]\n"
     ]
    }
   ],
   "source": [
    "import os\n",
    "import fiftyone as fo\n",
    "\n",
    "current_dir = os.getcwd()\n",
    "if os.path.basename(current_dir) == \"notebooks\":\n",
    "    project_root = os.path.dirname(current_dir)\n",
    "else:\n",
    "    project_root = current_dir\n",
    "\n",
    "name = \"lfw-deepfunneled\"\n",
    "dataset_dir = os.path.join(project_root, \"dataset\", \"lfw-deepfunneled\", \"lfw-deepfunneled\")\n",
    "\n",
    "print(f\"Loading dataset from: {dataset_dir}\")\n",
    "\n",
    "dataset = fo.Dataset.from_dir(\n",
    "    dataset_dir=dataset_dir,\n",
    "    dataset_type=fo.types.ImageClassificationDirectoryTree,\n",
    "    name=name,\n",
    ")\n",
    "\n",
    "print(dataset)\n",
    "\n",
    "print(dataset.head())\n",
    "\n",
    "# session = fo.launch_app(dataset)"
   ]
  },
  {
   "cell_type": "code",
   "execution_count": null,
   "metadata": {},
   "outputs": [
    {
     "data": {
      "text/html": [
       "\n",
       "        <iframe\n",
       "            width=\"100%\"\n",
       "            height=\"800\"\n",
       "            src=\"http://localhost:5151/?notebook=True&subscription=ee71372d-6fb0-47c9-8d7e-c7f9a6390e4e\"\n",
       "            frameborder=\"0\"\n",
       "            allowfullscreen\n",
       "            \n",
       "        ></iframe>\n",
       "        "
      ],
      "text/plain": [
       "<IPython.lib.display.IFrame at 0x1564b44d0>"
      ]
     },
     "metadata": {},
     "output_type": "display_data"
    },
    {
     "name": "stdout",
     "output_type": "stream",
     "text": [
      "\n",
      "Welcome to\n",
      "\n",
      "███████╗██╗███████╗████████╗██╗   ██╗ ██████╗ ███╗   ██╗███████╗\n",
      "██╔════╝██║██╔════╝╚══██╔══╝╚██╗ ██╔╝██╔═══██╗████╗  ██║██╔════╝\n",
      "█████╗  ██║█████╗     ██║    ╚████╔╝ ██║   ██║██╔██╗ ██║█████╗\n",
      "██╔══╝  ██║██╔══╝     ██║     ╚██╔╝  ██║   ██║██║╚██╗██║██╔══╝\n",
      "██║     ██║██║        ██║      ██║   ╚██████╔╝██║ ╚████║███████╗\n",
      "╚═╝     ╚═╝╚═╝        ╚═╝      ╚═╝    ╚═════╝ ╚═╝  ╚═══╝╚══════╝ v1.4.0\n",
      "\n",
      "If you're finding FiftyOne helpful, here's how you can get involved:\n",
      "\n",
      "|\n",
      "|  ⭐⭐⭐ Give the project a star on GitHub ⭐⭐⭐\n",
      "|  https://github.com/voxel51/fiftyone\n",
      "|\n",
      "|  🚀🚀🚀 Join the FiftyOne Discord community 🚀🚀🚀\n",
      "|  https://community.voxel51.com/\n",
      "|\n",
      "\n"
     ]
    }
   ],
   "source": [
    "import fiftyone as fo\n",
    "\n",
    "dataset = fo.load_dataset(\"lfw-deepfunneled\")\n",
    "\n",
    "session = fo.launch_app(dataset)"
   ]
  },
  {
   "cell_type": "markdown",
   "metadata": {},
   "source": [
    "## upload to hf\n",
    "\n",
    "https://docs.voxel51.com/integrations/huggingface.html#huggingface-hub"
   ]
  },
  {
   "cell_type": "code",
   "execution_count": null,
   "metadata": {},
   "outputs": [
    {
     "name": "stdout",
     "output_type": "stream",
     "text": [
      "Loaded dataset: lfw-deepfunneled\n",
      "Number of samples: 13233\n",
      "Exporting dataset to temporary directory: /var/folders/zd/874qqpwn4p71dft28ltsqn700000gn/T/tmpm68lruz_\n",
      "Directory '/var/folders/zd/874qqpwn4p71dft28ltsqn700000gn/T/tmpm68lruz_' already exists; export will be merged with existing files\n",
      "Exporting samples...\n",
      " 100% |████████████████| 13233/13233 [15.3s elapsed, 0s remaining, 964.0 docs/s]      \n"
     ]
    },
    {
     "data": {
      "application/vnd.jupyter.widget-view+json": {
       "model_id": "343f5365e79e45ecb226d4a136783770",
       "version_major": 2,
       "version_minor": 0
      },
      "text/plain": [
       "VBox(children=(HTML(value='<center> <img\\nsrc=https://huggingface.co/front/assets/huggingface_logo-noborder.sv…"
      ]
     },
     "metadata": {},
     "output_type": "display_data"
    },
    {
     "name": "stderr",
     "output_type": "stream",
     "text": [
      "It seems you are trying to upload a large folder at once. This might take some time and then fail if the folder is too large. For such cases, it is recommended to upload in smaller batches or to use `HfApi().upload_large_folder(...)`/`huggingface-cli upload-large-folder` instead. For more details, check out https://huggingface.co/docs/huggingface_hub/main/en/guides/upload#upload-a-large-folder.\n"
     ]
    },
    {
     "name": "stdout",
     "output_type": "stream",
     "text": [
      "Created repository: GangGreenTemperTatum/lfw-deepfunneled\n",
      "Starting upload (this may take some time)...\n"
     ]
    },
    {
     "data": {
      "application/vnd.jupyter.widget-view+json": {
       "model_id": "8be0d1d087aa4aa48493e34391119b3b",
       "version_major": 2,
       "version_minor": 0
      },
      "text/plain": [
       "Askar_Akayev_0001.jpg:   0%|          | 0.00/8.97k [00:00<?, ?B/s]"
      ]
     },
     "metadata": {},
     "output_type": "display_data"
    },
    {
     "data": {
      "application/vnd.jupyter.widget-view+json": {
       "model_id": "508594992da342708aab7cee9c420a52",
       "version_major": 2,
       "version_minor": 0
      },
      "text/plain": [
       "Astou_Ndiaye-Diatta_0001.jpg:   0%|          | 0.00/9.42k [00:00<?, ?B/s]"
      ]
     },
     "metadata": {},
     "output_type": "display_data"
    },
    {
     "data": {
      "application/vnd.jupyter.widget-view+json": {
       "model_id": "f0b5f15bba9146f79344b18f3dd5c941",
       "version_major": 2,
       "version_minor": 0
      },
      "text/plain": [
       "Asmaa_Assad_0001.jpg:   0%|          | 0.00/10.2k [00:00<?, ?B/s]"
      ]
     },
     "metadata": {},
     "output_type": "display_data"
    },
    {
     "data": {
      "application/vnd.jupyter.widget-view+json": {
       "model_id": "6702e593033142c3a630dbf195a19872",
       "version_major": 2,
       "version_minor": 0
      },
      "text/plain": [
       "Upload 12233 LFS files:   0%|          | 0/12233 [00:00<?, ?it/s]"
      ]
     },
     "metadata": {},
     "output_type": "display_data"
    },
    {
     "data": {
      "application/vnd.jupyter.widget-view+json": {
       "model_id": "3a2159e663d64747a96abaa71cc05227",
       "version_major": 2,
       "version_minor": 0
      },
      "text/plain": [
       "Asif_Hanif_0001.jpg:   0%|          | 0.00/8.97k [00:00<?, ?B/s]"
      ]
     },
     "metadata": {},
     "output_type": "display_data"
    },
    {
     "data": {
      "application/vnd.jupyter.widget-view+json": {
       "model_id": "3405cf43ac01450886c3977100c8133e",
       "version_major": 2,
       "version_minor": 0
      },
      "text/plain": [
       "Assad_Ahmadi_0001.jpg:   0%|          | 0.00/7.78k [00:00<?, ?B/s]"
      ]
     },
     "metadata": {},
     "output_type": "display_data"
    },
    {
     "data": {
      "application/vnd.jupyter.widget-view+json": {
       "model_id": "ed1501f3771d4d5f9f8766a75fe4fb6d",
       "version_major": 2,
       "version_minor": 0
      },
      "text/plain": [
       "Astrid_Betancourt_0001.jpg:   0%|          | 0.00/8.57k [00:00<?, ?B/s]"
      ]
     },
     "metadata": {},
     "output_type": "display_data"
    },
    {
     "data": {
      "application/vnd.jupyter.widget-view+json": {
       "model_id": "e29bcc2915074e22a85a167e6c836e67",
       "version_major": 2,
       "version_minor": 0
      },
      "text/plain": [
       "Astrid_Eyzaguirre_0001.jpg:   0%|          | 0.00/9.00k [00:00<?, ?B/s]"
      ]
     },
     "metadata": {},
     "output_type": "display_data"
    },
    {
     "data": {
      "application/vnd.jupyter.widget-view+json": {
       "model_id": "ae60072d5a65420385abee02cd895f5d",
       "version_major": 2,
       "version_minor": 0
      },
      "text/plain": [
       "Atal_Bihari_Vajpayee_0002.jpg:   0%|          | 0.00/10.6k [00:00<?, ?B/s]"
      ]
     },
     "metadata": {},
     "output_type": "display_data"
    },
    {
     "data": {
      "application/vnd.jupyter.widget-view+json": {
       "model_id": "81a895b51fdb41f49b37fc48a97907fd",
       "version_major": 2,
       "version_minor": 0
      },
      "text/plain": [
       "Atal_Bihari_Vajpayee_0001.jpg:   0%|          | 0.00/5.35k [00:00<?, ?B/s]"
      ]
     },
     "metadata": {},
     "output_type": "display_data"
    },
    {
     "data": {
      "application/vnd.jupyter.widget-view+json": {
       "model_id": "049214ce98194af0a6d171d95b6b16ea",
       "version_major": 2,
       "version_minor": 0
      },
      "text/plain": [
       "Atal_Bihari_Vajpayee_0003.jpg:   0%|          | 0.00/9.04k [00:00<?, ?B/s]"
      ]
     },
     "metadata": {},
     "output_type": "display_data"
    },
    {
     "data": {
      "application/vnd.jupyter.widget-view+json": {
       "model_id": "f9d2cdd483124c15983359d06b59a8ea",
       "version_major": 2,
       "version_minor": 0
      },
      "text/plain": [
       "Atal_Bihari_Vajpayee_0004.jpg:   0%|          | 0.00/7.53k [00:00<?, ?B/s]"
      ]
     },
     "metadata": {},
     "output_type": "display_data"
    },
    {
     "data": {
      "application/vnd.jupyter.widget-view+json": {
       "model_id": "7db5055fd55d444a9d1d051dd667ebe5",
       "version_major": 2,
       "version_minor": 0
      },
      "text/plain": [
       "Atal_Bihari_Vajpayee_0005.jpg:   0%|          | 0.00/8.94k [00:00<?, ?B/s]"
      ]
     },
     "metadata": {},
     "output_type": "display_data"
    },
    {
     "data": {
      "application/vnd.jupyter.widget-view+json": {
       "model_id": "a5e86e7c0c524a30a8d817a5e6ef100c",
       "version_major": 2,
       "version_minor": 0
      },
      "text/plain": [
       "Atal_Bihari_Vajpayee_0006.jpg:   0%|          | 0.00/7.84k [00:00<?, ?B/s]"
      ]
     },
     "metadata": {},
     "output_type": "display_data"
    },
    {
     "data": {
      "application/vnd.jupyter.widget-view+json": {
       "model_id": "695cb85881554b51b9853b30c10d601d",
       "version_major": 2,
       "version_minor": 0
      },
      "text/plain": [
       "Atal_Bihari_Vajpayee_0007.jpg:   0%|          | 0.00/7.59k [00:00<?, ?B/s]"
      ]
     },
     "metadata": {},
     "output_type": "display_data"
    },
    {
     "data": {
      "application/vnd.jupyter.widget-view+json": {
       "model_id": "b4516aef2c7c408cb08d3e839add9047",
       "version_major": 2,
       "version_minor": 0
      },
      "text/plain": [
       "Atal_Bihari_Vajpayee_0008.jpg:   0%|          | 0.00/9.50k [00:00<?, ?B/s]"
      ]
     },
     "metadata": {},
     "output_type": "display_data"
    },
    {
     "data": {
      "application/vnd.jupyter.widget-view+json": {
       "model_id": "940d8fb9595b42ac94f230be36b421a7",
       "version_major": 2,
       "version_minor": 0
      },
      "text/plain": [
       "Atal_Bihari_Vajpayee_0009.jpg:   0%|          | 0.00/9.31k [00:00<?, ?B/s]"
      ]
     },
     "metadata": {},
     "output_type": "display_data"
    },
    {
     "data": {
      "application/vnd.jupyter.widget-view+json": {
       "model_id": "131c82ca5f364ad2a1ada8017b720deb",
       "version_major": 2,
       "version_minor": 0
      },
      "text/plain": [
       "Atal_Bihari_Vajpayee_0010.jpg:   0%|          | 0.00/7.66k [00:00<?, ?B/s]"
      ]
     },
     "metadata": {},
     "output_type": "display_data"
    },
    {
     "data": {
      "application/vnd.jupyter.widget-view+json": {
       "model_id": "3d3f248cc62b49f6bb9a7c8fff203dfa",
       "version_major": 2,
       "version_minor": 0
      },
      "text/plain": [
       "Atal_Bihari_Vajpayee_0011.jpg:   0%|          | 0.00/9.00k [00:00<?, ?B/s]"
      ]
     },
     "metadata": {},
     "output_type": "display_data"
    },
    {
     "data": {
      "application/vnd.jupyter.widget-view+json": {
       "model_id": "1f690b3e6e0a4bf785d3b53c85b0959d",
       "version_major": 2,
       "version_minor": 0
      },
      "text/plain": [
       "Atal_Bihari_Vajpayee_0012.jpg:   0%|          | 0.00/10.8k [00:00<?, ?B/s]"
      ]
     },
     "metadata": {},
     "output_type": "display_data"
    },
    {
     "data": {
      "application/vnd.jupyter.widget-view+json": {
       "model_id": "38dc6c32e68345458235a95def699eee",
       "version_major": 2,
       "version_minor": 0
      },
      "text/plain": [
       "Atal_Bihari_Vajpayee_0013.jpg:   0%|          | 0.00/7.05k [00:00<?, ?B/s]"
      ]
     },
     "metadata": {},
     "output_type": "display_data"
    },
    {
     "data": {
      "application/vnd.jupyter.widget-view+json": {
       "model_id": "3c6b6c7148454580893404678b5c5f61",
       "version_major": 2,
       "version_minor": 0
      },
      "text/plain": [
       "Atal_Bihari_Vajpayee_0014.jpg:   0%|          | 0.00/9.26k [00:00<?, ?B/s]"
      ]
     },
     "metadata": {},
     "output_type": "display_data"
    },
    {
     "data": {
      "application/vnd.jupyter.widget-view+json": {
       "model_id": "c04209e2e29648d09301b9936722bdc6",
       "version_major": 2,
       "version_minor": 0
      },
      "text/plain": [
       "Atal_Bihari_Vajpayee_0015.jpg:   0%|          | 0.00/9.50k [00:00<?, ?B/s]"
      ]
     },
     "metadata": {},
     "output_type": "display_data"
    },
    {
     "data": {
      "application/vnd.jupyter.widget-view+json": {
       "model_id": "bc38179f901a4b72b78d9c1dbc90c4f8",
       "version_major": 2,
       "version_minor": 0
      },
      "text/plain": [
       "Atal_Bihari_Vajpayee_0016.jpg:   0%|          | 0.00/8.14k [00:00<?, ?B/s]"
      ]
     },
     "metadata": {},
     "output_type": "display_data"
    },
    {
     "data": {
      "application/vnd.jupyter.widget-view+json": {
       "model_id": "0ea977c021094b4ca10e2315280d5664",
       "version_major": 2,
       "version_minor": 0
      },
      "text/plain": [
       "Atal_Bihari_Vajpayee_0017.jpg:   0%|          | 0.00/8.58k [00:00<?, ?B/s]"
      ]
     },
     "metadata": {},
     "output_type": "display_data"
    },
    {
     "data": {
      "application/vnd.jupyter.widget-view+json": {
       "model_id": "7a5e669baa274259badf9bb1b10c3ed2",
       "version_major": 2,
       "version_minor": 0
      },
      "text/plain": [
       "Atal_Bihari_Vajpayee_0018.jpg:   0%|          | 0.00/7.77k [00:00<?, ?B/s]"
      ]
     },
     "metadata": {},
     "output_type": "display_data"
    },
    {
     "data": {
      "application/vnd.jupyter.widget-view+json": {
       "model_id": "8cb62adb7ce445abbbe12467cfac070b",
       "version_major": 2,
       "version_minor": 0
      },
      "text/plain": [
       "Atal_Bihari_Vajpayee_0019.jpg:   0%|          | 0.00/12.2k [00:00<?, ?B/s]"
      ]
     },
     "metadata": {},
     "output_type": "display_data"
    },
    {
     "data": {
      "application/vnd.jupyter.widget-view+json": {
       "model_id": "fee17a8f8f6046ecb32f4e7f7f6a200f",
       "version_major": 2,
       "version_minor": 0
      },
      "text/plain": [
       "Atal_Bihari_Vajpayee_0020.jpg:   0%|          | 0.00/7.78k [00:00<?, ?B/s]"
      ]
     },
     "metadata": {},
     "output_type": "display_data"
    },
    {
     "data": {
      "application/vnd.jupyter.widget-view+json": {
       "model_id": "cfec1ba82df941ca9d1e84ae4dd5959b",
       "version_major": 2,
       "version_minor": 0
      },
      "text/plain": [
       "Atal_Bihari_Vajpayee_0021.jpg:   0%|          | 0.00/7.39k [00:00<?, ?B/s]"
      ]
     },
     "metadata": {},
     "output_type": "display_data"
    },
    {
     "data": {
      "application/vnd.jupyter.widget-view+json": {
       "model_id": "78129fc496b04f2ca961443fcc9b366c",
       "version_major": 2,
       "version_minor": 0
      },
      "text/plain": [
       "Atal_Bihari_Vajpayee_0022.jpg:   0%|          | 0.00/9.52k [00:00<?, ?B/s]"
      ]
     },
     "metadata": {},
     "output_type": "display_data"
    },
    {
     "data": {
      "application/vnd.jupyter.widget-view+json": {
       "model_id": "1e54f7396e394006b94fb7d640ca19cc",
       "version_major": 2,
       "version_minor": 0
      },
      "text/plain": [
       "Atal_Bihari_Vajpayee_0023.jpg:   0%|          | 0.00/10.1k [00:00<?, ?B/s]"
      ]
     },
     "metadata": {},
     "output_type": "display_data"
    },
    {
     "data": {
      "application/vnd.jupyter.widget-view+json": {
       "model_id": "31985a6bb525406f8707e2e3a95cc7ac",
       "version_major": 2,
       "version_minor": 0
      },
      "text/plain": [
       "Atal_Bihari_Vajpayee_0024.jpg:   0%|          | 0.00/7.61k [00:00<?, ?B/s]"
      ]
     },
     "metadata": {},
     "output_type": "display_data"
    },
    {
     "data": {
      "application/vnd.jupyter.widget-view+json": {
       "model_id": "1bec00669b204561a7afe0bcc988567d",
       "version_major": 2,
       "version_minor": 0
      },
      "text/plain": [
       "Ataollah_Mohajerani_0001.jpg:   0%|          | 0.00/11.4k [00:00<?, ?B/s]"
      ]
     },
     "metadata": {},
     "output_type": "display_data"
    },
    {
     "data": {
      "application/vnd.jupyter.widget-view+json": {
       "model_id": "9d23e82ed3b94fd09165fb8a612713aa",
       "version_major": 2,
       "version_minor": 0
      },
      "text/plain": [
       "Atiabet_Ijan_Amabel_0001.jpg:   0%|          | 0.00/8.90k [00:00<?, ?B/s]"
      ]
     },
     "metadata": {},
     "output_type": "display_data"
    },
    {
     "data": {
      "application/vnd.jupyter.widget-view+json": {
       "model_id": "ef8ad483cd8f4797803c90a9e36f50e9",
       "version_major": 2,
       "version_minor": 0
      },
      "text/plain": [
       "Atom_Egoyan_0001.jpg:   0%|          | 0.00/9.45k [00:00<?, ?B/s]"
      ]
     },
     "metadata": {},
     "output_type": "display_data"
    },
    {
     "data": {
      "application/vnd.jupyter.widget-view+json": {
       "model_id": "2e348379052b46c29e9afc75e62edb1e",
       "version_major": 2,
       "version_minor": 0
      },
      "text/plain": [
       "Atsushi_Sato_0001.jpg:   0%|          | 0.00/7.73k [00:00<?, ?B/s]"
      ]
     },
     "metadata": {},
     "output_type": "display_data"
    },
    {
     "data": {
      "application/vnd.jupyter.widget-view+json": {
       "model_id": "ca80fd6f3eb94ac4ae0bf3761c214e7e",
       "version_major": 2,
       "version_minor": 0
      },
      "text/plain": [
       "Audrey_Lacroix_0001.jpg:   0%|          | 0.00/9.21k [00:00<?, ?B/s]"
      ]
     },
     "metadata": {},
     "output_type": "display_data"
    },
    {
     "data": {
      "application/vnd.jupyter.widget-view+json": {
       "model_id": "9c23ddcf215d46c0b783784befca678c",
       "version_major": 2,
       "version_minor": 0
      },
      "text/plain": [
       "Audrey_Sauret_0001.jpg:   0%|          | 0.00/9.62k [00:00<?, ?B/s]"
      ]
     },
     "metadata": {},
     "output_type": "display_data"
    },
    {
     "data": {
      "application/vnd.jupyter.widget-view+json": {
       "model_id": "ac8d6c8bc9c145088e36bf45c077a6c8",
       "version_major": 2,
       "version_minor": 0
      },
      "text/plain": [
       "Augustin_Calleri_0001.jpg:   0%|          | 0.00/9.08k [00:00<?, ?B/s]"
      ]
     },
     "metadata": {},
     "output_type": "display_data"
    },
    {
     "data": {
      "application/vnd.jupyter.widget-view+json": {
       "model_id": "6bdd685b9e594237a1fa37bc418d3107",
       "version_major": 2,
       "version_minor": 0
      },
      "text/plain": [
       "Augustin_Calleri_0002.jpg:   0%|          | 0.00/7.99k [00:00<?, ?B/s]"
      ]
     },
     "metadata": {},
     "output_type": "display_data"
    },
    {
     "data": {
      "application/vnd.jupyter.widget-view+json": {
       "model_id": "812767ca18a445c8ba2489c03b759f8a",
       "version_major": 2,
       "version_minor": 0
      },
      "text/plain": [
       "Augustin_Calleri_0003.jpg:   0%|          | 0.00/8.37k [00:00<?, ?B/s]"
      ]
     },
     "metadata": {},
     "output_type": "display_data"
    },
    {
     "data": {
      "application/vnd.jupyter.widget-view+json": {
       "model_id": "3e13a3ad2cdb4c78891dbd2def7e30ee",
       "version_major": 2,
       "version_minor": 0
      },
      "text/plain": [
       "Augusto_Pinochet_0001.jpg:   0%|          | 0.00/8.22k [00:00<?, ?B/s]"
      ]
     },
     "metadata": {},
     "output_type": "display_data"
    },
    {
     "data": {
      "application/vnd.jupyter.widget-view+json": {
       "model_id": "71b628d1bb6e4909887fb3c335ff6025",
       "version_major": 2,
       "version_minor": 0
      },
      "text/plain": [
       "Augustin_Calleri_0004.jpg:   0%|          | 0.00/9.47k [00:00<?, ?B/s]"
      ]
     },
     "metadata": {},
     "output_type": "display_data"
    },
    {
     "data": {
      "application/vnd.jupyter.widget-view+json": {
       "model_id": "e8028fe47aab4b7992995712fb1537be",
       "version_major": 2,
       "version_minor": 0
      },
      "text/plain": [
       "Augusto_Pinochet_0002.jpg:   0%|          | 0.00/7.78k [00:00<?, ?B/s]"
      ]
     },
     "metadata": {},
     "output_type": "display_data"
    },
    {
     "data": {
      "application/vnd.jupyter.widget-view+json": {
       "model_id": "a941321108014f53b93dea97dcb01eab",
       "version_major": 2,
       "version_minor": 0
      },
      "text/plain": [
       "Augusto_Roa_Bastos_0001.jpg:   0%|          | 0.00/8.76k [00:00<?, ?B/s]"
      ]
     },
     "metadata": {},
     "output_type": "display_data"
    },
    {
     "data": {
      "application/vnd.jupyter.widget-view+json": {
       "model_id": "f665f287a164438ba9ee29ffaeb811b4",
       "version_major": 2,
       "version_minor": 0
      },
      "text/plain": [
       "Augusto_Roa_Bastos_0002.jpg:   0%|          | 0.00/8.28k [00:00<?, ?B/s]"
      ]
     },
     "metadata": {},
     "output_type": "display_data"
    },
    {
     "data": {
      "application/vnd.jupyter.widget-view+json": {
       "model_id": "0da118c66e51432ab1823b4667e5de97",
       "version_major": 2,
       "version_minor": 0
      },
      "text/plain": [
       "Aung_San_Suu_Kyi_0001.jpg:   0%|          | 0.00/8.46k [00:00<?, ?B/s]"
      ]
     },
     "metadata": {},
     "output_type": "display_data"
    },
    {
     "data": {
      "application/vnd.jupyter.widget-view+json": {
       "model_id": "0fcb01818dde41c18ff515de88992e50",
       "version_major": 2,
       "version_minor": 0
      },
      "text/plain": [
       "Aung_San_Suu_Kyi_0002.jpg:   0%|          | 0.00/10.1k [00:00<?, ?B/s]"
      ]
     },
     "metadata": {},
     "output_type": "display_data"
    },
    {
     "data": {
      "application/vnd.jupyter.widget-view+json": {
       "model_id": "36e6be36a2d7404ab9bec711f5751cf3",
       "version_major": 2,
       "version_minor": 0
      },
      "text/plain": [
       "Austin_Kearns_0001.jpg:   0%|          | 0.00/10.5k [00:00<?, ?B/s]"
      ]
     },
     "metadata": {},
     "output_type": "display_data"
    },
    {
     "data": {
      "application/vnd.jupyter.widget-view+json": {
       "model_id": "5b1f8db1203a46309105b028706da1a3",
       "version_major": 2,
       "version_minor": 0
      },
      "text/plain": [
       "Avril_Lavigne_0001.jpg:   0%|          | 0.00/7.68k [00:00<?, ?B/s]"
      ]
     },
     "metadata": {},
     "output_type": "display_data"
    },
    {
     "data": {
      "application/vnd.jupyter.widget-view+json": {
       "model_id": "f0bcd09d2bf247c2a85ed694e76bb807",
       "version_major": 2,
       "version_minor": 0
      },
      "text/plain": [
       "Azmi_Bishara_0001.jpg:   0%|          | 0.00/8.96k [00:00<?, ?B/s]"
      ]
     },
     "metadata": {},
     "output_type": "display_data"
    },
    {
     "data": {
      "application/vnd.jupyter.widget-view+json": {
       "model_id": "4842a21f60a34efda52b9c2209a6e002",
       "version_major": 2,
       "version_minor": 0
      },
      "text/plain": [
       "Azra_Akin_0001.jpg:   0%|          | 0.00/9.41k [00:00<?, ?B/s]"
      ]
     },
     "metadata": {},
     "output_type": "display_data"
    },
    {
     "data": {
      "application/vnd.jupyter.widget-view+json": {
       "model_id": "6939bd943af34bcca571a8b96305ab96",
       "version_major": 2,
       "version_minor": 0
      },
      "text/plain": [
       "Azra_Akin_0002.jpg:   0%|          | 0.00/12.8k [00:00<?, ?B/s]"
      ]
     },
     "metadata": {},
     "output_type": "display_data"
    },
    {
     "data": {
      "application/vnd.jupyter.widget-view+json": {
       "model_id": "7be3f06c276441a6baa3d8e1b310aecd",
       "version_major": 2,
       "version_minor": 0
      },
      "text/plain": [
       "Azra_Akin_0003.jpg:   0%|          | 0.00/12.4k [00:00<?, ?B/s]"
      ]
     },
     "metadata": {},
     "output_type": "display_data"
    },
    {
     "data": {
      "application/vnd.jupyter.widget-view+json": {
       "model_id": "0e504a77b25c4f4fa66e33739a1aa47b",
       "version_major": 2,
       "version_minor": 0
      },
      "text/plain": [
       "Azra_Akin_0004.jpg:   0%|          | 0.00/10.1k [00:00<?, ?B/s]"
      ]
     },
     "metadata": {},
     "output_type": "display_data"
    },
    {
     "data": {
      "application/vnd.jupyter.widget-view+json": {
       "model_id": "342764a984ce472884816852e14c8529",
       "version_major": 2,
       "version_minor": 0
      },
      "text/plain": [
       "BB_King_0001.jpg:   0%|          | 0.00/9.01k [00:00<?, ?B/s]"
      ]
     },
     "metadata": {},
     "output_type": "display_data"
    },
    {
     "data": {
      "application/vnd.jupyter.widget-view+json": {
       "model_id": "1f988c1860b34ad18506441be84a4b36",
       "version_major": 2,
       "version_minor": 0
      },
      "text/plain": [
       "BJ_Habibie_0001.jpg:   0%|          | 0.00/8.85k [00:00<?, ?B/s]"
      ]
     },
     "metadata": {},
     "output_type": "display_data"
    },
    {
     "data": {
      "application/vnd.jupyter.widget-view+json": {
       "model_id": "c40d20e401a7487f943e5fb335535b36",
       "version_major": 2,
       "version_minor": 0
      },
      "text/plain": [
       "Babe_Ruth_0001.jpg:   0%|          | 0.00/8.21k [00:00<?, ?B/s]"
      ]
     },
     "metadata": {},
     "output_type": "display_data"
    },
    {
     "data": {
      "application/vnd.jupyter.widget-view+json": {
       "model_id": "0a4e8c0e722144a39b5415443eeea678",
       "version_major": 2,
       "version_minor": 0
      },
      "text/plain": [
       "Baburam_Bhattari_0001.jpg:   0%|          | 0.00/9.94k [00:00<?, ?B/s]"
      ]
     },
     "metadata": {},
     "output_type": "display_data"
    },
    {
     "data": {
      "application/vnd.jupyter.widget-view+json": {
       "model_id": "80a337ada11c4301ab783b7affb31300",
       "version_major": 2,
       "version_minor": 0
      },
      "text/plain": [
       "Bak_Chang-Ryun_0001.jpg:   0%|          | 0.00/9.04k [00:00<?, ?B/s]"
      ]
     },
     "metadata": {},
     "output_type": "display_data"
    },
    {
     "data": {
      "application/vnd.jupyter.widget-view+json": {
       "model_id": "69056c7e693c42a3a86eaecfb5ba8864",
       "version_major": 2,
       "version_minor": 0
      },
      "text/plain": [
       "Barbara_Bach_0001.jpg:   0%|          | 0.00/9.60k [00:00<?, ?B/s]"
      ]
     },
     "metadata": {},
     "output_type": "display_data"
    },
    {
     "data": {
      "application/vnd.jupyter.widget-view+json": {
       "model_id": "f05a49ca67ef4f93a5745fb1bb1cbbd6",
       "version_major": 2,
       "version_minor": 0
      },
      "text/plain": [
       "Barbara_Becker_0001.jpg:   0%|          | 0.00/10.2k [00:00<?, ?B/s]"
      ]
     },
     "metadata": {},
     "output_type": "display_data"
    },
    {
     "data": {
      "application/vnd.jupyter.widget-view+json": {
       "model_id": "4834d316a14c4a7484b5e443f28135b8",
       "version_major": 2,
       "version_minor": 0
      },
      "text/plain": [
       "Barbara_Bodine_0001.jpg:   0%|          | 0.00/10.1k [00:00<?, ?B/s]"
      ]
     },
     "metadata": {},
     "output_type": "display_data"
    },
    {
     "data": {
      "application/vnd.jupyter.widget-view+json": {
       "model_id": "ea3e88022e6f4489999329026756fbd7",
       "version_major": 2,
       "version_minor": 0
      },
      "text/plain": [
       "Barbara_Boxer_0001.jpg:   0%|          | 0.00/8.93k [00:00<?, ?B/s]"
      ]
     },
     "metadata": {},
     "output_type": "display_data"
    },
    {
     "data": {
      "application/vnd.jupyter.widget-view+json": {
       "model_id": "495257e2736c496e84e32ef886f31696",
       "version_major": 2,
       "version_minor": 0
      },
      "text/plain": [
       "Barbara_Brezigar_0001.jpg:   0%|          | 0.00/8.27k [00:00<?, ?B/s]"
      ]
     },
     "metadata": {},
     "output_type": "display_data"
    },
    {
     "data": {
      "application/vnd.jupyter.widget-view+json": {
       "model_id": "b5cf83a1f0d14f8caf7cf10e9ee48638",
       "version_major": 2,
       "version_minor": 0
      },
      "text/plain": [
       "Barbara_Brezigar_0002.jpg:   0%|          | 0.00/8.32k [00:00<?, ?B/s]"
      ]
     },
     "metadata": {},
     "output_type": "display_data"
    },
    {
     "data": {
      "application/vnd.jupyter.widget-view+json": {
       "model_id": "3106fab1d6184699adb80f472b327405",
       "version_major": 2,
       "version_minor": 0
      },
      "text/plain": [
       "Barbara_De_Brun_0001.jpg:   0%|          | 0.00/7.30k [00:00<?, ?B/s]"
      ]
     },
     "metadata": {},
     "output_type": "display_data"
    },
    {
     "data": {
      "application/vnd.jupyter.widget-view+json": {
       "model_id": "9171be6292cf4617a8a804663fb51070",
       "version_major": 2,
       "version_minor": 0
      },
      "text/plain": [
       "Barbara_Esbin_0001.jpg:   0%|          | 0.00/10.4k [00:00<?, ?B/s]"
      ]
     },
     "metadata": {},
     "output_type": "display_data"
    },
    {
     "data": {
      "application/vnd.jupyter.widget-view+json": {
       "model_id": "64d9247f953a43899f7f85038d110472",
       "version_major": 2,
       "version_minor": 0
      },
      "text/plain": [
       "Barbara_Felt-Miller_0001.jpg:   0%|          | 0.00/7.89k [00:00<?, ?B/s]"
      ]
     },
     "metadata": {},
     "output_type": "display_data"
    },
    {
     "data": {
      "application/vnd.jupyter.widget-view+json": {
       "model_id": "600ea286b69949b8997c82c9de03aeb5",
       "version_major": 2,
       "version_minor": 0
      },
      "text/plain": [
       "Barbara_Roberts_0001.jpg:   0%|          | 0.00/9.91k [00:00<?, ?B/s]"
      ]
     },
     "metadata": {},
     "output_type": "display_data"
    },
    {
     "data": {
      "application/vnd.jupyter.widget-view+json": {
       "model_id": "0f6e564d56794c658634dc7c88b09f66",
       "version_major": 2,
       "version_minor": 0
      },
      "text/plain": [
       "Barbara_Walters_0001.jpg:   0%|          | 0.00/9.88k [00:00<?, ?B/s]"
      ]
     },
     "metadata": {},
     "output_type": "display_data"
    },
    {
     "data": {
      "application/vnd.jupyter.widget-view+json": {
       "model_id": "5cd3d446a7364740b1a3a343898ed9b4",
       "version_major": 2,
       "version_minor": 0
      },
      "text/plain": [
       "Barbara_Walters_0002.jpg:   0%|          | 0.00/10.9k [00:00<?, ?B/s]"
      ]
     },
     "metadata": {},
     "output_type": "display_data"
    },
    {
     "data": {
      "application/vnd.jupyter.widget-view+json": {
       "model_id": "55a317f2c4034046ba39554468da173c",
       "version_major": 2,
       "version_minor": 0
      },
      "text/plain": [
       "Barbara_Walters_0003.jpg:   0%|          | 0.00/10.4k [00:00<?, ?B/s]"
      ]
     },
     "metadata": {},
     "output_type": "display_data"
    },
    {
     "data": {
      "application/vnd.jupyter.widget-view+json": {
       "model_id": "3c489228178947e6b36b339caa5d2060",
       "version_major": 2,
       "version_minor": 0
      },
      "text/plain": [
       "Barbara_Walters_0004.jpg:   0%|          | 0.00/10.0k [00:00<?, ?B/s]"
      ]
     },
     "metadata": {},
     "output_type": "display_data"
    },
    {
     "data": {
      "application/vnd.jupyter.widget-view+json": {
       "model_id": "990b3d9e1f934fbaa2b0f2e7821502a1",
       "version_major": 2,
       "version_minor": 0
      },
      "text/plain": [
       "Barbora_Strycova_0001.jpg:   0%|          | 0.00/8.97k [00:00<?, ?B/s]"
      ]
     },
     "metadata": {},
     "output_type": "display_data"
    },
    {
     "data": {
      "application/vnd.jupyter.widget-view+json": {
       "model_id": "b1c579c106784ec3b7f6f48ee969a0cf",
       "version_major": 2,
       "version_minor": 0
      },
      "text/plain": [
       "Barbra_Streisand_0001.jpg:   0%|          | 0.00/9.40k [00:00<?, ?B/s]"
      ]
     },
     "metadata": {},
     "output_type": "display_data"
    },
    {
     "data": {
      "application/vnd.jupyter.widget-view+json": {
       "model_id": "a232a8456ad8485da64779a1e970fc4d",
       "version_major": 2,
       "version_minor": 0
      },
      "text/plain": [
       "Barbra_Streisand_0002.jpg:   0%|          | 0.00/7.73k [00:00<?, ?B/s]"
      ]
     },
     "metadata": {},
     "output_type": "display_data"
    },
    {
     "data": {
      "application/vnd.jupyter.widget-view+json": {
       "model_id": "bf4831ad8bf748e8bd7a94357ec20872",
       "version_major": 2,
       "version_minor": 0
      },
      "text/plain": [
       "Barbra_Streisand_0003.jpg:   0%|          | 0.00/8.63k [00:00<?, ?B/s]"
      ]
     },
     "metadata": {},
     "output_type": "display_data"
    },
    {
     "data": {
      "application/vnd.jupyter.widget-view+json": {
       "model_id": "c39531ab14fc4f30aaf2cf172dbebc66",
       "version_major": 2,
       "version_minor": 0
      },
      "text/plain": [
       "Barrett_Jackman_0001.jpg:   0%|          | 0.00/10.9k [00:00<?, ?B/s]"
      ]
     },
     "metadata": {},
     "output_type": "display_data"
    },
    {
     "data": {
      "application/vnd.jupyter.widget-view+json": {
       "model_id": "c27c896a562842689716d87e7f9ebad4",
       "version_major": 2,
       "version_minor": 0
      },
      "text/plain": [
       "Barrett_Jackman_0002.jpg:   0%|          | 0.00/7.83k [00:00<?, ?B/s]"
      ]
     },
     "metadata": {},
     "output_type": "display_data"
    },
    {
     "data": {
      "application/vnd.jupyter.widget-view+json": {
       "model_id": "36a7c85a51a94392b22ec753ed1a8a64",
       "version_major": 2,
       "version_minor": 0
      },
      "text/plain": [
       "Barry_Alvarez_0001.jpg:   0%|          | 0.00/8.00k [00:00<?, ?B/s]"
      ]
     },
     "metadata": {},
     "output_type": "display_data"
    },
    {
     "data": {
      "application/vnd.jupyter.widget-view+json": {
       "model_id": "0c909c0114ab4d70afb7e022728a0f67",
       "version_major": 2,
       "version_minor": 0
      },
      "text/plain": [
       "Barry_Alvarez_0002.jpg:   0%|          | 0.00/7.49k [00:00<?, ?B/s]"
      ]
     },
     "metadata": {},
     "output_type": "display_data"
    },
    {
     "data": {
      "application/vnd.jupyter.widget-view+json": {
       "model_id": "21a1681573b04600b52891ed759877f4",
       "version_major": 2,
       "version_minor": 0
      },
      "text/plain": [
       "Barry_Bonds_0001.jpg:   0%|          | 0.00/7.27k [00:00<?, ?B/s]"
      ]
     },
     "metadata": {},
     "output_type": "display_data"
    },
    {
     "data": {
      "application/vnd.jupyter.widget-view+json": {
       "model_id": "9bd334cfd74d45f19c2f4162a3f6ee6e",
       "version_major": 2,
       "version_minor": 0
      },
      "text/plain": [
       "Barry_Collier_0001.jpg:   0%|          | 0.00/8.19k [00:00<?, ?B/s]"
      ]
     },
     "metadata": {},
     "output_type": "display_data"
    },
    {
     "data": {
      "application/vnd.jupyter.widget-view+json": {
       "model_id": "7e7ac8ee67724982ae242d9d03c13b84",
       "version_major": 2,
       "version_minor": 0
      },
      "text/plain": [
       "Barry_Diller_0001.jpg:   0%|          | 0.00/7.21k [00:00<?, ?B/s]"
      ]
     },
     "metadata": {},
     "output_type": "display_data"
    },
    {
     "data": {
      "application/vnd.jupyter.widget-view+json": {
       "model_id": "a94e21d38fb24408a4b2b645a2f96622",
       "version_major": 2,
       "version_minor": 0
      },
      "text/plain": [
       "Barry_Ford_0001.jpg:   0%|          | 0.00/7.88k [00:00<?, ?B/s]"
      ]
     },
     "metadata": {},
     "output_type": "display_data"
    },
    {
     "data": {
      "application/vnd.jupyter.widget-view+json": {
       "model_id": "89e7b7aa8de4454793edfb0c8c2a8c9e",
       "version_major": 2,
       "version_minor": 0
      },
      "text/plain": [
       "Barry_Hinson_0001.jpg:   0%|          | 0.00/7.69k [00:00<?, ?B/s]"
      ]
     },
     "metadata": {},
     "output_type": "display_data"
    },
    {
     "data": {
      "application/vnd.jupyter.widget-view+json": {
       "model_id": "d78aed9bc3eb4572a5e1150f128ead8b",
       "version_major": 2,
       "version_minor": 0
      },
      "text/plain": [
       "Barry_Nakell_0001.jpg:   0%|          | 0.00/8.40k [00:00<?, ?B/s]"
      ]
     },
     "metadata": {},
     "output_type": "display_data"
    },
    {
     "data": {
      "application/vnd.jupyter.widget-view+json": {
       "model_id": "eb165f8822444235a8506d5f62f140f6",
       "version_major": 2,
       "version_minor": 0
      },
      "text/plain": [
       "Barry_Switzer_0001.jpg:   0%|          | 0.00/9.00k [00:00<?, ?B/s]"
      ]
     },
     "metadata": {},
     "output_type": "display_data"
    },
    {
     "data": {
      "application/vnd.jupyter.widget-view+json": {
       "model_id": "ae211b73dfe34c4eb9afb98db83c6598",
       "version_major": 2,
       "version_minor": 0
      },
      "text/plain": [
       "Barry_Williams_0001.jpg:   0%|          | 0.00/9.91k [00:00<?, ?B/s]"
      ]
     },
     "metadata": {},
     "output_type": "display_data"
    },
    {
     "data": {
      "application/vnd.jupyter.widget-view+json": {
       "model_id": "d7aacd5f89f2427a865ef40e48ad856a",
       "version_major": 2,
       "version_minor": 0
      },
      "text/plain": [
       "Barry_Zito_0001.jpg:   0%|          | 0.00/5.99k [00:00<?, ?B/s]"
      ]
     },
     "metadata": {},
     "output_type": "display_data"
    },
    {
     "data": {
      "application/vnd.jupyter.widget-view+json": {
       "model_id": "7d77a696fcf141abb213f9471c4f98bc",
       "version_major": 2,
       "version_minor": 0
      },
      "text/plain": [
       "Barry_Zito_0002.jpg:   0%|          | 0.00/8.98k [00:00<?, ?B/s]"
      ]
     },
     "metadata": {},
     "output_type": "display_data"
    },
    {
     "data": {
      "application/vnd.jupyter.widget-view+json": {
       "model_id": "479c4af1bd15401c899d5eebd7b243a4",
       "version_major": 2,
       "version_minor": 0
      },
      "text/plain": [
       "Bart_Freundlich_0001.jpg:   0%|          | 0.00/7.42k [00:00<?, ?B/s]"
      ]
     },
     "metadata": {},
     "output_type": "display_data"
    },
    {
     "data": {
      "application/vnd.jupyter.widget-view+json": {
       "model_id": "5c83f867659949f9aaaad6654d997319",
       "version_major": 2,
       "version_minor": 0
      },
      "text/plain": [
       "Bart_Hendricks_0001.jpg:   0%|          | 0.00/7.35k [00:00<?, ?B/s]"
      ]
     },
     "metadata": {},
     "output_type": "display_data"
    },
    {
     "data": {
      "application/vnd.jupyter.widget-view+json": {
       "model_id": "c939a5d167c34a4b9f7078801ae571a5",
       "version_major": 2,
       "version_minor": 0
      },
      "text/plain": [
       "Bartosz_Kizierowski_0001.jpg:   0%|          | 0.00/8.93k [00:00<?, ?B/s]"
      ]
     },
     "metadata": {},
     "output_type": "display_data"
    },
    {
     "data": {
      "application/vnd.jupyter.widget-view+json": {
       "model_id": "69633091d89c420fabfaf5cbb26df4ef",
       "version_major": 2,
       "version_minor": 0
      },
      "text/plain": [
       "Barzan_al-Tikriti_0001.jpg:   0%|          | 0.00/11.6k [00:00<?, ?B/s]"
      ]
     },
     "metadata": {},
     "output_type": "display_data"
    },
    {
     "data": {
      "application/vnd.jupyter.widget-view+json": {
       "model_id": "5f5bc7f5f0a5429e9a763fcf76980ba0",
       "version_major": 2,
       "version_minor": 0
      },
      "text/plain": [
       "Basdeo_Panday_0001.jpg:   0%|          | 0.00/9.34k [00:00<?, ?B/s]"
      ]
     },
     "metadata": {},
     "output_type": "display_data"
    },
    {
     "data": {
      "application/vnd.jupyter.widget-view+json": {
       "model_id": "8ab92700ff9a4f43a7f64b00a67d1eda",
       "version_major": 2,
       "version_minor": 0
      },
      "text/plain": [
       "Bashar_Assad_0001.jpg:   0%|          | 0.00/8.14k [00:00<?, ?B/s]"
      ]
     },
     "metadata": {},
     "output_type": "display_data"
    },
    {
     "data": {
      "application/vnd.jupyter.widget-view+json": {
       "model_id": "592636d2c2504edc9ae34127051fde9b",
       "version_major": 2,
       "version_minor": 0
      },
      "text/plain": [
       "Bashar_Assad_0002.jpg:   0%|          | 0.00/8.29k [00:00<?, ?B/s]"
      ]
     },
     "metadata": {},
     "output_type": "display_data"
    },
    {
     "data": {
      "application/vnd.jupyter.widget-view+json": {
       "model_id": "2e727b9d59cb41379bdd059d6e98a334",
       "version_major": 2,
       "version_minor": 0
      },
      "text/plain": [
       "Bashar_Assad_0003.jpg:   0%|          | 0.00/7.65k [00:00<?, ?B/s]"
      ]
     },
     "metadata": {},
     "output_type": "display_data"
    },
    {
     "data": {
      "application/vnd.jupyter.widget-view+json": {
       "model_id": "31bb6ed6905f4c45b50d8ccb74d504fd",
       "version_major": 2,
       "version_minor": 0
      },
      "text/plain": [
       "Bashar_Assad_0004.jpg:   0%|          | 0.00/9.87k [00:00<?, ?B/s]"
      ]
     },
     "metadata": {},
     "output_type": "display_data"
    },
    {
     "data": {
      "application/vnd.jupyter.widget-view+json": {
       "model_id": "dcee8e294119492db73f8fa5c23d7a7d",
       "version_major": 2,
       "version_minor": 0
      },
      "text/plain": [
       "Baz_Luhrmann_0001.jpg:   0%|          | 0.00/8.24k [00:00<?, ?B/s]"
      ]
     },
     "metadata": {},
     "output_type": "display_data"
    },
    {
     "data": {
      "application/vnd.jupyter.widget-view+json": {
       "model_id": "0757a0900bc64d04b85aea76aa4a3128",
       "version_major": 2,
       "version_minor": 0
      },
      "text/plain": [
       "Beatrice_Dalle_0001.jpg:   0%|          | 0.00/10.2k [00:00<?, ?B/s]"
      ]
     },
     "metadata": {},
     "output_type": "display_data"
    },
    {
     "data": {
      "application/vnd.jupyter.widget-view+json": {
       "model_id": "58fad1a6db594409a431f663e5d5b729",
       "version_major": 2,
       "version_minor": 0
      },
      "text/plain": [
       "Beatriz_Merino_0001.jpg:   0%|          | 0.00/7.66k [00:00<?, ?B/s]"
      ]
     },
     "metadata": {},
     "output_type": "display_data"
    },
    {
     "data": {
      "application/vnd.jupyter.widget-view+json": {
       "model_id": "bc2d1f52843d496b9dd34445eea1792f",
       "version_major": 2,
       "version_minor": 0
      },
      "text/plain": [
       "Beecher_Ray_Kirby_0001.jpg:   0%|          | 0.00/11.2k [00:00<?, ?B/s]"
      ]
     },
     "metadata": {},
     "output_type": "display_data"
    },
    {
     "data": {
      "application/vnd.jupyter.widget-view+json": {
       "model_id": "c7033640199946a5a19fd6dca348c7f0",
       "version_major": 2,
       "version_minor": 0
      },
      "text/plain": [
       "Begum_Khaleda_Zia_0001.jpg:   0%|          | 0.00/9.27k [00:00<?, ?B/s]"
      ]
     },
     "metadata": {},
     "output_type": "display_data"
    },
    {
     "data": {
      "application/vnd.jupyter.widget-view+json": {
       "model_id": "c57f1a1afd894ab282fee5c164d5a470",
       "version_major": 2,
       "version_minor": 0
      },
      "text/plain": [
       "Begum_Khaleda_Zia_0002.jpg:   0%|          | 0.00/9.35k [00:00<?, ?B/s]"
      ]
     },
     "metadata": {},
     "output_type": "display_data"
    },
    {
     "data": {
      "application/vnd.jupyter.widget-view+json": {
       "model_id": "d5ecbb18bd1e4a538319b56696de251c",
       "version_major": 2,
       "version_minor": 0
      },
      "text/plain": [
       "Bela_Karolyi_0001.jpg:   0%|          | 0.00/6.89k [00:00<?, ?B/s]"
      ]
     },
     "metadata": {},
     "output_type": "display_data"
    },
    {
     "data": {
      "application/vnd.jupyter.widget-view+json": {
       "model_id": "9faa1e2c455e4c3f8471d2cae05457e6",
       "version_major": 2,
       "version_minor": 0
      },
      "text/plain": [
       "Ben_Affleck_0001.jpg:   0%|          | 0.00/11.0k [00:00<?, ?B/s]"
      ]
     },
     "metadata": {},
     "output_type": "display_data"
    },
    {
     "data": {
      "application/vnd.jupyter.widget-view+json": {
       "model_id": "ef4f1642dafc43bcbc73efa03a0da7ff",
       "version_major": 2,
       "version_minor": 0
      },
      "text/plain": [
       "Ben_Affleck_0002.jpg:   0%|          | 0.00/8.94k [00:00<?, ?B/s]"
      ]
     },
     "metadata": {},
     "output_type": "display_data"
    },
    {
     "data": {
      "application/vnd.jupyter.widget-view+json": {
       "model_id": "01946ec4754e4a0cb50176067d786144",
       "version_major": 2,
       "version_minor": 0
      },
      "text/plain": [
       "Ben_Affleck_0004.jpg:   0%|          | 0.00/8.95k [00:00<?, ?B/s]"
      ]
     },
     "metadata": {},
     "output_type": "display_data"
    },
    {
     "data": {
      "application/vnd.jupyter.widget-view+json": {
       "model_id": "e663c8248bc549d7b76fc3c4ba178063",
       "version_major": 2,
       "version_minor": 0
      },
      "text/plain": [
       "Ben_Affleck_0003.jpg:   0%|          | 0.00/10.8k [00:00<?, ?B/s]"
      ]
     },
     "metadata": {},
     "output_type": "display_data"
    },
    {
     "data": {
      "application/vnd.jupyter.widget-view+json": {
       "model_id": "0e693111c02d480cb8524b9dc1117db9",
       "version_major": 2,
       "version_minor": 0
      },
      "text/plain": [
       "Ben_Affleck_0005.jpg:   0%|          | 0.00/8.21k [00:00<?, ?B/s]"
      ]
     },
     "metadata": {},
     "output_type": "display_data"
    },
    {
     "data": {
      "application/vnd.jupyter.widget-view+json": {
       "model_id": "9669fdd454e8468cba2bc173a94a859e",
       "version_major": 2,
       "version_minor": 0
      },
      "text/plain": [
       "Ben_Affleck_0006.jpg:   0%|          | 0.00/9.48k [00:00<?, ?B/s]"
      ]
     },
     "metadata": {},
     "output_type": "display_data"
    },
    {
     "data": {
      "application/vnd.jupyter.widget-view+json": {
       "model_id": "5a31e803018d4a66961b8902ad83d92a",
       "version_major": 2,
       "version_minor": 0
      },
      "text/plain": [
       "Ben_Affleck_0007.jpg:   0%|          | 0.00/10.2k [00:00<?, ?B/s]"
      ]
     },
     "metadata": {},
     "output_type": "display_data"
    },
    {
     "data": {
      "application/vnd.jupyter.widget-view+json": {
       "model_id": "43ae1f52fbc7488ab6b5c9ca5f958b98",
       "version_major": 2,
       "version_minor": 0
      },
      "text/plain": [
       "Ben_Betts_0001.jpg:   0%|          | 0.00/7.09k [00:00<?, ?B/s]"
      ]
     },
     "metadata": {},
     "output_type": "display_data"
    },
    {
     "data": {
      "application/vnd.jupyter.widget-view+json": {
       "model_id": "cc4eebb2845e425481e2cd116317eed7",
       "version_major": 2,
       "version_minor": 0
      },
      "text/plain": [
       "Ben_Braun_0001.jpg:   0%|          | 0.00/8.98k [00:00<?, ?B/s]"
      ]
     },
     "metadata": {},
     "output_type": "display_data"
    },
    {
     "data": {
      "application/vnd.jupyter.widget-view+json": {
       "model_id": "b559cb97835142ff92b834d9abbff70b",
       "version_major": 2,
       "version_minor": 0
      },
      "text/plain": [
       "Ben_Broussard_0001.jpg:   0%|          | 0.00/8.47k [00:00<?, ?B/s]"
      ]
     },
     "metadata": {},
     "output_type": "display_data"
    },
    {
     "data": {
      "application/vnd.jupyter.widget-view+json": {
       "model_id": "7b8d1b87318a4fbdb784bdbda723873b",
       "version_major": 2,
       "version_minor": 0
      },
      "text/plain": [
       "Ben_Cahoon_0001.jpg:   0%|          | 0.00/9.82k [00:00<?, ?B/s]"
      ]
     },
     "metadata": {},
     "output_type": "display_data"
    },
    {
     "data": {
      "application/vnd.jupyter.widget-view+json": {
       "model_id": "9dd19d53700b4aa7b12f57e093406580",
       "version_major": 2,
       "version_minor": 0
      },
      "text/plain": [
       "Ben_Chandler_0001.jpg:   0%|          | 0.00/9.70k [00:00<?, ?B/s]"
      ]
     },
     "metadata": {},
     "output_type": "display_data"
    },
    {
     "data": {
      "application/vnd.jupyter.widget-view+json": {
       "model_id": "a8def496759f4caaad81112240c7fc52",
       "version_major": 2,
       "version_minor": 0
      },
      "text/plain": [
       "Ben_Cohen_0001.jpg:   0%|          | 0.00/8.85k [00:00<?, ?B/s]"
      ]
     },
     "metadata": {},
     "output_type": "display_data"
    },
    {
     "data": {
      "application/vnd.jupyter.widget-view+json": {
       "model_id": "6f1e6717613548c08e540afba538bf76",
       "version_major": 2,
       "version_minor": 0
      },
      "text/plain": [
       "Ben_Curtis_0001.jpg:   0%|          | 0.00/11.0k [00:00<?, ?B/s]"
      ]
     },
     "metadata": {},
     "output_type": "display_data"
    },
    {
     "data": {
      "application/vnd.jupyter.widget-view+json": {
       "model_id": "8c31aca7470b4971bd65ea33df7b8e32",
       "version_major": 2,
       "version_minor": 0
      },
      "text/plain": [
       "Ben_Curtis_0002.jpg:   0%|          | 0.00/10.9k [00:00<?, ?B/s]"
      ]
     },
     "metadata": {},
     "output_type": "display_data"
    },
    {
     "data": {
      "application/vnd.jupyter.widget-view+json": {
       "model_id": "26a5018003344ef4a1051e485853896f",
       "version_major": 2,
       "version_minor": 0
      },
      "text/plain": [
       "Ben_Curtis_0003.jpg:   0%|          | 0.00/10.3k [00:00<?, ?B/s]"
      ]
     },
     "metadata": {},
     "output_type": "display_data"
    },
    {
     "data": {
      "application/vnd.jupyter.widget-view+json": {
       "model_id": "e86d8f5aacbf42d699cc2a0cc05723fa",
       "version_major": 2,
       "version_minor": 0
      },
      "text/plain": [
       "Ben_Davis_0001.jpg:   0%|          | 0.00/10.9k [00:00<?, ?B/s]"
      ]
     },
     "metadata": {},
     "output_type": "display_data"
    },
    {
     "data": {
      "application/vnd.jupyter.widget-view+json": {
       "model_id": "682beeb0edd54390ad64795fad76e5d8",
       "version_major": 2,
       "version_minor": 0
      },
      "text/plain": [
       "Ben_Glisan_0001.jpg:   0%|          | 0.00/9.91k [00:00<?, ?B/s]"
      ]
     },
     "metadata": {},
     "output_type": "display_data"
    },
    {
     "data": {
      "application/vnd.jupyter.widget-view+json": {
       "model_id": "8e73a1f3795b4e36ae3e3945f1ffb11a",
       "version_major": 2,
       "version_minor": 0
      },
      "text/plain": [
       "Ben_Glisan_0002.jpg:   0%|          | 0.00/8.84k [00:00<?, ?B/s]"
      ]
     },
     "metadata": {},
     "output_type": "display_data"
    },
    {
     "data": {
      "application/vnd.jupyter.widget-view+json": {
       "model_id": "a852ef1b7d8643b5b30af07b3cdc8b8f",
       "version_major": 2,
       "version_minor": 0
      },
      "text/plain": [
       "Ben_Howland_0001.jpg:   0%|          | 0.00/10.4k [00:00<?, ?B/s]"
      ]
     },
     "metadata": {},
     "output_type": "display_data"
    },
    {
     "data": {
      "application/vnd.jupyter.widget-view+json": {
       "model_id": "174797cd61cb4acb821efb58c2b22835",
       "version_major": 2,
       "version_minor": 0
      },
      "text/plain": [
       "Ben_Howland_0002.jpg:   0%|          | 0.00/7.21k [00:00<?, ?B/s]"
      ]
     },
     "metadata": {},
     "output_type": "display_data"
    },
    {
     "data": {
      "application/vnd.jupyter.widget-view+json": {
       "model_id": "e99170b773484882b642e29d72e1f57c",
       "version_major": 2,
       "version_minor": 0
      },
      "text/plain": [
       "Ben_Howland_0003.jpg:   0%|          | 0.00/9.52k [00:00<?, ?B/s]"
      ]
     },
     "metadata": {},
     "output_type": "display_data"
    },
    {
     "data": {
      "application/vnd.jupyter.widget-view+json": {
       "model_id": "d7a0b3e196e94b7cad2196f671f6161b",
       "version_major": 2,
       "version_minor": 0
      },
      "text/plain": [
       "Ben_Howland_0004.jpg:   0%|          | 0.00/8.14k [00:00<?, ?B/s]"
      ]
     },
     "metadata": {},
     "output_type": "display_data"
    },
    {
     "data": {
      "application/vnd.jupyter.widget-view+json": {
       "model_id": "639f25d81aea453e8c9bbb20ae913145",
       "version_major": 2,
       "version_minor": 0
      },
      "text/plain": [
       "Ben_Kingsley_0001.jpg:   0%|          | 0.00/8.15k [00:00<?, ?B/s]"
      ]
     },
     "metadata": {},
     "output_type": "display_data"
    },
    {
     "data": {
      "application/vnd.jupyter.widget-view+json": {
       "model_id": "245dc4e3fb204eaea987007a05dda072",
       "version_major": 2,
       "version_minor": 0
      },
      "text/plain": [
       "Ben_Lee_0001.jpg:   0%|          | 0.00/8.68k [00:00<?, ?B/s]"
      ]
     },
     "metadata": {},
     "output_type": "display_data"
    },
    {
     "data": {
      "application/vnd.jupyter.widget-view+json": {
       "model_id": "a1edb7e7cf4644db9a1a0aa724ac538c",
       "version_major": 2,
       "version_minor": 0
      },
      "text/plain": [
       "Ben_Stein_0001.jpg:   0%|          | 0.00/8.94k [00:00<?, ?B/s]"
      ]
     },
     "metadata": {},
     "output_type": "display_data"
    },
    {
     "data": {
      "application/vnd.jupyter.widget-view+json": {
       "model_id": "bc2b9a41ec1647fc86334c529521c1a0",
       "version_major": 2,
       "version_minor": 0
      },
      "text/plain": [
       "Ben_Wallace_0001.jpg:   0%|          | 0.00/7.66k [00:00<?, ?B/s]"
      ]
     },
     "metadata": {},
     "output_type": "display_data"
    },
    {
     "data": {
      "application/vnd.jupyter.widget-view+json": {
       "model_id": "43cf05f72ae64e879fa88bf567d29efd",
       "version_major": 2,
       "version_minor": 0
      },
      "text/plain": [
       "Benazir_Bhutto_0001.jpg:   0%|          | 0.00/9.24k [00:00<?, ?B/s]"
      ]
     },
     "metadata": {},
     "output_type": "display_data"
    },
    {
     "data": {
      "application/vnd.jupyter.widget-view+json": {
       "model_id": "3fd36708a141475692528000930130ab",
       "version_major": 2,
       "version_minor": 0
      },
      "text/plain": [
       "Benazir_Bhutto_0002.jpg:   0%|          | 0.00/7.96k [00:00<?, ?B/s]"
      ]
     },
     "metadata": {},
     "output_type": "display_data"
    },
    {
     "data": {
      "application/vnd.jupyter.widget-view+json": {
       "model_id": "570241886b494c479cda6af767a034e8",
       "version_major": 2,
       "version_minor": 0
      },
      "text/plain": [
       "Benazir_Bhutto_0003.jpg:   0%|          | 0.00/7.00k [00:00<?, ?B/s]"
      ]
     },
     "metadata": {},
     "output_type": "display_data"
    },
    {
     "data": {
      "application/vnd.jupyter.widget-view+json": {
       "model_id": "70256af0417b4593af4a3804ea59929e",
       "version_major": 2,
       "version_minor": 0
      },
      "text/plain": [
       "Benazir_Bhutto_0004.jpg:   0%|          | 0.00/12.9k [00:00<?, ?B/s]"
      ]
     },
     "metadata": {},
     "output_type": "display_data"
    },
    {
     "data": {
      "application/vnd.jupyter.widget-view+json": {
       "model_id": "8e0ba8ef10e3492caeef196305f5a72e",
       "version_major": 2,
       "version_minor": 0
      },
      "text/plain": [
       "Benazir_Bhutto_0005.jpg:   0%|          | 0.00/11.4k [00:00<?, ?B/s]"
      ]
     },
     "metadata": {},
     "output_type": "display_data"
    },
    {
     "data": {
      "application/vnd.jupyter.widget-view+json": {
       "model_id": "e5adb53e74aa47e2b99265bca9fce721",
       "version_major": 2,
       "version_minor": 0
      },
      "text/plain": [
       "Benedita_da_Silva_0001.jpg:   0%|          | 0.00/9.35k [00:00<?, ?B/s]"
      ]
     },
     "metadata": {},
     "output_type": "display_data"
    },
    {
     "data": {
      "application/vnd.jupyter.widget-view+json": {
       "model_id": "ff5c03efb02b44bea5551aaccadba47b",
       "version_major": 2,
       "version_minor": 0
      },
      "text/plain": [
       "Benicio_Del_Toro_0001.jpg:   0%|          | 0.00/7.38k [00:00<?, ?B/s]"
      ]
     },
     "metadata": {},
     "output_type": "display_data"
    },
    {
     "data": {
      "application/vnd.jupyter.widget-view+json": {
       "model_id": "546fc1ad22374f2fba2926554fcf1c26",
       "version_major": 2,
       "version_minor": 0
      },
      "text/plain": [
       "Benito_Santiago_0001.jpg:   0%|          | 0.00/10.7k [00:00<?, ?B/s]"
      ]
     },
     "metadata": {},
     "output_type": "display_data"
    },
    {
     "data": {
      "application/vnd.jupyter.widget-view+json": {
       "model_id": "c620e86cbf2c49789f24100d1937c1fe",
       "version_major": 2,
       "version_minor": 0
      },
      "text/plain": [
       "Benjamin_Bratt_0001.jpg:   0%|          | 0.00/9.21k [00:00<?, ?B/s]"
      ]
     },
     "metadata": {},
     "output_type": "display_data"
    },
    {
     "data": {
      "application/vnd.jupyter.widget-view+json": {
       "model_id": "ee2815ef9f1040499752d760dcf754bf",
       "version_major": 2,
       "version_minor": 0
      },
      "text/plain": [
       "Benjamin_Franklin_0001.jpg:   0%|          | 0.00/8.32k [00:00<?, ?B/s]"
      ]
     },
     "metadata": {},
     "output_type": "display_data"
    },
    {
     "data": {
      "application/vnd.jupyter.widget-view+json": {
       "model_id": "f50fe4f30cc347e5a9d1eeac5feba6c8",
       "version_major": 2,
       "version_minor": 0
      },
      "text/plain": [
       "Benjamin_Martinez_0001.jpg:   0%|          | 0.00/7.70k [00:00<?, ?B/s]"
      ]
     },
     "metadata": {},
     "output_type": "display_data"
    },
    {
     "data": {
      "application/vnd.jupyter.widget-view+json": {
       "model_id": "6b0a0004953d4c67ad9dcbeef723e164",
       "version_major": 2,
       "version_minor": 0
      },
      "text/plain": [
       "Benjamin_McKenzie_0001.jpg:   0%|          | 0.00/8.66k [00:00<?, ?B/s]"
      ]
     },
     "metadata": {},
     "output_type": "display_data"
    },
    {
     "data": {
      "application/vnd.jupyter.widget-view+json": {
       "model_id": "9ae90423f6fe42088caf57192652a104",
       "version_major": 2,
       "version_minor": 0
      },
      "text/plain": [
       "Benjamin_Netanyahu_0001.jpg:   0%|          | 0.00/9.03k [00:00<?, ?B/s]"
      ]
     },
     "metadata": {},
     "output_type": "display_data"
    },
    {
     "data": {
      "application/vnd.jupyter.widget-view+json": {
       "model_id": "7a93045debac40b7a3d014bcd0dbcf0f",
       "version_major": 2,
       "version_minor": 0
      },
      "text/plain": [
       "Benjamin_Netanyahu_0002.jpg:   0%|          | 0.00/7.12k [00:00<?, ?B/s]"
      ]
     },
     "metadata": {},
     "output_type": "display_data"
    },
    {
     "data": {
      "application/vnd.jupyter.widget-view+json": {
       "model_id": "3e793804e597464da11a9419b27d0a66",
       "version_major": 2,
       "version_minor": 0
      },
      "text/plain": [
       "Benjamin_Netanyahu_0003.jpg:   0%|          | 0.00/8.18k [00:00<?, ?B/s]"
      ]
     },
     "metadata": {},
     "output_type": "display_data"
    },
    {
     "data": {
      "application/vnd.jupyter.widget-view+json": {
       "model_id": "6775f986d72d4cb091e258eb78d4536e",
       "version_major": 2,
       "version_minor": 0
      },
      "text/plain": [
       "Benjamin_Netanyahu_0004.jpg:   0%|          | 0.00/8.51k [00:00<?, ?B/s]"
      ]
     },
     "metadata": {},
     "output_type": "display_data"
    },
    {
     "data": {
      "application/vnd.jupyter.widget-view+json": {
       "model_id": "cb0e2296188041e8894d74da3e3edd7f",
       "version_major": 2,
       "version_minor": 0
      },
      "text/plain": [
       "Benjamin_Netanyahu_0005.jpg:   0%|          | 0.00/7.06k [00:00<?, ?B/s]"
      ]
     },
     "metadata": {},
     "output_type": "display_data"
    },
    {
     "data": {
      "application/vnd.jupyter.widget-view+json": {
       "model_id": "b79286089763447a97ac9cd41054988a",
       "version_major": 2,
       "version_minor": 0
      },
      "text/plain": [
       "Benjamin_Neulander_0001.jpg:   0%|          | 0.00/9.66k [00:00<?, ?B/s]"
      ]
     },
     "metadata": {},
     "output_type": "display_data"
    },
    {
     "data": {
      "application/vnd.jupyter.widget-view+json": {
       "model_id": "78fbad358b3d42a1910279e11ed4a731",
       "version_major": 2,
       "version_minor": 0
      },
      "text/plain": [
       "Bernadette_Peters_0001.jpg:   0%|          | 0.00/10.5k [00:00<?, ?B/s]"
      ]
     },
     "metadata": {},
     "output_type": "display_data"
    },
    {
     "data": {
      "application/vnd.jupyter.widget-view+json": {
       "model_id": "00b57626052343e996eb30e540374c17",
       "version_major": 2,
       "version_minor": 0
      },
      "text/plain": [
       "Bernard_Ebbers_0001.jpg:   0%|          | 0.00/7.88k [00:00<?, ?B/s]"
      ]
     },
     "metadata": {},
     "output_type": "display_data"
    },
    {
     "data": {
      "application/vnd.jupyter.widget-view+json": {
       "model_id": "6387cff663644e4c98cc8041a1fac7ff",
       "version_major": 2,
       "version_minor": 0
      },
      "text/plain": [
       "Bernard_Giraudeau_0001.jpg:   0%|          | 0.00/10.7k [00:00<?, ?B/s]"
      ]
     },
     "metadata": {},
     "output_type": "display_data"
    },
    {
     "data": {
      "application/vnd.jupyter.widget-view+json": {
       "model_id": "77fc0907f87546dbaa2c97735e264208",
       "version_major": 2,
       "version_minor": 0
      },
      "text/plain": [
       "Bernard_Kerik_0001.jpg:   0%|          | 0.00/8.40k [00:00<?, ?B/s]"
      ]
     },
     "metadata": {},
     "output_type": "display_data"
    },
    {
     "data": {
      "application/vnd.jupyter.widget-view+json": {
       "model_id": "f8aa55e6b59b44dfa3d6d913571441a4",
       "version_major": 2,
       "version_minor": 0
      },
      "text/plain": [
       "Bernard_Landry_0001.jpg:   0%|          | 0.00/6.98k [00:00<?, ?B/s]"
      ]
     },
     "metadata": {},
     "output_type": "display_data"
    },
    {
     "data": {
      "application/vnd.jupyter.widget-view+json": {
       "model_id": "5a27049d77b743d69ddf03d307290820",
       "version_major": 2,
       "version_minor": 0
      },
      "text/plain": [
       "Bernard_Landry_0002.jpg:   0%|          | 0.00/7.52k [00:00<?, ?B/s]"
      ]
     },
     "metadata": {},
     "output_type": "display_data"
    },
    {
     "data": {
      "application/vnd.jupyter.widget-view+json": {
       "model_id": "225eded8ee0c4acc87f9f29d8d50f8ab",
       "version_major": 2,
       "version_minor": 0
      },
      "text/plain": [
       "Bernard_Landry_0003.jpg:   0%|          | 0.00/8.61k [00:00<?, ?B/s]"
      ]
     },
     "metadata": {},
     "output_type": "display_data"
    },
    {
     "data": {
      "application/vnd.jupyter.widget-view+json": {
       "model_id": "47ebe349c69d4ab5bac92238378002b5",
       "version_major": 2,
       "version_minor": 0
      },
      "text/plain": [
       "Bernard_Landry_0004.jpg:   0%|          | 0.00/8.91k [00:00<?, ?B/s]"
      ]
     },
     "metadata": {},
     "output_type": "display_data"
    },
    {
     "data": {
      "application/vnd.jupyter.widget-view+json": {
       "model_id": "25851418f531422f990af0c3184c7567",
       "version_major": 2,
       "version_minor": 0
      },
      "text/plain": [
       "Bernard_Law_0001.jpg:   0%|          | 0.00/8.60k [00:00<?, ?B/s]"
      ]
     },
     "metadata": {},
     "output_type": "display_data"
    },
    {
     "data": {
      "application/vnd.jupyter.widget-view+json": {
       "model_id": "3b651a516a1b4a5ea54de214ecf527ca",
       "version_major": 2,
       "version_minor": 0
      },
      "text/plain": [
       "Bernard_Law_0002.jpg:   0%|          | 0.00/7.15k [00:00<?, ?B/s]"
      ]
     },
     "metadata": {},
     "output_type": "display_data"
    },
    {
     "data": {
      "application/vnd.jupyter.widget-view+json": {
       "model_id": "efef60416f7c43bcaae47ff892c66d45",
       "version_major": 2,
       "version_minor": 0
      },
      "text/plain": [
       "Bernard_Law_0003.jpg:   0%|          | 0.00/9.49k [00:00<?, ?B/s]"
      ]
     },
     "metadata": {},
     "output_type": "display_data"
    },
    {
     "data": {
      "application/vnd.jupyter.widget-view+json": {
       "model_id": "8ebfda7813d240b1b06ea652124f659a",
       "version_major": 2,
       "version_minor": 0
      },
      "text/plain": [
       "Bernard_Law_0004.jpg:   0%|          | 0.00/8.24k [00:00<?, ?B/s]"
      ]
     },
     "metadata": {},
     "output_type": "display_data"
    },
    {
     "data": {
      "application/vnd.jupyter.widget-view+json": {
       "model_id": "f0788e37ef8542b481338b84416f4378",
       "version_major": 2,
       "version_minor": 0
      },
      "text/plain": [
       "Bernard_Law_0005.jpg:   0%|          | 0.00/7.94k [00:00<?, ?B/s]"
      ]
     },
     "metadata": {},
     "output_type": "display_data"
    },
    {
     "data": {
      "application/vnd.jupyter.widget-view+json": {
       "model_id": "a9f960e47b554e849806cb117357938c",
       "version_major": 2,
       "version_minor": 0
      },
      "text/plain": [
       "Bernard_Lord_0001.jpg:   0%|          | 0.00/7.22k [00:00<?, ?B/s]"
      ]
     },
     "metadata": {},
     "output_type": "display_data"
    },
    {
     "data": {
      "application/vnd.jupyter.widget-view+json": {
       "model_id": "bcba0595a01d45ab906ea5eefb346783",
       "version_major": 2,
       "version_minor": 0
      },
      "text/plain": [
       "Bernard_Lord_0002.jpg:   0%|          | 0.00/8.18k [00:00<?, ?B/s]"
      ]
     },
     "metadata": {},
     "output_type": "display_data"
    },
    {
     "data": {
      "application/vnd.jupyter.widget-view+json": {
       "model_id": "9209ac36a2dc4c429dc48a4e8047ef31",
       "version_major": 2,
       "version_minor": 0
      },
      "text/plain": [
       "Bernard_Siegel_0001.jpg:   0%|          | 0.00/8.74k [00:00<?, ?B/s]"
      ]
     },
     "metadata": {},
     "output_type": "display_data"
    },
    {
     "data": {
      "application/vnd.jupyter.widget-view+json": {
       "model_id": "791de81df34d4477959481613c1eeaba",
       "version_major": 2,
       "version_minor": 0
      },
      "text/plain": [
       "Bernardo_Segura_0001.jpg:   0%|          | 0.00/11.6k [00:00<?, ?B/s]"
      ]
     },
     "metadata": {},
     "output_type": "display_data"
    },
    {
     "data": {
      "application/vnd.jupyter.widget-view+json": {
       "model_id": "cfd66d8bb61845f18415d7a50a0cc967",
       "version_major": 2,
       "version_minor": 0
      },
      "text/plain": [
       "Bernardo_Segura_0002.jpg:   0%|          | 0.00/7.89k [00:00<?, ?B/s]"
      ]
     },
     "metadata": {},
     "output_type": "display_data"
    },
    {
     "data": {
      "application/vnd.jupyter.widget-view+json": {
       "model_id": "10a2ee43ca7341bdb63ab4d1f996cb27",
       "version_major": 2,
       "version_minor": 0
      },
      "text/plain": [
       "Bernice_Wong_0001.jpg:   0%|          | 0.00/8.71k [00:00<?, ?B/s]"
      ]
     },
     "metadata": {},
     "output_type": "display_data"
    },
    {
     "data": {
      "application/vnd.jupyter.widget-view+json": {
       "model_id": "eb405226b294454596ee6b939843ed65",
       "version_major": 2,
       "version_minor": 0
      },
      "text/plain": [
       "Bertie_Ahern_0001.jpg:   0%|          | 0.00/9.78k [00:00<?, ?B/s]"
      ]
     },
     "metadata": {},
     "output_type": "display_data"
    },
    {
     "data": {
      "application/vnd.jupyter.widget-view+json": {
       "model_id": "16103ff7465a4ff6aac050f6d44e000b",
       "version_major": 2,
       "version_minor": 0
      },
      "text/plain": [
       "Bertie_Ahern_0002.jpg:   0%|          | 0.00/9.64k [00:00<?, ?B/s]"
      ]
     },
     "metadata": {},
     "output_type": "display_data"
    },
    {
     "data": {
      "application/vnd.jupyter.widget-view+json": {
       "model_id": "67e6ffbf92ba41c99b25357c72554f41",
       "version_major": 2,
       "version_minor": 0
      },
      "text/plain": [
       "Bertie_Ahern_0003.jpg:   0%|          | 0.00/7.63k [00:00<?, ?B/s]"
      ]
     },
     "metadata": {},
     "output_type": "display_data"
    },
    {
     "data": {
      "application/vnd.jupyter.widget-view+json": {
       "model_id": "a173b4b35ce449c9a4e55263724e7f82",
       "version_major": 2,
       "version_minor": 0
      },
      "text/plain": [
       "Bertie_Ahern_0004.jpg:   0%|          | 0.00/6.10k [00:00<?, ?B/s]"
      ]
     },
     "metadata": {},
     "output_type": "display_data"
    },
    {
     "data": {
      "application/vnd.jupyter.widget-view+json": {
       "model_id": "3d6cc9eca28e4f43841086c3c0f3d43f",
       "version_major": 2,
       "version_minor": 0
      },
      "text/plain": [
       "Bertie_Ahern_0005.jpg:   0%|          | 0.00/7.35k [00:00<?, ?B/s]"
      ]
     },
     "metadata": {},
     "output_type": "display_data"
    },
    {
     "data": {
      "application/vnd.jupyter.widget-view+json": {
       "model_id": "59a6fc9dadc64eaf80761df99534bd6f",
       "version_major": 2,
       "version_minor": 0
      },
      "text/plain": [
       "Bertrand_Bonello_0001.jpg:   0%|          | 0.00/9.44k [00:00<?, ?B/s]"
      ]
     },
     "metadata": {},
     "output_type": "display_data"
    },
    {
     "data": {
      "application/vnd.jupyter.widget-view+json": {
       "model_id": "0eb585f2e99d4675a3cb01a340088a90",
       "version_major": 2,
       "version_minor": 0
      },
      "text/plain": [
       "Bertrand_Bonello_0002.jpg:   0%|          | 0.00/8.50k [00:00<?, ?B/s]"
      ]
     },
     "metadata": {},
     "output_type": "display_data"
    },
    {
     "data": {
      "application/vnd.jupyter.widget-view+json": {
       "model_id": "f2c25817c1e64a9f83f1cea42c5c987a",
       "version_major": 2,
       "version_minor": 0
      },
      "text/plain": [
       "Bertrand_Delanoe_0001.jpg:   0%|          | 0.00/8.36k [00:00<?, ?B/s]"
      ]
     },
     "metadata": {},
     "output_type": "display_data"
    },
    {
     "data": {
      "application/vnd.jupyter.widget-view+json": {
       "model_id": "48b38e6872b4480da74a037f66bd8c7e",
       "version_major": 2,
       "version_minor": 0
      },
      "text/plain": [
       "Beth_Blough_0001.jpg:   0%|          | 0.00/10.1k [00:00<?, ?B/s]"
      ]
     },
     "metadata": {},
     "output_type": "display_data"
    },
    {
     "data": {
      "application/vnd.jupyter.widget-view+json": {
       "model_id": "d7d853dde1a648c5a027297ef21b0e19",
       "version_major": 2,
       "version_minor": 0
      },
      "text/plain": [
       "Beth_Jones_0001.jpg:   0%|          | 0.00/7.55k [00:00<?, ?B/s]"
      ]
     },
     "metadata": {},
     "output_type": "display_data"
    },
    {
     "data": {
      "application/vnd.jupyter.widget-view+json": {
       "model_id": "84edeaa72e0b432ba8118881ff3e7fce",
       "version_major": 2,
       "version_minor": 0
      },
      "text/plain": [
       "Beth_Jones_0002.jpg:   0%|          | 0.00/9.18k [00:00<?, ?B/s]"
      ]
     },
     "metadata": {},
     "output_type": "display_data"
    },
    {
     "data": {
      "application/vnd.jupyter.widget-view+json": {
       "model_id": "91450fe3a2e24208ab5b8b25fbc7d076",
       "version_major": 2,
       "version_minor": 0
      },
      "text/plain": [
       "Betsy_Coffin_0001.jpg:   0%|          | 0.00/6.77k [00:00<?, ?B/s]"
      ]
     },
     "metadata": {},
     "output_type": "display_data"
    },
    {
     "data": {
      "application/vnd.jupyter.widget-view+json": {
       "model_id": "5e0c97e5e67a49c0be82c104589962d8",
       "version_major": 2,
       "version_minor": 0
      },
      "text/plain": [
       "Betsy_Smith_0001.jpg:   0%|          | 0.00/9.13k [00:00<?, ?B/s]"
      ]
     },
     "metadata": {},
     "output_type": "display_data"
    },
    {
     "data": {
      "application/vnd.jupyter.widget-view+json": {
       "model_id": "4cbd4be8b3c64647be7af75984050948",
       "version_major": 2,
       "version_minor": 0
      },
      "text/plain": [
       "Betsy_Smith_0002.jpg:   0%|          | 0.00/9.28k [00:00<?, ?B/s]"
      ]
     },
     "metadata": {},
     "output_type": "display_data"
    },
    {
     "data": {
      "application/vnd.jupyter.widget-view+json": {
       "model_id": "2d32e529d84f45bbbd0b07290d6f7be8",
       "version_major": 2,
       "version_minor": 0
      },
      "text/plain": [
       "Bettina_Rheims_0001.jpg:   0%|          | 0.00/10.2k [00:00<?, ?B/s]"
      ]
     },
     "metadata": {},
     "output_type": "display_data"
    },
    {
     "data": {
      "application/vnd.jupyter.widget-view+json": {
       "model_id": "4f44ae15bb9d4dd380308d10ddaf3020",
       "version_major": 2,
       "version_minor": 0
      },
      "text/plain": [
       "Betty_Garrison_0001.jpg:   0%|          | 0.00/8.49k [00:00<?, ?B/s]"
      ]
     },
     "metadata": {},
     "output_type": "display_data"
    },
    {
     "data": {
      "application/vnd.jupyter.widget-view+json": {
       "model_id": "1a95bb85afff4619ae21f15c59959801",
       "version_major": 2,
       "version_minor": 0
      },
      "text/plain": [
       "Betty_Williams_0001.jpg:   0%|          | 0.00/7.18k [00:00<?, ?B/s]"
      ]
     },
     "metadata": {},
     "output_type": "display_data"
    },
    {
     "data": {
      "application/vnd.jupyter.widget-view+json": {
       "model_id": "1f8a9becb5744cc7968c1437f0a2766a",
       "version_major": 2,
       "version_minor": 0
      },
      "text/plain": [
       "Beyonce_Knowles_0001.jpg:   0%|          | 0.00/11.0k [00:00<?, ?B/s]"
      ]
     },
     "metadata": {},
     "output_type": "display_data"
    },
    {
     "data": {
      "application/vnd.jupyter.widget-view+json": {
       "model_id": "7c23935723f0490e9e41db6f154ec0b9",
       "version_major": 2,
       "version_minor": 0
      },
      "text/plain": [
       "Bianca_Jagger_0001.jpg:   0%|          | 0.00/9.69k [00:00<?, ?B/s]"
      ]
     },
     "metadata": {},
     "output_type": "display_data"
    },
    {
     "data": {
      "application/vnd.jupyter.widget-view+json": {
       "model_id": "6b1765781e2c4141937b2ca88d5fc32c",
       "version_major": 2,
       "version_minor": 0
      },
      "text/plain": [
       "Bijan_Darvish_0001.jpg:   0%|          | 0.00/8.72k [00:00<?, ?B/s]"
      ]
     },
     "metadata": {},
     "output_type": "display_data"
    },
    {
     "data": {
      "application/vnd.jupyter.widget-view+json": {
       "model_id": "16322c332c4843898bcd6f7e6f9b0534",
       "version_major": 2,
       "version_minor": 0
      },
      "text/plain": [
       "Bijan_Darvish_0002.jpg:   0%|          | 0.00/6.99k [00:00<?, ?B/s]"
      ]
     },
     "metadata": {},
     "output_type": "display_data"
    },
    {
     "data": {
      "application/vnd.jupyter.widget-view+json": {
       "model_id": "2bb98737ed3e4a6697e9952c412279a9",
       "version_major": 2,
       "version_minor": 0
      },
      "text/plain": [
       "Bijan_Darvish_0003.jpg:   0%|          | 0.00/9.62k [00:00<?, ?B/s]"
      ]
     },
     "metadata": {},
     "output_type": "display_data"
    },
    {
     "data": {
      "application/vnd.jupyter.widget-view+json": {
       "model_id": "094482eb24b748eaa6cc87c7c1d23ddd",
       "version_major": 2,
       "version_minor": 0
      },
      "text/plain": [
       "Bijan_Namdar_Zangeneh_0001.jpg:   0%|          | 0.00/8.45k [00:00<?, ?B/s]"
      ]
     },
     "metadata": {},
     "output_type": "display_data"
    },
    {
     "data": {
      "application/vnd.jupyter.widget-view+json": {
       "model_id": "ad21c1842aaf43b68a4ce6e801fc0f2a",
       "version_major": 2,
       "version_minor": 0
      },
      "text/plain": [
       "Bijan_Namdar_Zangeneh_0002.jpg:   0%|          | 0.00/7.25k [00:00<?, ?B/s]"
      ]
     },
     "metadata": {},
     "output_type": "display_data"
    },
    {
     "data": {
      "application/vnd.jupyter.widget-view+json": {
       "model_id": "636d51f1b7b04e7db8bd4832b5d50ecc",
       "version_major": 2,
       "version_minor": 0
      },
      "text/plain": [
       "Bilal_Erdogan_0001.jpg:   0%|          | 0.00/8.24k [00:00<?, ?B/s]"
      ]
     },
     "metadata": {},
     "output_type": "display_data"
    },
    {
     "data": {
      "application/vnd.jupyter.widget-view+json": {
       "model_id": "db15a4648a7149bea294fd5c869cef09",
       "version_major": 2,
       "version_minor": 0
      },
      "text/plain": [
       "Biljana_Plavsic_0001.jpg:   0%|          | 0.00/11.4k [00:00<?, ?B/s]"
      ]
     },
     "metadata": {},
     "output_type": "display_data"
    },
    {
     "data": {
      "application/vnd.jupyter.widget-view+json": {
       "model_id": "8ae3cdef949d4181a67170433e592307",
       "version_major": 2,
       "version_minor": 0
      },
      "text/plain": [
       "Biljana_Plavsic_0002.jpg:   0%|          | 0.00/8.54k [00:00<?, ?B/s]"
      ]
     },
     "metadata": {},
     "output_type": "display_data"
    },
    {
     "data": {
      "application/vnd.jupyter.widget-view+json": {
       "model_id": "c4ca252a4a9c4c08b93b340ca1616087",
       "version_major": 2,
       "version_minor": 0
      },
      "text/plain": [
       "Biljana_Plavsic_0003.jpg:   0%|          | 0.00/9.65k [00:00<?, ?B/s]"
      ]
     },
     "metadata": {},
     "output_type": "display_data"
    },
    {
     "data": {
      "application/vnd.jupyter.widget-view+json": {
       "model_id": "683850a109b349dcb87649adfae9159c",
       "version_major": 2,
       "version_minor": 0
      },
      "text/plain": [
       "Bill_Belichick_0001.jpg:   0%|          | 0.00/8.54k [00:00<?, ?B/s]"
      ]
     },
     "metadata": {},
     "output_type": "display_data"
    },
    {
     "data": {
      "application/vnd.jupyter.widget-view+json": {
       "model_id": "732e10d1050147abaa2dcb1050cd61cd",
       "version_major": 2,
       "version_minor": 0
      },
      "text/plain": [
       "Bill_Belichick_0002.jpg:   0%|          | 0.00/8.44k [00:00<?, ?B/s]"
      ]
     },
     "metadata": {},
     "output_type": "display_data"
    },
    {
     "data": {
      "application/vnd.jupyter.widget-view+json": {
       "model_id": "1757e26485fd40e59bb482de673ad027",
       "version_major": 2,
       "version_minor": 0
      },
      "text/plain": [
       "Bill_Bradley_0001.jpg:   0%|          | 0.00/8.81k [00:00<?, ?B/s]"
      ]
     },
     "metadata": {},
     "output_type": "display_data"
    },
    {
     "data": {
      "application/vnd.jupyter.widget-view+json": {
       "model_id": "aa3a1df883f245c5950fd7f9462349e5",
       "version_major": 2,
       "version_minor": 0
      },
      "text/plain": [
       "Bill_Butler_0001.jpg:   0%|          | 0.00/10.8k [00:00<?, ?B/s]"
      ]
     },
     "metadata": {},
     "output_type": "display_data"
    },
    {
     "data": {
      "application/vnd.jupyter.widget-view+json": {
       "model_id": "c1297b1139a84b8e90e1d8ee8994d4ba",
       "version_major": 2,
       "version_minor": 0
      },
      "text/plain": [
       "Bill_Byrne_0001.jpg:   0%|          | 0.00/9.48k [00:00<?, ?B/s]"
      ]
     },
     "metadata": {},
     "output_type": "display_data"
    },
    {
     "data": {
      "application/vnd.jupyter.widget-view+json": {
       "model_id": "1f380a0d31f44435a581076822f3c97c",
       "version_major": 2,
       "version_minor": 0
      },
      "text/plain": [
       "Bill_Callahan_0001.jpg:   0%|          | 0.00/10.2k [00:00<?, ?B/s]"
      ]
     },
     "metadata": {},
     "output_type": "display_data"
    },
    {
     "data": {
      "application/vnd.jupyter.widget-view+json": {
       "model_id": "c8dbf3e9a9a9443f9d427b5ece906656",
       "version_major": 2,
       "version_minor": 0
      },
      "text/plain": [
       "Bill_Callahan_0002.jpg:   0%|          | 0.00/7.76k [00:00<?, ?B/s]"
      ]
     },
     "metadata": {},
     "output_type": "display_data"
    },
    {
     "data": {
      "application/vnd.jupyter.widget-view+json": {
       "model_id": "7d88edc23caf48ec90f21096842fa437",
       "version_major": 2,
       "version_minor": 0
      },
      "text/plain": [
       "Bill_Callahan_0003.jpg:   0%|          | 0.00/9.86k [00:00<?, ?B/s]"
      ]
     },
     "metadata": {},
     "output_type": "display_data"
    },
    {
     "data": {
      "application/vnd.jupyter.widget-view+json": {
       "model_id": "3da7fe723e3f4655a542342fcaa69fa5",
       "version_major": 2,
       "version_minor": 0
      },
      "text/plain": [
       "Bill_Carmody_0001.jpg:   0%|          | 0.00/7.18k [00:00<?, ?B/s]"
      ]
     },
     "metadata": {},
     "output_type": "display_data"
    },
    {
     "data": {
      "application/vnd.jupyter.widget-view+json": {
       "model_id": "bf1a0cc290944fa08785d7973ec9fd71",
       "version_major": 2,
       "version_minor": 0
      },
      "text/plain": [
       "Bill_Cartwright_0001.jpg:   0%|          | 0.00/7.86k [00:00<?, ?B/s]"
      ]
     },
     "metadata": {},
     "output_type": "display_data"
    },
    {
     "data": {
      "application/vnd.jupyter.widget-view+json": {
       "model_id": "c10163fdcc4b4d36b42ac133c5669683",
       "version_major": 2,
       "version_minor": 0
      },
      "text/plain": [
       "Bill_Clancy_0001.jpg:   0%|          | 0.00/9.28k [00:00<?, ?B/s]"
      ]
     },
     "metadata": {},
     "output_type": "display_data"
    },
    {
     "data": {
      "application/vnd.jupyter.widget-view+json": {
       "model_id": "f1630258f9034ebdb9a559cbb60df321",
       "version_major": 2,
       "version_minor": 0
      },
      "text/plain": [
       "Bill_Clinton_0001.jpg:   0%|          | 0.00/8.33k [00:00<?, ?B/s]"
      ]
     },
     "metadata": {},
     "output_type": "display_data"
    },
    {
     "data": {
      "application/vnd.jupyter.widget-view+json": {
       "model_id": "f28f529ee6ec4c6eada601e345484f44",
       "version_major": 2,
       "version_minor": 0
      },
      "text/plain": [
       "Bill_Clinton_0002.jpg:   0%|          | 0.00/7.07k [00:00<?, ?B/s]"
      ]
     },
     "metadata": {},
     "output_type": "display_data"
    },
    {
     "data": {
      "application/vnd.jupyter.widget-view+json": {
       "model_id": "4938f3a3cda2439bad2277ada51ab596",
       "version_major": 2,
       "version_minor": 0
      },
      "text/plain": [
       "Bill_Clinton_0003.jpg:   0%|          | 0.00/11.3k [00:00<?, ?B/s]"
      ]
     },
     "metadata": {},
     "output_type": "display_data"
    },
    {
     "data": {
      "application/vnd.jupyter.widget-view+json": {
       "model_id": "4cb8b1fa99c543718079623a0336b8a9",
       "version_major": 2,
       "version_minor": 0
      },
      "text/plain": [
       "Bill_Clinton_0004.jpg:   0%|          | 0.00/9.28k [00:00<?, ?B/s]"
      ]
     },
     "metadata": {},
     "output_type": "display_data"
    },
    {
     "data": {
      "application/vnd.jupyter.widget-view+json": {
       "model_id": "fdeb622f5d48465b8509f8e3dd2689d2",
       "version_major": 2,
       "version_minor": 0
      },
      "text/plain": [
       "Bill_Clinton_0005.jpg:   0%|          | 0.00/7.70k [00:00<?, ?B/s]"
      ]
     },
     "metadata": {},
     "output_type": "display_data"
    },
    {
     "data": {
      "application/vnd.jupyter.widget-view+json": {
       "model_id": "b0dc2bde649e43298fd818f4d3beb52c",
       "version_major": 2,
       "version_minor": 0
      },
      "text/plain": [
       "Bill_Clinton_0006.jpg:   0%|          | 0.00/8.49k [00:00<?, ?B/s]"
      ]
     },
     "metadata": {},
     "output_type": "display_data"
    },
    {
     "data": {
      "application/vnd.jupyter.widget-view+json": {
       "model_id": "a8fad8b359ab4c95ac0288b52194d02d",
       "version_major": 2,
       "version_minor": 0
      },
      "text/plain": [
       "Bill_Clinton_0007.jpg:   0%|          | 0.00/7.88k [00:00<?, ?B/s]"
      ]
     },
     "metadata": {},
     "output_type": "display_data"
    },
    {
     "data": {
      "application/vnd.jupyter.widget-view+json": {
       "model_id": "7adcdc7c79fe4715bb04b63b12034558",
       "version_major": 2,
       "version_minor": 0
      },
      "text/plain": [
       "Bill_Clinton_0008.jpg:   0%|          | 0.00/8.16k [00:00<?, ?B/s]"
      ]
     },
     "metadata": {},
     "output_type": "display_data"
    },
    {
     "data": {
      "application/vnd.jupyter.widget-view+json": {
       "model_id": "452754d09cec46e48d1e3f890bfcde91",
       "version_major": 2,
       "version_minor": 0
      },
      "text/plain": [
       "Bill_Clinton_0009.jpg:   0%|          | 0.00/8.79k [00:00<?, ?B/s]"
      ]
     },
     "metadata": {},
     "output_type": "display_data"
    },
    {
     "data": {
      "application/vnd.jupyter.widget-view+json": {
       "model_id": "b5a28ea3a15142f697a3ed370bac0be9",
       "version_major": 2,
       "version_minor": 0
      },
      "text/plain": [
       "Bill_Clinton_0010.jpg:   0%|          | 0.00/7.96k [00:00<?, ?B/s]"
      ]
     },
     "metadata": {},
     "output_type": "display_data"
    },
    {
     "data": {
      "application/vnd.jupyter.widget-view+json": {
       "model_id": "d4668eddf10442209295c7ce404dba84",
       "version_major": 2,
       "version_minor": 0
      },
      "text/plain": [
       "Bill_Clinton_0011.jpg:   0%|          | 0.00/7.77k [00:00<?, ?B/s]"
      ]
     },
     "metadata": {},
     "output_type": "display_data"
    },
    {
     "data": {
      "application/vnd.jupyter.widget-view+json": {
       "model_id": "8e70a25a14dd4326a55ba1297a8f6de1",
       "version_major": 2,
       "version_minor": 0
      },
      "text/plain": [
       "Bill_Clinton_0012.jpg:   0%|          | 0.00/7.19k [00:00<?, ?B/s]"
      ]
     },
     "metadata": {},
     "output_type": "display_data"
    },
    {
     "data": {
      "application/vnd.jupyter.widget-view+json": {
       "model_id": "ef0be2ca8a224c7085c861a1236e9fcf",
       "version_major": 2,
       "version_minor": 0
      },
      "text/plain": [
       "Bill_Clinton_0013.jpg:   0%|          | 0.00/7.78k [00:00<?, ?B/s]"
      ]
     },
     "metadata": {},
     "output_type": "display_data"
    },
    {
     "data": {
      "application/vnd.jupyter.widget-view+json": {
       "model_id": "a7dcab08b93642e3a091e21a9abdf471",
       "version_major": 2,
       "version_minor": 0
      },
      "text/plain": [
       "Bill_Clinton_0014.jpg:   0%|          | 0.00/8.92k [00:00<?, ?B/s]"
      ]
     },
     "metadata": {},
     "output_type": "display_data"
    },
    {
     "data": {
      "application/vnd.jupyter.widget-view+json": {
       "model_id": "f29570eeabfd450dbbd2189e9e7c9e50",
       "version_major": 2,
       "version_minor": 0
      },
      "text/plain": [
       "Bill_Clinton_0015.jpg:   0%|          | 0.00/8.13k [00:00<?, ?B/s]"
      ]
     },
     "metadata": {},
     "output_type": "display_data"
    },
    {
     "data": {
      "application/vnd.jupyter.widget-view+json": {
       "model_id": "0c95722a91674d49b7a9512844e6dc88",
       "version_major": 2,
       "version_minor": 0
      },
      "text/plain": [
       "Bill_Clinton_0016.jpg:   0%|          | 0.00/7.87k [00:00<?, ?B/s]"
      ]
     },
     "metadata": {},
     "output_type": "display_data"
    },
    {
     "data": {
      "application/vnd.jupyter.widget-view+json": {
       "model_id": "bd76c04e0b9740978c650fbbb545cd36",
       "version_major": 2,
       "version_minor": 0
      },
      "text/plain": [
       "Bill_Clinton_0017.jpg:   0%|          | 0.00/9.29k [00:00<?, ?B/s]"
      ]
     },
     "metadata": {},
     "output_type": "display_data"
    },
    {
     "data": {
      "application/vnd.jupyter.widget-view+json": {
       "model_id": "31d7ac94bb8743809694ce58e9a34981",
       "version_major": 2,
       "version_minor": 0
      },
      "text/plain": [
       "Bill_Clinton_0018.jpg:   0%|          | 0.00/8.46k [00:00<?, ?B/s]"
      ]
     },
     "metadata": {},
     "output_type": "display_data"
    },
    {
     "data": {
      "application/vnd.jupyter.widget-view+json": {
       "model_id": "5ed24adf6c5a451a8ab56c151e400d3e",
       "version_major": 2,
       "version_minor": 0
      },
      "text/plain": [
       "Bill_Clinton_0019.jpg:   0%|          | 0.00/6.40k [00:00<?, ?B/s]"
      ]
     },
     "metadata": {},
     "output_type": "display_data"
    },
    {
     "data": {
      "application/vnd.jupyter.widget-view+json": {
       "model_id": "b38507345b9e4f1fa9c7784faac037ed",
       "version_major": 2,
       "version_minor": 0
      },
      "text/plain": [
       "Bill_Clinton_0020.jpg:   0%|          | 0.00/7.19k [00:00<?, ?B/s]"
      ]
     },
     "metadata": {},
     "output_type": "display_data"
    },
    {
     "data": {
      "application/vnd.jupyter.widget-view+json": {
       "model_id": "51c30f7baced4e59aec392ccf0312971",
       "version_major": 2,
       "version_minor": 0
      },
      "text/plain": [
       "Bill_Clinton_0021.jpg:   0%|          | 0.00/7.88k [00:00<?, ?B/s]"
      ]
     },
     "metadata": {},
     "output_type": "display_data"
    },
    {
     "data": {
      "application/vnd.jupyter.widget-view+json": {
       "model_id": "4671a4cc31f44b519bacc458f3b39532",
       "version_major": 2,
       "version_minor": 0
      },
      "text/plain": [
       "Bill_Clinton_0022.jpg:   0%|          | 0.00/9.82k [00:00<?, ?B/s]"
      ]
     },
     "metadata": {},
     "output_type": "display_data"
    },
    {
     "data": {
      "application/vnd.jupyter.widget-view+json": {
       "model_id": "46d5c84ad19c489d90d24bc88eed759a",
       "version_major": 2,
       "version_minor": 0
      },
      "text/plain": [
       "Bill_Clinton_0023.jpg:   0%|          | 0.00/7.86k [00:00<?, ?B/s]"
      ]
     },
     "metadata": {},
     "output_type": "display_data"
    },
    {
     "data": {
      "application/vnd.jupyter.widget-view+json": {
       "model_id": "fa9e60228a8544f7aa157809b378e4be",
       "version_major": 2,
       "version_minor": 0
      },
      "text/plain": [
       "Bill_Clinton_0024.jpg:   0%|          | 0.00/7.60k [00:00<?, ?B/s]"
      ]
     },
     "metadata": {},
     "output_type": "display_data"
    },
    {
     "data": {
      "application/vnd.jupyter.widget-view+json": {
       "model_id": "f7ca82e3a75f46ef9e14c627c86ad10a",
       "version_major": 2,
       "version_minor": 0
      },
      "text/plain": [
       "Bill_Clinton_0025.jpg:   0%|          | 0.00/7.05k [00:00<?, ?B/s]"
      ]
     },
     "metadata": {},
     "output_type": "display_data"
    },
    {
     "data": {
      "application/vnd.jupyter.widget-view+json": {
       "model_id": "82a2614ddc1e4065a49a764d258b1958",
       "version_major": 2,
       "version_minor": 0
      },
      "text/plain": [
       "Bill_Clinton_0026.jpg:   0%|          | 0.00/7.37k [00:00<?, ?B/s]"
      ]
     },
     "metadata": {},
     "output_type": "display_data"
    },
    {
     "data": {
      "application/vnd.jupyter.widget-view+json": {
       "model_id": "cfc4793037954a73893c0aa742c11792",
       "version_major": 2,
       "version_minor": 0
      },
      "text/plain": [
       "Bill_Clinton_0027.jpg:   0%|          | 0.00/8.55k [00:00<?, ?B/s]"
      ]
     },
     "metadata": {},
     "output_type": "display_data"
    },
    {
     "data": {
      "application/vnd.jupyter.widget-view+json": {
       "model_id": "7a412d1787774a2f8d052d50045c697c",
       "version_major": 2,
       "version_minor": 0
      },
      "text/plain": [
       "Bill_Clinton_0028.jpg:   0%|          | 0.00/12.0k [00:00<?, ?B/s]"
      ]
     },
     "metadata": {},
     "output_type": "display_data"
    },
    {
     "data": {
      "application/vnd.jupyter.widget-view+json": {
       "model_id": "459d4fdd27fe4040a6862f1f5b85fec8",
       "version_major": 2,
       "version_minor": 0
      },
      "text/plain": [
       "Bill_Clinton_0029.jpg:   0%|          | 0.00/9.06k [00:00<?, ?B/s]"
      ]
     },
     "metadata": {},
     "output_type": "display_data"
    },
    {
     "data": {
      "application/vnd.jupyter.widget-view+json": {
       "model_id": "d0493c32d830412cb8b435c40ac635bd",
       "version_major": 2,
       "version_minor": 0
      },
      "text/plain": [
       "Bill_Curry_0001.jpg:   0%|          | 0.00/7.88k [00:00<?, ?B/s]"
      ]
     },
     "metadata": {},
     "output_type": "display_data"
    },
    {
     "data": {
      "application/vnd.jupyter.widget-view+json": {
       "model_id": "d9c625a277594fd48d328d03b61b0345",
       "version_major": 2,
       "version_minor": 0
      },
      "text/plain": [
       "Bill_Doba_0001.jpg:   0%|          | 0.00/9.41k [00:00<?, ?B/s]"
      ]
     },
     "metadata": {},
     "output_type": "display_data"
    },
    {
     "data": {
      "application/vnd.jupyter.widget-view+json": {
       "model_id": "1ba5b2d7d6624018be359539e9d2697c",
       "version_major": 2,
       "version_minor": 0
      },
      "text/plain": [
       "Bill_Duffey_0001.jpg:   0%|          | 0.00/7.20k [00:00<?, ?B/s]"
      ]
     },
     "metadata": {},
     "output_type": "display_data"
    },
    {
     "data": {
      "application/vnd.jupyter.widget-view+json": {
       "model_id": "3808f466f4384789bee315143209105b",
       "version_major": 2,
       "version_minor": 0
      },
      "text/plain": [
       "Bill_Elliott_0001.jpg:   0%|          | 0.00/10.8k [00:00<?, ?B/s]"
      ]
     },
     "metadata": {},
     "output_type": "display_data"
    },
    {
     "data": {
      "application/vnd.jupyter.widget-view+json": {
       "model_id": "7a4e3694476845aa98f1bdeec50e9007",
       "version_major": 2,
       "version_minor": 0
      },
      "text/plain": [
       "Bill_Fennelly_0001.jpg:   0%|          | 0.00/8.61k [00:00<?, ?B/s]"
      ]
     },
     "metadata": {},
     "output_type": "display_data"
    },
    {
     "data": {
      "application/vnd.jupyter.widget-view+json": {
       "model_id": "8c4917ac6ccc47a0b05a1c33b7f2c678",
       "version_major": 2,
       "version_minor": 0
      },
      "text/plain": [
       "Bill_Frist_0001.jpg:   0%|          | 0.00/9.40k [00:00<?, ?B/s]"
      ]
     },
     "metadata": {},
     "output_type": "display_data"
    },
    {
     "data": {
      "application/vnd.jupyter.widget-view+json": {
       "model_id": "79448608dc794b6fa814979406b0b9c4",
       "version_major": 2,
       "version_minor": 0
      },
      "text/plain": [
       "Bill_Frist_0002.jpg:   0%|          | 0.00/7.61k [00:00<?, ?B/s]"
      ]
     },
     "metadata": {},
     "output_type": "display_data"
    },
    {
     "data": {
      "application/vnd.jupyter.widget-view+json": {
       "model_id": "9f78a740d29b4d56917c5d757cc2fe9a",
       "version_major": 2,
       "version_minor": 0
      },
      "text/plain": [
       "Bill_Frist_0003.jpg:   0%|          | 0.00/8.22k [00:00<?, ?B/s]"
      ]
     },
     "metadata": {},
     "output_type": "display_data"
    },
    {
     "data": {
      "application/vnd.jupyter.widget-view+json": {
       "model_id": "8d420ebd88d44cb396fa132f8b3b8aff",
       "version_major": 2,
       "version_minor": 0
      },
      "text/plain": [
       "Bill_Frist_0004.jpg:   0%|          | 0.00/6.64k [00:00<?, ?B/s]"
      ]
     },
     "metadata": {},
     "output_type": "display_data"
    },
    {
     "data": {
      "application/vnd.jupyter.widget-view+json": {
       "model_id": "f26c3c5293a54cb2bdc49c152aeba1ed",
       "version_major": 2,
       "version_minor": 0
      },
      "text/plain": [
       "Bill_Frist_0005.jpg:   0%|          | 0.00/7.04k [00:00<?, ?B/s]"
      ]
     },
     "metadata": {},
     "output_type": "display_data"
    },
    {
     "data": {
      "application/vnd.jupyter.widget-view+json": {
       "model_id": "d30c67cdab8f4aa4a23035a66bd18817",
       "version_major": 2,
       "version_minor": 0
      },
      "text/plain": [
       "Bill_Frist_0006.jpg:   0%|          | 0.00/8.76k [00:00<?, ?B/s]"
      ]
     },
     "metadata": {},
     "output_type": "display_data"
    },
    {
     "data": {
      "application/vnd.jupyter.widget-view+json": {
       "model_id": "4e59ed7755ae4ca898b62b9e856ba0ce",
       "version_major": 2,
       "version_minor": 0
      },
      "text/plain": [
       "Bill_Frist_0007.jpg:   0%|          | 0.00/9.20k [00:00<?, ?B/s]"
      ]
     },
     "metadata": {},
     "output_type": "display_data"
    },
    {
     "data": {
      "application/vnd.jupyter.widget-view+json": {
       "model_id": "33257283f6d84b1284e59f936d1fedbe",
       "version_major": 2,
       "version_minor": 0
      },
      "text/plain": [
       "Bill_Frist_0008.jpg:   0%|          | 0.00/7.11k [00:00<?, ?B/s]"
      ]
     },
     "metadata": {},
     "output_type": "display_data"
    },
    {
     "data": {
      "application/vnd.jupyter.widget-view+json": {
       "model_id": "eff4b4295c82429c83c3785970282935",
       "version_major": 2,
       "version_minor": 0
      },
      "text/plain": [
       "Bill_Frist_0009.jpg:   0%|          | 0.00/9.28k [00:00<?, ?B/s]"
      ]
     },
     "metadata": {},
     "output_type": "display_data"
    },
    {
     "data": {
      "application/vnd.jupyter.widget-view+json": {
       "model_id": "5d30ab14bffb4e08965346a6073b814a",
       "version_major": 2,
       "version_minor": 0
      },
      "text/plain": [
       "Bill_Gates_0001.jpg:   0%|          | 0.00/7.79k [00:00<?, ?B/s]"
      ]
     },
     "metadata": {},
     "output_type": "display_data"
    },
    {
     "data": {
      "application/vnd.jupyter.widget-view+json": {
       "model_id": "ec669e3c05794e20b4adc388d24cf5fe",
       "version_major": 2,
       "version_minor": 0
      },
      "text/plain": [
       "Bill_Gates_0002.jpg:   0%|          | 0.00/6.58k [00:00<?, ?B/s]"
      ]
     },
     "metadata": {},
     "output_type": "display_data"
    },
    {
     "data": {
      "application/vnd.jupyter.widget-view+json": {
       "model_id": "43dc17a5c1f7443bba88fc8e2b52cbff",
       "version_major": 2,
       "version_minor": 0
      },
      "text/plain": [
       "Bill_Gates_0003.jpg:   0%|          | 0.00/7.64k [00:00<?, ?B/s]"
      ]
     },
     "metadata": {},
     "output_type": "display_data"
    },
    {
     "data": {
      "application/vnd.jupyter.widget-view+json": {
       "model_id": "8a06929aad8c4e4d851bfc005f2247ff",
       "version_major": 2,
       "version_minor": 0
      },
      "text/plain": [
       "Bill_Gates_0004.jpg:   0%|          | 0.00/8.23k [00:00<?, ?B/s]"
      ]
     },
     "metadata": {},
     "output_type": "display_data"
    },
    {
     "data": {
      "application/vnd.jupyter.widget-view+json": {
       "model_id": "cd97138e5bc54fad87503221b5646be3",
       "version_major": 2,
       "version_minor": 0
      },
      "text/plain": [
       "Bill_Gates_0005.jpg:   0%|          | 0.00/8.00k [00:00<?, ?B/s]"
      ]
     },
     "metadata": {},
     "output_type": "display_data"
    },
    {
     "data": {
      "application/vnd.jupyter.widget-view+json": {
       "model_id": "78354e8fa4ab455e9357625f37831c6b",
       "version_major": 2,
       "version_minor": 0
      },
      "text/plain": [
       "Bill_Gates_0006.jpg:   0%|          | 0.00/9.59k [00:00<?, ?B/s]"
      ]
     },
     "metadata": {},
     "output_type": "display_data"
    },
    {
     "data": {
      "application/vnd.jupyter.widget-view+json": {
       "model_id": "329f0667696745d5a60e22d2973c3b71",
       "version_major": 2,
       "version_minor": 0
      },
      "text/plain": [
       "Bill_Gates_0007.jpg:   0%|          | 0.00/6.79k [00:00<?, ?B/s]"
      ]
     },
     "metadata": {},
     "output_type": "display_data"
    },
    {
     "data": {
      "application/vnd.jupyter.widget-view+json": {
       "model_id": "c3598b87175149b2a1c0be23e26ac1ad",
       "version_major": 2,
       "version_minor": 0
      },
      "text/plain": [
       "Bill_Gates_0009.jpg:   0%|          | 0.00/7.30k [00:00<?, ?B/s]"
      ]
     },
     "metadata": {},
     "output_type": "display_data"
    },
    {
     "data": {
      "application/vnd.jupyter.widget-view+json": {
       "model_id": "175b7c20e68e499bbeec2e740d8e6300",
       "version_major": 2,
       "version_minor": 0
      },
      "text/plain": [
       "Bill_Gates_0008.jpg:   0%|          | 0.00/9.40k [00:00<?, ?B/s]"
      ]
     },
     "metadata": {},
     "output_type": "display_data"
    },
    {
     "data": {
      "application/vnd.jupyter.widget-view+json": {
       "model_id": "20607f63a6094dd6a0216704105638d6",
       "version_major": 2,
       "version_minor": 0
      },
      "text/plain": [
       "Bill_Gates_0010.jpg:   0%|          | 0.00/8.29k [00:00<?, ?B/s]"
      ]
     },
     "metadata": {},
     "output_type": "display_data"
    },
    {
     "data": {
      "application/vnd.jupyter.widget-view+json": {
       "model_id": "c24105fca28048c5960bec9644e43ec7",
       "version_major": 2,
       "version_minor": 0
      },
      "text/plain": [
       "Bill_Gates_0011.jpg:   0%|          | 0.00/9.86k [00:00<?, ?B/s]"
      ]
     },
     "metadata": {},
     "output_type": "display_data"
    },
    {
     "data": {
      "application/vnd.jupyter.widget-view+json": {
       "model_id": "323d47fb36454b6eba200cd1ec427740",
       "version_major": 2,
       "version_minor": 0
      },
      "text/plain": [
       "Bill_Gates_0012.jpg:   0%|          | 0.00/8.35k [00:00<?, ?B/s]"
      ]
     },
     "metadata": {},
     "output_type": "display_data"
    },
    {
     "data": {
      "application/vnd.jupyter.widget-view+json": {
       "model_id": "4374043c410d4f89874a446c4620bb6b",
       "version_major": 2,
       "version_minor": 0
      },
      "text/plain": [
       "Bill_Gates_0013.jpg:   0%|          | 0.00/6.38k [00:00<?, ?B/s]"
      ]
     },
     "metadata": {},
     "output_type": "display_data"
    },
    {
     "data": {
      "application/vnd.jupyter.widget-view+json": {
       "model_id": "79a2c94024314f809c367d504cf102f8",
       "version_major": 2,
       "version_minor": 0
      },
      "text/plain": [
       "Bill_Gates_0014.jpg:   0%|          | 0.00/8.09k [00:00<?, ?B/s]"
      ]
     },
     "metadata": {},
     "output_type": "display_data"
    },
    {
     "data": {
      "application/vnd.jupyter.widget-view+json": {
       "model_id": "90e07c8c7987497d8ea89d5b85a730d7",
       "version_major": 2,
       "version_minor": 0
      },
      "text/plain": [
       "Bill_Gates_0015.jpg:   0%|          | 0.00/8.67k [00:00<?, ?B/s]"
      ]
     },
     "metadata": {},
     "output_type": "display_data"
    },
    {
     "data": {
      "application/vnd.jupyter.widget-view+json": {
       "model_id": "399d373253a047c3a61c37f74eb37cd4",
       "version_major": 2,
       "version_minor": 0
      },
      "text/plain": [
       "Bill_Gates_0016.jpg:   0%|          | 0.00/6.31k [00:00<?, ?B/s]"
      ]
     },
     "metadata": {},
     "output_type": "display_data"
    },
    {
     "data": {
      "application/vnd.jupyter.widget-view+json": {
       "model_id": "c50ef9a38efd4fae9c39cc7b86e7b6ff",
       "version_major": 2,
       "version_minor": 0
      },
      "text/plain": [
       "Bill_Gates_0017.jpg:   0%|          | 0.00/7.60k [00:00<?, ?B/s]"
      ]
     },
     "metadata": {},
     "output_type": "display_data"
    },
    {
     "data": {
      "application/vnd.jupyter.widget-view+json": {
       "model_id": "9bf0a264d1404a08ae431991f3cc8d10",
       "version_major": 2,
       "version_minor": 0
      },
      "text/plain": [
       "Bill_Graham_0001.jpg:   0%|          | 0.00/7.33k [00:00<?, ?B/s]"
      ]
     },
     "metadata": {},
     "output_type": "display_data"
    },
    {
     "data": {
      "application/vnd.jupyter.widget-view+json": {
       "model_id": "ef4611eb4ac34ba68762e49e8c270a86",
       "version_major": 2,
       "version_minor": 0
      },
      "text/plain": [
       "Bill_Graham_0002.jpg:   0%|          | 0.00/8.43k [00:00<?, ?B/s]"
      ]
     },
     "metadata": {},
     "output_type": "display_data"
    },
    {
     "data": {
      "application/vnd.jupyter.widget-view+json": {
       "model_id": "08246f1801694af680cb2fae31611922",
       "version_major": 2,
       "version_minor": 0
      },
      "text/plain": [
       "Bill_Graham_0003.jpg:   0%|          | 0.00/6.56k [00:00<?, ?B/s]"
      ]
     },
     "metadata": {},
     "output_type": "display_data"
    },
    {
     "data": {
      "application/vnd.jupyter.widget-view+json": {
       "model_id": "744708974f894f109b4f7c54b0a7651f",
       "version_major": 2,
       "version_minor": 0
      },
      "text/plain": [
       "Bill_Graham_0004.jpg:   0%|          | 0.00/7.40k [00:00<?, ?B/s]"
      ]
     },
     "metadata": {},
     "output_type": "display_data"
    },
    {
     "data": {
      "application/vnd.jupyter.widget-view+json": {
       "model_id": "5151898aa8b64ddc9f584a65c7e3debe",
       "version_major": 2,
       "version_minor": 0
      },
      "text/plain": [
       "Bill_Graham_0005.jpg:   0%|          | 0.00/6.84k [00:00<?, ?B/s]"
      ]
     },
     "metadata": {},
     "output_type": "display_data"
    },
    {
     "data": {
      "application/vnd.jupyter.widget-view+json": {
       "model_id": "5fea6af77768406fa634046a93c4c6b3",
       "version_major": 2,
       "version_minor": 0
      },
      "text/plain": [
       "Bill_Graham_0006.jpg:   0%|          | 0.00/6.36k [00:00<?, ?B/s]"
      ]
     },
     "metadata": {},
     "output_type": "display_data"
    },
    {
     "data": {
      "application/vnd.jupyter.widget-view+json": {
       "model_id": "19458256bdd5432d8365088957ae749d",
       "version_major": 2,
       "version_minor": 0
      },
      "text/plain": [
       "Bill_Graham_0007.jpg:   0%|          | 0.00/7.11k [00:00<?, ?B/s]"
      ]
     },
     "metadata": {},
     "output_type": "display_data"
    },
    {
     "data": {
      "application/vnd.jupyter.widget-view+json": {
       "model_id": "58a412ee7cbe47aabc95ad6aff4060aa",
       "version_major": 2,
       "version_minor": 0
      },
      "text/plain": [
       "Bill_Graham_0008.jpg:   0%|          | 0.00/7.40k [00:00<?, ?B/s]"
      ]
     },
     "metadata": {},
     "output_type": "display_data"
    },
    {
     "data": {
      "application/vnd.jupyter.widget-view+json": {
       "model_id": "e4cc2d22c9e2494c8bd5e74569303b47",
       "version_major": 2,
       "version_minor": 0
      },
      "text/plain": [
       "Bill_Graham_0009.jpg:   0%|          | 0.00/6.43k [00:00<?, ?B/s]"
      ]
     },
     "metadata": {},
     "output_type": "display_data"
    },
    {
     "data": {
      "application/vnd.jupyter.widget-view+json": {
       "model_id": "e10a9b0e67424b9c8bc0043d69e8e19e",
       "version_major": 2,
       "version_minor": 0
      },
      "text/plain": [
       "Bill_Guerin_0001.jpg:   0%|          | 0.00/8.88k [00:00<?, ?B/s]"
      ]
     },
     "metadata": {},
     "output_type": "display_data"
    },
    {
     "data": {
      "application/vnd.jupyter.widget-view+json": {
       "model_id": "c279ff410549484bbfca4591109acbf5",
       "version_major": 2,
       "version_minor": 0
      },
      "text/plain": [
       "Bill_Herrion_0001.jpg:   0%|          | 0.00/8.74k [00:00<?, ?B/s]"
      ]
     },
     "metadata": {},
     "output_type": "display_data"
    },
    {
     "data": {
      "application/vnd.jupyter.widget-view+json": {
       "model_id": "d17319c97eb5495290cefa0fe882829e",
       "version_major": 2,
       "version_minor": 0
      },
      "text/plain": [
       "Bill_Hughes_0001.jpg:   0%|          | 0.00/8.01k [00:00<?, ?B/s]"
      ]
     },
     "metadata": {},
     "output_type": "display_data"
    },
    {
     "data": {
      "application/vnd.jupyter.widget-view+json": {
       "model_id": "527abf8c483d44fe85f88355f04f1e5b",
       "version_major": 2,
       "version_minor": 0
      },
      "text/plain": [
       "Bill_King_0001.jpg:   0%|          | 0.00/9.03k [00:00<?, ?B/s]"
      ]
     },
     "metadata": {},
     "output_type": "display_data"
    },
    {
     "data": {
      "application/vnd.jupyter.widget-view+json": {
       "model_id": "61cf14dd28134ad6b4ae565b53fa7da9",
       "version_major": 2,
       "version_minor": 0
      },
      "text/plain": [
       "Bill_Kollar_0001.jpg:   0%|          | 0.00/8.62k [00:00<?, ?B/s]"
      ]
     },
     "metadata": {},
     "output_type": "display_data"
    },
    {
     "data": {
      "application/vnd.jupyter.widget-view+json": {
       "model_id": "bdfc3277d0344259b6b200b1999100d3",
       "version_major": 2,
       "version_minor": 0
      },
      "text/plain": [
       "Bill_Kong_0001.jpg:   0%|          | 0.00/6.63k [00:00<?, ?B/s]"
      ]
     },
     "metadata": {},
     "output_type": "display_data"
    },
    {
     "data": {
      "application/vnd.jupyter.widget-view+json": {
       "model_id": "6b384d5454b04e52be59c7cda46672c4",
       "version_major": 2,
       "version_minor": 0
      },
      "text/plain": [
       "Bill_Lerach_0001.jpg:   0%|          | 0.00/9.18k [00:00<?, ?B/s]"
      ]
     },
     "metadata": {},
     "output_type": "display_data"
    },
    {
     "data": {
      "application/vnd.jupyter.widget-view+json": {
       "model_id": "bc1358ee1ac84de68d398ef98a12975f",
       "version_major": 2,
       "version_minor": 0
      },
      "text/plain": [
       "Bill_Maher_0001.jpg:   0%|          | 0.00/5.98k [00:00<?, ?B/s]"
      ]
     },
     "metadata": {},
     "output_type": "display_data"
    },
    {
     "data": {
      "application/vnd.jupyter.widget-view+json": {
       "model_id": "69de87a9924f4b8ba90326b80c75d7f0",
       "version_major": 2,
       "version_minor": 0
      },
      "text/plain": [
       "Bill_Mauldin_0001.jpg:   0%|          | 0.00/8.80k [00:00<?, ?B/s]"
      ]
     },
     "metadata": {},
     "output_type": "display_data"
    },
    {
     "data": {
      "application/vnd.jupyter.widget-view+json": {
       "model_id": "a10a926fb6ce4920a60247bf3547afba",
       "version_major": 2,
       "version_minor": 0
      },
      "text/plain": [
       "Bill_McBride_0001.jpg:   0%|          | 0.00/10.3k [00:00<?, ?B/s]"
      ]
     },
     "metadata": {},
     "output_type": "display_data"
    },
    {
     "data": {
      "application/vnd.jupyter.widget-view+json": {
       "model_id": "6b8d7bcfd9e3402e83851ba8122cfca2",
       "version_major": 2,
       "version_minor": 0
      },
      "text/plain": [
       "Bill_McBride_0002.jpg:   0%|          | 0.00/10.2k [00:00<?, ?B/s]"
      ]
     },
     "metadata": {},
     "output_type": "display_data"
    },
    {
     "data": {
      "application/vnd.jupyter.widget-view+json": {
       "model_id": "e7b66c3c2d804ff287990b53914a5511",
       "version_major": 2,
       "version_minor": 0
      },
      "text/plain": [
       "Bill_McBride_0003.jpg:   0%|          | 0.00/9.21k [00:00<?, ?B/s]"
      ]
     },
     "metadata": {},
     "output_type": "display_data"
    },
    {
     "data": {
      "application/vnd.jupyter.widget-view+json": {
       "model_id": "3a8edcfa75fa418897a60355c2df9907",
       "version_major": 2,
       "version_minor": 0
      },
      "text/plain": [
       "Bill_McBride_0004.jpg:   0%|          | 0.00/7.20k [00:00<?, ?B/s]"
      ]
     },
     "metadata": {},
     "output_type": "display_data"
    },
    {
     "data": {
      "application/vnd.jupyter.widget-view+json": {
       "model_id": "7e7fb3aa57a24308a5829a3041406c90",
       "version_major": 2,
       "version_minor": 0
      },
      "text/plain": [
       "Bill_McBride_0005.jpg:   0%|          | 0.00/9.49k [00:00<?, ?B/s]"
      ]
     },
     "metadata": {},
     "output_type": "display_data"
    },
    {
     "data": {
      "application/vnd.jupyter.widget-view+json": {
       "model_id": "56069df902584f51a44e2b6734195074",
       "version_major": 2,
       "version_minor": 0
      },
      "text/plain": [
       "Bill_McBride_0006.jpg:   0%|          | 0.00/7.03k [00:00<?, ?B/s]"
      ]
     },
     "metadata": {},
     "output_type": "display_data"
    },
    {
     "data": {
      "application/vnd.jupyter.widget-view+json": {
       "model_id": "d6eec4f055e7498d8dbee5ce82e031de",
       "version_major": 2,
       "version_minor": 0
      },
      "text/plain": [
       "Bill_McBride_0007.jpg:   0%|          | 0.00/8.01k [00:00<?, ?B/s]"
      ]
     },
     "metadata": {},
     "output_type": "display_data"
    },
    {
     "data": {
      "application/vnd.jupyter.widget-view+json": {
       "model_id": "6d8a9ddfaa524de9b04750bcb6b86832",
       "version_major": 2,
       "version_minor": 0
      },
      "text/plain": [
       "Bill_McBride_0008.jpg:   0%|          | 0.00/8.98k [00:00<?, ?B/s]"
      ]
     },
     "metadata": {},
     "output_type": "display_data"
    },
    {
     "data": {
      "application/vnd.jupyter.widget-view+json": {
       "model_id": "a934a6a45a83434b83433208e6381b96",
       "version_major": 2,
       "version_minor": 0
      },
      "text/plain": [
       "Bill_McBride_0009.jpg:   0%|          | 0.00/6.27k [00:00<?, ?B/s]"
      ]
     },
     "metadata": {},
     "output_type": "display_data"
    },
    {
     "data": {
      "application/vnd.jupyter.widget-view+json": {
       "model_id": "4a304ef2a453406cb73a02e65b2b55a4",
       "version_major": 2,
       "version_minor": 0
      },
      "text/plain": [
       "Bill_McBride_0010.jpg:   0%|          | 0.00/8.02k [00:00<?, ?B/s]"
      ]
     },
     "metadata": {},
     "output_type": "display_data"
    },
    {
     "data": {
      "application/vnd.jupyter.widget-view+json": {
       "model_id": "094e2476dc5e4d678a756aa2fcb98f52",
       "version_major": 2,
       "version_minor": 0
      },
      "text/plain": [
       "Bill_Nelson_0001.jpg:   0%|          | 0.00/7.83k [00:00<?, ?B/s]"
      ]
     },
     "metadata": {},
     "output_type": "display_data"
    },
    {
     "data": {
      "application/vnd.jupyter.widget-view+json": {
       "model_id": "f0d138a750a740f884d3a11d0e0f3ad5",
       "version_major": 2,
       "version_minor": 0
      },
      "text/plain": [
       "Bill_Nelson_0002.jpg:   0%|          | 0.00/9.22k [00:00<?, ?B/s]"
      ]
     },
     "metadata": {},
     "output_type": "display_data"
    },
    {
     "data": {
      "application/vnd.jupyter.widget-view+json": {
       "model_id": "a74256c6329f4addbd58d6c2b4cb0607",
       "version_major": 2,
       "version_minor": 0
      },
      "text/plain": [
       "Bill_OReilly_0001.jpg:   0%|          | 0.00/8.11k [00:00<?, ?B/s]"
      ]
     },
     "metadata": {},
     "output_type": "display_data"
    },
    {
     "data": {
      "application/vnd.jupyter.widget-view+json": {
       "model_id": "fe9db065646641b4aa517e6c381e3c99",
       "version_major": 2,
       "version_minor": 0
      },
      "text/plain": [
       "Bill_Parcells_0001.jpg:   0%|          | 0.00/9.76k [00:00<?, ?B/s]"
      ]
     },
     "metadata": {},
     "output_type": "display_data"
    },
    {
     "data": {
      "application/vnd.jupyter.widget-view+json": {
       "model_id": "3ffbcdecaed447d3bfaae9b3edc830a1",
       "version_major": 2,
       "version_minor": 0
      },
      "text/plain": [
       "Bill_Parcells_0002.jpg:   0%|          | 0.00/9.32k [00:00<?, ?B/s]"
      ]
     },
     "metadata": {},
     "output_type": "display_data"
    },
    {
     "data": {
      "application/vnd.jupyter.widget-view+json": {
       "model_id": "85c1af75e769433fa8f571b2247e0e85",
       "version_major": 2,
       "version_minor": 0
      },
      "text/plain": [
       "Bill_Parsons_0001.jpg:   0%|          | 0.00/7.19k [00:00<?, ?B/s]"
      ]
     },
     "metadata": {},
     "output_type": "display_data"
    },
    {
     "data": {
      "application/vnd.jupyter.widget-view+json": {
       "model_id": "1ae98e36193940d9affa7d49586eeef8",
       "version_major": 2,
       "version_minor": 0
      },
      "text/plain": [
       "Bill_Paxton_0001.jpg:   0%|          | 0.00/10.4k [00:00<?, ?B/s]"
      ]
     },
     "metadata": {},
     "output_type": "display_data"
    },
    {
     "data": {
      "application/vnd.jupyter.widget-view+json": {
       "model_id": "42c50d75ccaf4bc7a186c181a2e7d874",
       "version_major": 2,
       "version_minor": 0
      },
      "text/plain": [
       "Bill_Paxton_0002.jpg:   0%|          | 0.00/7.48k [00:00<?, ?B/s]"
      ]
     },
     "metadata": {},
     "output_type": "display_data"
    },
    {
     "data": {
      "application/vnd.jupyter.widget-view+json": {
       "model_id": "b2d0984343784fb2bbccdf2df0b89980",
       "version_major": 2,
       "version_minor": 0
      },
      "text/plain": [
       "Bill_Paxton_0003.jpg:   0%|          | 0.00/8.67k [00:00<?, ?B/s]"
      ]
     },
     "metadata": {},
     "output_type": "display_data"
    },
    {
     "data": {
      "application/vnd.jupyter.widget-view+json": {
       "model_id": "ee0aa03bfc5746a486e1ad661d1b68a8",
       "version_major": 2,
       "version_minor": 0
      },
      "text/plain": [
       "Bill_Paxton_0004.jpg:   0%|          | 0.00/10.7k [00:00<?, ?B/s]"
      ]
     },
     "metadata": {},
     "output_type": "display_data"
    },
    {
     "data": {
      "application/vnd.jupyter.widget-view+json": {
       "model_id": "582e7b8c2c414d14be8c1c03c4df05f6",
       "version_major": 2,
       "version_minor": 0
      },
      "text/plain": [
       "Bill_Pryor_0001.jpg:   0%|          | 0.00/9.62k [00:00<?, ?B/s]"
      ]
     },
     "metadata": {},
     "output_type": "display_data"
    },
    {
     "data": {
      "application/vnd.jupyter.widget-view+json": {
       "model_id": "043bb352c1624cfb9b0c57bec2902e8d",
       "version_major": 2,
       "version_minor": 0
      },
      "text/plain": [
       "Bill_Rainer_0001.jpg:   0%|          | 0.00/10.7k [00:00<?, ?B/s]"
      ]
     },
     "metadata": {},
     "output_type": "display_data"
    },
    {
     "data": {
      "application/vnd.jupyter.widget-view+json": {
       "model_id": "1e584bfdfdee45f6bed479fb80a84629",
       "version_major": 2,
       "version_minor": 0
      },
      "text/plain": [
       "Bill_Readdy_0001.jpg:   0%|          | 0.00/8.40k [00:00<?, ?B/s]"
      ]
     },
     "metadata": {},
     "output_type": "display_data"
    },
    {
     "data": {
      "application/vnd.jupyter.widget-view+json": {
       "model_id": "766187f0c24043d8947dbe22970000d2",
       "version_major": 2,
       "version_minor": 0
      },
      "text/plain": [
       "Bill_Richardson_0001.jpg:   0%|          | 0.00/10.2k [00:00<?, ?B/s]"
      ]
     },
     "metadata": {},
     "output_type": "display_data"
    },
    {
     "data": {
      "application/vnd.jupyter.widget-view+json": {
       "model_id": "a75c47a090924477a15b0ff1b74518cf",
       "version_major": 2,
       "version_minor": 0
      },
      "text/plain": [
       "Bill_Self_0001.jpg:   0%|          | 0.00/7.83k [00:00<?, ?B/s]"
      ]
     },
     "metadata": {},
     "output_type": "display_data"
    },
    {
     "data": {
      "application/vnd.jupyter.widget-view+json": {
       "model_id": "2d28c7b1f84049b18f6c2a1e07dc25b6",
       "version_major": 2,
       "version_minor": 0
      },
      "text/plain": [
       "Bill_Simon_0001.jpg:   0%|          | 0.00/7.89k [00:00<?, ?B/s]"
      ]
     },
     "metadata": {},
     "output_type": "display_data"
    },
    {
     "data": {
      "application/vnd.jupyter.widget-view+json": {
       "model_id": "e793b0339dbc4093b8a5e4efc8986d58",
       "version_major": 2,
       "version_minor": 0
      },
      "text/plain": [
       "Bill_Simon_0002.jpg:   0%|          | 0.00/7.63k [00:00<?, ?B/s]"
      ]
     },
     "metadata": {},
     "output_type": "display_data"
    },
    {
     "data": {
      "application/vnd.jupyter.widget-view+json": {
       "model_id": "1b40a50851304b3fb4152d3bc676d2b0",
       "version_major": 2,
       "version_minor": 0
      },
      "text/plain": [
       "Bill_Simon_0003.jpg:   0%|          | 0.00/9.51k [00:00<?, ?B/s]"
      ]
     },
     "metadata": {},
     "output_type": "display_data"
    },
    {
     "data": {
      "application/vnd.jupyter.widget-view+json": {
       "model_id": "534aaf2236b340a1b84316dd24c5da6f",
       "version_major": 2,
       "version_minor": 0
      },
      "text/plain": [
       "Bill_Simon_0004.jpg:   0%|          | 0.00/9.19k [00:00<?, ?B/s]"
      ]
     },
     "metadata": {},
     "output_type": "display_data"
    },
    {
     "data": {
      "application/vnd.jupyter.widget-view+json": {
       "model_id": "b155d73ca4d44ad9af2e6b04367e399d",
       "version_major": 2,
       "version_minor": 0
      },
      "text/plain": [
       "Bill_Simon_0005.jpg:   0%|          | 0.00/11.1k [00:00<?, ?B/s]"
      ]
     },
     "metadata": {},
     "output_type": "display_data"
    },
    {
     "data": {
      "application/vnd.jupyter.widget-view+json": {
       "model_id": "98f007026e0f4291a644a8611c1dad0c",
       "version_major": 2,
       "version_minor": 0
      },
      "text/plain": [
       "Bill_Simon_0006.jpg:   0%|          | 0.00/7.95k [00:00<?, ?B/s]"
      ]
     },
     "metadata": {},
     "output_type": "display_data"
    },
    {
     "data": {
      "application/vnd.jupyter.widget-view+json": {
       "model_id": "548cdff597e44937bb60d6900ac6607d",
       "version_major": 2,
       "version_minor": 0
      },
      "text/plain": [
       "Bill_Simon_0007.jpg:   0%|          | 0.00/8.89k [00:00<?, ?B/s]"
      ]
     },
     "metadata": {},
     "output_type": "display_data"
    },
    {
     "data": {
      "application/vnd.jupyter.widget-view+json": {
       "model_id": "3dc46da4948240a3bef66258f16462d4",
       "version_major": 2,
       "version_minor": 0
      },
      "text/plain": [
       "Bill_Simon_0008.jpg:   0%|          | 0.00/7.52k [00:00<?, ?B/s]"
      ]
     },
     "metadata": {},
     "output_type": "display_data"
    },
    {
     "data": {
      "application/vnd.jupyter.widget-view+json": {
       "model_id": "5508cde2058046698f2f0c22d7b04ebb",
       "version_major": 2,
       "version_minor": 0
      },
      "text/plain": [
       "Bill_Simon_0009.jpg:   0%|          | 0.00/9.19k [00:00<?, ?B/s]"
      ]
     },
     "metadata": {},
     "output_type": "display_data"
    },
    {
     "data": {
      "application/vnd.jupyter.widget-view+json": {
       "model_id": "f29fa5fc30e14a12b74ef70d373c6fe7",
       "version_major": 2,
       "version_minor": 0
      },
      "text/plain": [
       "Bill_Simon_0010.jpg:   0%|          | 0.00/9.89k [00:00<?, ?B/s]"
      ]
     },
     "metadata": {},
     "output_type": "display_data"
    },
    {
     "data": {
      "application/vnd.jupyter.widget-view+json": {
       "model_id": "25a05d2bf6664f468f217e136fc935ed",
       "version_major": 2,
       "version_minor": 0
      },
      "text/plain": [
       "Bill_Simon_0011.jpg:   0%|          | 0.00/9.17k [00:00<?, ?B/s]"
      ]
     },
     "metadata": {},
     "output_type": "display_data"
    },
    {
     "data": {
      "application/vnd.jupyter.widget-view+json": {
       "model_id": "6a56a86edb664803b90e4458d0cbcc17",
       "version_major": 2,
       "version_minor": 0
      },
      "text/plain": [
       "Bill_Simon_0012.jpg:   0%|          | 0.00/9.03k [00:00<?, ?B/s]"
      ]
     },
     "metadata": {},
     "output_type": "display_data"
    },
    {
     "data": {
      "application/vnd.jupyter.widget-view+json": {
       "model_id": "befeeead09a84d6ca2cdaed514175325",
       "version_major": 2,
       "version_minor": 0
      },
      "text/plain": [
       "Bill_Simon_0013.jpg:   0%|          | 0.00/7.69k [00:00<?, ?B/s]"
      ]
     },
     "metadata": {},
     "output_type": "display_data"
    },
    {
     "data": {
      "application/vnd.jupyter.widget-view+json": {
       "model_id": "9850326e84bc46279de90f9bad05d2c2",
       "version_major": 2,
       "version_minor": 0
      },
      "text/plain": [
       "Bill_Simon_0014.jpg:   0%|          | 0.00/7.55k [00:00<?, ?B/s]"
      ]
     },
     "metadata": {},
     "output_type": "display_data"
    },
    {
     "data": {
      "application/vnd.jupyter.widget-view+json": {
       "model_id": "c0af1ad4d876464cbda6cda1fa31540b",
       "version_major": 2,
       "version_minor": 0
      },
      "text/plain": [
       "Bill_Simon_0015.jpg:   0%|          | 0.00/8.76k [00:00<?, ?B/s]"
      ]
     },
     "metadata": {},
     "output_type": "display_data"
    },
    {
     "data": {
      "application/vnd.jupyter.widget-view+json": {
       "model_id": "acecafbaaf2646ee893f6f6fb3270f65",
       "version_major": 2,
       "version_minor": 0
      },
      "text/plain": [
       "Bill_Sizemore_0001.jpg:   0%|          | 0.00/8.86k [00:00<?, ?B/s]"
      ]
     },
     "metadata": {},
     "output_type": "display_data"
    },
    {
     "data": {
      "application/vnd.jupyter.widget-view+json": {
       "model_id": "a6b6def2fa8e4ea7b5470284d821855b",
       "version_major": 2,
       "version_minor": 0
      },
      "text/plain": [
       "Bill_Sizemore_0002.jpg:   0%|          | 0.00/8.30k [00:00<?, ?B/s]"
      ]
     },
     "metadata": {},
     "output_type": "display_data"
    },
    {
     "data": {
      "application/vnd.jupyter.widget-view+json": {
       "model_id": "fc5c5be746df4e0ba220e9cbc4f2340a",
       "version_major": 2,
       "version_minor": 0
      },
      "text/plain": [
       "Bill_Stapleton_0001.jpg:   0%|          | 0.00/8.11k [00:00<?, ?B/s]"
      ]
     },
     "metadata": {},
     "output_type": "display_data"
    },
    {
     "data": {
      "application/vnd.jupyter.widget-view+json": {
       "model_id": "996a2500a62b4e24a4e0ea9035862ff3",
       "version_major": 2,
       "version_minor": 0
      },
      "text/plain": [
       "Bill_Stein_0001.jpg:   0%|          | 0.00/11.7k [00:00<?, ?B/s]"
      ]
     },
     "metadata": {},
     "output_type": "display_data"
    },
    {
     "data": {
      "application/vnd.jupyter.widget-view+json": {
       "model_id": "515737e7ea52462ba57343991421f44b",
       "version_major": 2,
       "version_minor": 0
      },
      "text/plain": [
       "Bill_Walton_0001.jpg:   0%|          | 0.00/11.8k [00:00<?, ?B/s]"
      ]
     },
     "metadata": {},
     "output_type": "display_data"
    },
    {
     "data": {
      "application/vnd.jupyter.widget-view+json": {
       "model_id": "f6acf4009d4f455c82926cde574bf0ca",
       "version_major": 2,
       "version_minor": 0
      },
      "text/plain": [
       "Billy_Andrade_0001.jpg:   0%|          | 0.00/8.23k [00:00<?, ?B/s]"
      ]
     },
     "metadata": {},
     "output_type": "display_data"
    },
    {
     "data": {
      "application/vnd.jupyter.widget-view+json": {
       "model_id": "7273a2de1cf348229a0cbcfd61836bc6",
       "version_major": 2,
       "version_minor": 0
      },
      "text/plain": [
       "Billy_Beane_0001.jpg:   0%|          | 0.00/9.76k [00:00<?, ?B/s]"
      ]
     },
     "metadata": {},
     "output_type": "display_data"
    },
    {
     "data": {
      "application/vnd.jupyter.widget-view+json": {
       "model_id": "1c9042918ec1422a80690ae814b120bd",
       "version_major": 2,
       "version_minor": 0
      },
      "text/plain": [
       "Billy_Bob_Thornton_0001.jpg:   0%|          | 0.00/10.5k [00:00<?, ?B/s]"
      ]
     },
     "metadata": {},
     "output_type": "display_data"
    },
    {
     "data": {
      "application/vnd.jupyter.widget-view+json": {
       "model_id": "5f06d56bfaaf488ab3ba6989443de513",
       "version_major": 2,
       "version_minor": 0
      },
      "text/plain": [
       "Billy_Boyd_0001.jpg:   0%|          | 0.00/7.90k [00:00<?, ?B/s]"
      ]
     },
     "metadata": {},
     "output_type": "display_data"
    },
    {
     "data": {
      "application/vnd.jupyter.widget-view+json": {
       "model_id": "08a0761eacc64303b133f8bb654ded0d",
       "version_major": 2,
       "version_minor": 0
      },
      "text/plain": [
       "Billy_Crawford_0001.jpg:   0%|          | 0.00/11.4k [00:00<?, ?B/s]"
      ]
     },
     "metadata": {},
     "output_type": "display_data"
    },
    {
     "data": {
      "application/vnd.jupyter.widget-view+json": {
       "model_id": "cff3b0b5b2944b4e8bcc7acd7c1fe1ba",
       "version_major": 2,
       "version_minor": 0
      },
      "text/plain": [
       "Billy_Crystal_0001.jpg:   0%|          | 0.00/10.3k [00:00<?, ?B/s]"
      ]
     },
     "metadata": {},
     "output_type": "display_data"
    },
    {
     "data": {
      "application/vnd.jupyter.widget-view+json": {
       "model_id": "2d247e3862f74acb87c91155a9f95c71",
       "version_major": 2,
       "version_minor": 0
      },
      "text/plain": [
       "Billy_Crystal_0002.jpg:   0%|          | 0.00/8.19k [00:00<?, ?B/s]"
      ]
     },
     "metadata": {},
     "output_type": "display_data"
    },
    {
     "data": {
      "application/vnd.jupyter.widget-view+json": {
       "model_id": "6b57e28d7ea648b68ab56d8205da4a9b",
       "version_major": 2,
       "version_minor": 0
      },
      "text/plain": [
       "Billy_Crystal_0003.jpg:   0%|          | 0.00/7.65k [00:00<?, ?B/s]"
      ]
     },
     "metadata": {},
     "output_type": "display_data"
    },
    {
     "data": {
      "application/vnd.jupyter.widget-view+json": {
       "model_id": "faa33dd05ad4431ca18a5695e28e9a70",
       "version_major": 2,
       "version_minor": 0
      },
      "text/plain": [
       "Billy_Crystal_0004.jpg:   0%|          | 0.00/7.80k [00:00<?, ?B/s]"
      ]
     },
     "metadata": {},
     "output_type": "display_data"
    },
    {
     "data": {
      "application/vnd.jupyter.widget-view+json": {
       "model_id": "122f7f6a89174fc1b9ffa6278da61353",
       "version_major": 2,
       "version_minor": 0
      },
      "text/plain": [
       "Billy_Crystal_0005.jpg:   0%|          | 0.00/8.82k [00:00<?, ?B/s]"
      ]
     },
     "metadata": {},
     "output_type": "display_data"
    },
    {
     "data": {
      "application/vnd.jupyter.widget-view+json": {
       "model_id": "f22cc4035615471eb9db72d9b29474ad",
       "version_major": 2,
       "version_minor": 0
      },
      "text/plain": [
       "Billy_Crystal_0006.jpg:   0%|          | 0.00/7.33k [00:00<?, ?B/s]"
      ]
     },
     "metadata": {},
     "output_type": "display_data"
    },
    {
     "data": {
      "application/vnd.jupyter.widget-view+json": {
       "model_id": "bad2d5642b0344d89201c819bcf9b174",
       "version_major": 2,
       "version_minor": 0
      },
      "text/plain": [
       "Billy_Donovan_0001.jpg:   0%|          | 0.00/7.56k [00:00<?, ?B/s]"
      ]
     },
     "metadata": {},
     "output_type": "display_data"
    },
    {
     "data": {
      "application/vnd.jupyter.widget-view+json": {
       "model_id": "56f40ed6183b43aaba08b57c45a96ef7",
       "version_major": 2,
       "version_minor": 0
      },
      "text/plain": [
       "Billy_Edelin_0001.jpg:   0%|          | 0.00/11.1k [00:00<?, ?B/s]"
      ]
     },
     "metadata": {},
     "output_type": "display_data"
    },
    {
     "data": {
      "application/vnd.jupyter.widget-view+json": {
       "model_id": "4e96d950f63d49dabaa54e4cda0c0aed",
       "version_major": 2,
       "version_minor": 0
      },
      "text/plain": [
       "Billy_Gilman_0001.jpg:   0%|          | 0.00/9.48k [00:00<?, ?B/s]"
      ]
     },
     "metadata": {},
     "output_type": "display_data"
    },
    {
     "data": {
      "application/vnd.jupyter.widget-view+json": {
       "model_id": "a8ca46ebd5244fc79e1aecb8fd1c4b57",
       "version_major": 2,
       "version_minor": 0
      },
      "text/plain": [
       "Billy_Graham_0001.jpg:   0%|          | 0.00/7.49k [00:00<?, ?B/s]"
      ]
     },
     "metadata": {},
     "output_type": "display_data"
    },
    {
     "data": {
      "application/vnd.jupyter.widget-view+json": {
       "model_id": "6ebc020667b64a3b84e4d7258161074e",
       "version_major": 2,
       "version_minor": 0
      },
      "text/plain": [
       "Billy_Graham_0002.jpg:   0%|          | 0.00/8.20k [00:00<?, ?B/s]"
      ]
     },
     "metadata": {},
     "output_type": "display_data"
    },
    {
     "data": {
      "application/vnd.jupyter.widget-view+json": {
       "model_id": "6a5031f3e68b41d3a7f901182d8d1330",
       "version_major": 2,
       "version_minor": 0
      },
      "text/plain": [
       "Billy_Joel_0001.jpg:   0%|          | 0.00/9.55k [00:00<?, ?B/s]"
      ]
     },
     "metadata": {},
     "output_type": "display_data"
    },
    {
     "data": {
      "application/vnd.jupyter.widget-view+json": {
       "model_id": "c67586092ac847b48c16faed0b5ab64b",
       "version_major": 2,
       "version_minor": 0
      },
      "text/plain": [
       "Billy_Rork_0001.jpg:   0%|          | 0.00/6.43k [00:00<?, ?B/s]"
      ]
     },
     "metadata": {},
     "output_type": "display_data"
    },
    {
     "data": {
      "application/vnd.jupyter.widget-view+json": {
       "model_id": "2ff5646a377445e0b0c0a0e7213805bf",
       "version_major": 2,
       "version_minor": 0
      },
      "text/plain": [
       "Billy_Sollie_0001.jpg:   0%|          | 0.00/7.96k [00:00<?, ?B/s]"
      ]
     },
     "metadata": {},
     "output_type": "display_data"
    },
    {
     "data": {
      "application/vnd.jupyter.widget-view+json": {
       "model_id": "93d9919a68bf4391af7e90fdfd6ef722",
       "version_major": 2,
       "version_minor": 0
      },
      "text/plain": [
       "Billy_Sollie_0002.jpg:   0%|          | 0.00/8.72k [00:00<?, ?B/s]"
      ]
     },
     "metadata": {},
     "output_type": "display_data"
    },
    {
     "data": {
      "application/vnd.jupyter.widget-view+json": {
       "model_id": "07dfc9e1dbfe43309eb093f8f665e563",
       "version_major": 2,
       "version_minor": 0
      },
      "text/plain": [
       "Billy_Tibbets_0001.jpg:   0%|          | 0.00/9.46k [00:00<?, ?B/s]"
      ]
     },
     "metadata": {},
     "output_type": "display_data"
    },
    {
     "data": {
      "application/vnd.jupyter.widget-view+json": {
       "model_id": "bce53ee9a70b41aeaa032301463029a9",
       "version_major": 2,
       "version_minor": 0
      },
      "text/plain": [
       "Bing_Crosby_0001.jpg:   0%|          | 0.00/8.29k [00:00<?, ?B/s]"
      ]
     },
     "metadata": {},
     "output_type": "display_data"
    },
    {
     "data": {
      "application/vnd.jupyter.widget-view+json": {
       "model_id": "3354e97ee499444da83eff9eae07ef9c",
       "version_major": 2,
       "version_minor": 0
      },
      "text/plain": [
       "Binyamin_Ben-Eliezer_0001.jpg:   0%|          | 0.00/8.87k [00:00<?, ?B/s]"
      ]
     },
     "metadata": {},
     "output_type": "display_data"
    },
    {
     "data": {
      "application/vnd.jupyter.widget-view+json": {
       "model_id": "36884b5138af4ece95cb2422c757b663",
       "version_major": 2,
       "version_minor": 0
      },
      "text/plain": [
       "Binyamin_Ben-Eliezer_0002.jpg:   0%|          | 0.00/8.98k [00:00<?, ?B/s]"
      ]
     },
     "metadata": {},
     "output_type": "display_data"
    },
    {
     "data": {
      "application/vnd.jupyter.widget-view+json": {
       "model_id": "e9fe4886cdeb4af6b8fe7bd427fbb8a4",
       "version_major": 2,
       "version_minor": 0
      },
      "text/plain": [
       "Binyamin_Ben-Eliezer_0003.jpg:   0%|          | 0.00/7.79k [00:00<?, ?B/s]"
      ]
     },
     "metadata": {},
     "output_type": "display_data"
    },
    {
     "data": {
      "application/vnd.jupyter.widget-view+json": {
       "model_id": "4ae4874cfeba473b8a9610f04c2399a6",
       "version_major": 2,
       "version_minor": 0
      },
      "text/plain": [
       "Binyamin_Ben-Eliezer_0004.jpg:   0%|          | 0.00/8.23k [00:00<?, ?B/s]"
      ]
     },
     "metadata": {},
     "output_type": "display_data"
    },
    {
     "data": {
      "application/vnd.jupyter.widget-view+json": {
       "model_id": "d71f607cfa754d8ea9f0fa773ceb2e76",
       "version_major": 2,
       "version_minor": 0
      },
      "text/plain": [
       "Binyamin_Ben-Eliezer_0005.jpg:   0%|          | 0.00/8.04k [00:00<?, ?B/s]"
      ]
     },
     "metadata": {},
     "output_type": "display_data"
    },
    {
     "data": {
      "application/vnd.jupyter.widget-view+json": {
       "model_id": "75cb387a1f0043ee8fd0893838d33d51",
       "version_major": 2,
       "version_minor": 0
      },
      "text/plain": [
       "Binyamin_Ben-Eliezer_0006.jpg:   0%|          | 0.00/8.86k [00:00<?, ?B/s]"
      ]
     },
     "metadata": {},
     "output_type": "display_data"
    },
    {
     "data": {
      "application/vnd.jupyter.widget-view+json": {
       "model_id": "418445d20a8046f0b1d51f459235feec",
       "version_major": 2,
       "version_minor": 0
      },
      "text/plain": [
       "Binyamin_Ben-Eliezer_0007.jpg:   0%|          | 0.00/9.66k [00:00<?, ?B/s]"
      ]
     },
     "metadata": {},
     "output_type": "display_data"
    },
    {
     "data": {
      "application/vnd.jupyter.widget-view+json": {
       "model_id": "e6c1a2cc53bc49d19d589c8349264f02",
       "version_major": 2,
       "version_minor": 0
      },
      "text/plain": [
       "Bison_Dele_0001.jpg:   0%|          | 0.00/8.97k [00:00<?, ?B/s]"
      ]
     },
     "metadata": {},
     "output_type": "display_data"
    },
    {
     "data": {
      "application/vnd.jupyter.widget-view+json": {
       "model_id": "4187b6848b5c424185d88169cf0d3e87",
       "version_major": 2,
       "version_minor": 0
      },
      "text/plain": [
       "Bixente_LIzarazu_0001.jpg:   0%|          | 0.00/10.6k [00:00<?, ?B/s]"
      ]
     },
     "metadata": {},
     "output_type": "display_data"
    },
    {
     "data": {
      "application/vnd.jupyter.widget-view+json": {
       "model_id": "a230970a6c804d069e30e21a00298988",
       "version_major": 2,
       "version_minor": 0
      },
      "text/plain": [
       "Blas_Ople_0001.jpg:   0%|          | 0.00/6.99k [00:00<?, ?B/s]"
      ]
     },
     "metadata": {},
     "output_type": "display_data"
    },
    {
     "data": {
      "application/vnd.jupyter.widget-view+json": {
       "model_id": "9ebe57487d54488dac8bd213837ce62a",
       "version_major": 2,
       "version_minor": 0
      },
      "text/plain": [
       "Blythe_Danner_0001.jpg:   0%|          | 0.00/9.38k [00:00<?, ?B/s]"
      ]
     },
     "metadata": {},
     "output_type": "display_data"
    },
    {
     "data": {
      "application/vnd.jupyter.widget-view+json": {
       "model_id": "19f91ba6c73a4c7fbb83e73d7beabbc1",
       "version_major": 2,
       "version_minor": 0
      },
      "text/plain": [
       "Blythe_Danner_0002.jpg:   0%|          | 0.00/8.74k [00:00<?, ?B/s]"
      ]
     },
     "metadata": {},
     "output_type": "display_data"
    },
    {
     "data": {
      "application/vnd.jupyter.widget-view+json": {
       "model_id": "16a2ccf5bc0040e19f44f385c489809a",
       "version_major": 2,
       "version_minor": 0
      },
      "text/plain": [
       "Blythe_Hartley_0001.jpg:   0%|          | 0.00/7.37k [00:00<?, ?B/s]"
      ]
     },
     "metadata": {},
     "output_type": "display_data"
    },
    {
     "data": {
      "application/vnd.jupyter.widget-view+json": {
       "model_id": "027ca86d561a4295a546f321a33ec9da",
       "version_major": 2,
       "version_minor": 0
      },
      "text/plain": [
       "Blythe_Hartley_0002.jpg:   0%|          | 0.00/5.81k [00:00<?, ?B/s]"
      ]
     },
     "metadata": {},
     "output_type": "display_data"
    },
    {
     "data": {
      "application/vnd.jupyter.widget-view+json": {
       "model_id": "99fc33252e9a43debb1b4715f5e3503e",
       "version_major": 2,
       "version_minor": 0
      },
      "text/plain": [
       "Bo_Pelini_0001.jpg:   0%|          | 0.00/7.72k [00:00<?, ?B/s]"
      ]
     },
     "metadata": {},
     "output_type": "display_data"
    },
    {
     "data": {
      "application/vnd.jupyter.widget-view+json": {
       "model_id": "b7e62d63454f4639bb671eb0f8117840",
       "version_major": 2,
       "version_minor": 0
      },
      "text/plain": [
       "Bo_Pelini_0002.jpg:   0%|          | 0.00/8.00k [00:00<?, ?B/s]"
      ]
     },
     "metadata": {},
     "output_type": "display_data"
    },
    {
     "data": {
      "application/vnd.jupyter.widget-view+json": {
       "model_id": "6ff874a990c74bf1b445b733d4778498",
       "version_major": 2,
       "version_minor": 0
      },
      "text/plain": [
       "Bo_Ryan_0001.jpg:   0%|          | 0.00/8.34k [00:00<?, ?B/s]"
      ]
     },
     "metadata": {},
     "output_type": "display_data"
    },
    {
     "data": {
      "application/vnd.jupyter.widget-view+json": {
       "model_id": "57950b427ccb42e6adfb3c6f18058529",
       "version_major": 2,
       "version_minor": 0
      },
      "text/plain": [
       "Bo_Ryan_0002.jpg:   0%|          | 0.00/8.84k [00:00<?, ?B/s]"
      ]
     },
     "metadata": {},
     "output_type": "display_data"
    },
    {
     "data": {
      "application/vnd.jupyter.widget-view+json": {
       "model_id": "7ab97b2a765743c48897785ae10b9289",
       "version_major": 2,
       "version_minor": 0
      },
      "text/plain": [
       "Bob_Alper_0001.jpg:   0%|          | 0.00/9.82k [00:00<?, ?B/s]"
      ]
     },
     "metadata": {},
     "output_type": "display_data"
    },
    {
     "data": {
      "application/vnd.jupyter.widget-view+json": {
       "model_id": "a05a9c2ec928415c8a03add0605470e4",
       "version_major": 2,
       "version_minor": 0
      },
      "text/plain": [
       "Bob_Beauprez_0001.jpg:   0%|          | 0.00/8.05k [00:00<?, ?B/s]"
      ]
     },
     "metadata": {},
     "output_type": "display_data"
    },
    {
     "data": {
      "application/vnd.jupyter.widget-view+json": {
       "model_id": "a751f6f4a14443f39e33850088db3ccc",
       "version_major": 2,
       "version_minor": 0
      },
      "text/plain": [
       "Bob_Beauprez_0002.jpg:   0%|          | 0.00/7.13k [00:00<?, ?B/s]"
      ]
     },
     "metadata": {},
     "output_type": "display_data"
    },
    {
     "data": {
      "application/vnd.jupyter.widget-view+json": {
       "model_id": "b1373073b25c41199ff6b9aa4e7db0c2",
       "version_major": 2,
       "version_minor": 0
      },
      "text/plain": [
       "Bob_Bowlsby_0001.jpg:   0%|          | 0.00/7.18k [00:00<?, ?B/s]"
      ]
     },
     "metadata": {},
     "output_type": "display_data"
    },
    {
     "data": {
      "application/vnd.jupyter.widget-view+json": {
       "model_id": "cdae8849fcc647bea2c7a0b494fc47dd",
       "version_major": 2,
       "version_minor": 0
      },
      "text/plain": [
       "Bob_Cantrell_0001.jpg:   0%|          | 0.00/7.16k [00:00<?, ?B/s]"
      ]
     },
     "metadata": {},
     "output_type": "display_data"
    },
    {
     "data": {
      "application/vnd.jupyter.widget-view+json": {
       "model_id": "907e9482c45c4931b6f619a878b4d049",
       "version_major": 2,
       "version_minor": 0
      },
      "text/plain": [
       "Bob_Colvin_0001.jpg:   0%|          | 0.00/8.05k [00:00<?, ?B/s]"
      ]
     },
     "metadata": {},
     "output_type": "display_data"
    },
    {
     "data": {
      "application/vnd.jupyter.widget-view+json": {
       "model_id": "1242f3dcab154ca78748cbc322dc0f56",
       "version_major": 2,
       "version_minor": 0
      },
      "text/plain": [
       "Bob_Colvin_0002.jpg:   0%|          | 0.00/7.14k [00:00<?, ?B/s]"
      ]
     },
     "metadata": {},
     "output_type": "display_data"
    },
    {
     "data": {
      "application/vnd.jupyter.widget-view+json": {
       "model_id": "6c57d2c0765142f49dc84a7fd298c9c2",
       "version_major": 2,
       "version_minor": 0
      },
      "text/plain": [
       "Bob_Crippen_0001.jpg:   0%|          | 0.00/6.51k [00:00<?, ?B/s]"
      ]
     },
     "metadata": {},
     "output_type": "display_data"
    },
    {
     "data": {
      "application/vnd.jupyter.widget-view+json": {
       "model_id": "f1f2435d566d4a8e8b5cf96d0bfe89fb",
       "version_major": 2,
       "version_minor": 0
      },
      "text/plain": [
       "Bob_Curtis_0001.jpg:   0%|          | 0.00/9.46k [00:00<?, ?B/s]"
      ]
     },
     "metadata": {},
     "output_type": "display_data"
    },
    {
     "data": {
      "application/vnd.jupyter.widget-view+json": {
       "model_id": "0de0fd954cd4425eac1e0a2faa02c664",
       "version_major": 2,
       "version_minor": 0
      },
      "text/plain": [
       "Bob_Dole_0001.jpg:   0%|          | 0.00/9.09k [00:00<?, ?B/s]"
      ]
     },
     "metadata": {},
     "output_type": "display_data"
    },
    {
     "data": {
      "application/vnd.jupyter.widget-view+json": {
       "model_id": "602524e376364de1b5f573056649efde",
       "version_major": 2,
       "version_minor": 0
      },
      "text/plain": [
       "Bob_Dole_0002.jpg:   0%|          | 0.00/9.29k [00:00<?, ?B/s]"
      ]
     },
     "metadata": {},
     "output_type": "display_data"
    },
    {
     "data": {
      "application/vnd.jupyter.widget-view+json": {
       "model_id": "dfd7b1bfac5c46a08a3c31ea7d13fe66",
       "version_major": 2,
       "version_minor": 0
      },
      "text/plain": [
       "Bob_Dole_0003.jpg:   0%|          | 0.00/6.39k [00:00<?, ?B/s]"
      ]
     },
     "metadata": {},
     "output_type": "display_data"
    },
    {
     "data": {
      "application/vnd.jupyter.widget-view+json": {
       "model_id": "8a67b1632d0f49d5ba0072f828809683",
       "version_major": 2,
       "version_minor": 0
      },
      "text/plain": [
       "Bob_Eskridge_0001.jpg:   0%|          | 0.00/8.67k [00:00<?, ?B/s]"
      ]
     },
     "metadata": {},
     "output_type": "display_data"
    },
    {
     "data": {
      "application/vnd.jupyter.widget-view+json": {
       "model_id": "e469fe285e7c47a59dd51d212f880bb6",
       "version_major": 2,
       "version_minor": 0
      },
      "text/plain": [
       "Bob_Ferguson_0001.jpg:   0%|          | 0.00/8.75k [00:00<?, ?B/s]"
      ]
     },
     "metadata": {},
     "output_type": "display_data"
    },
    {
     "data": {
      "application/vnd.jupyter.widget-view+json": {
       "model_id": "f5ac1f1c7dc54ce688b952a8c8919a79",
       "version_major": 2,
       "version_minor": 0
      },
      "text/plain": [
       "Bob_Geldof_0001.jpg:   0%|          | 0.00/9.35k [00:00<?, ?B/s]"
      ]
     },
     "metadata": {},
     "output_type": "display_data"
    },
    {
     "data": {
      "application/vnd.jupyter.widget-view+json": {
       "model_id": "af889181a078464fad5d263ad552fa30",
       "version_major": 2,
       "version_minor": 0
      },
      "text/plain": [
       "Bob_Geldof_0002.jpg:   0%|          | 0.00/9.28k [00:00<?, ?B/s]"
      ]
     },
     "metadata": {},
     "output_type": "display_data"
    },
    {
     "data": {
      "application/vnd.jupyter.widget-view+json": {
       "model_id": "bdfc5ee2d7604485aeca955bd309a43f",
       "version_major": 2,
       "version_minor": 0
      },
      "text/plain": [
       "Bob_Goldman_0001.jpg:   0%|          | 0.00/10.4k [00:00<?, ?B/s]"
      ]
     },
     "metadata": {},
     "output_type": "display_data"
    },
    {
     "data": {
      "application/vnd.jupyter.widget-view+json": {
       "model_id": "a8b7d994d8424442ad8129ce1337b352",
       "version_major": 2,
       "version_minor": 0
      },
      "text/plain": [
       "Bob_Graham_0001.jpg:   0%|          | 0.00/9.80k [00:00<?, ?B/s]"
      ]
     },
     "metadata": {},
     "output_type": "display_data"
    },
    {
     "data": {
      "application/vnd.jupyter.widget-view+json": {
       "model_id": "d774c477e21b443fb202de30c1ec0915",
       "version_major": 2,
       "version_minor": 0
      },
      "text/plain": [
       "Bob_Graham_0002.jpg:   0%|          | 0.00/8.45k [00:00<?, ?B/s]"
      ]
     },
     "metadata": {},
     "output_type": "display_data"
    },
    {
     "data": {
      "application/vnd.jupyter.widget-view+json": {
       "model_id": "70bfbce960264c4997996d7eb77a8a27",
       "version_major": 2,
       "version_minor": 0
      },
      "text/plain": [
       "Bob_Graham_0003.jpg:   0%|          | 0.00/8.40k [00:00<?, ?B/s]"
      ]
     },
     "metadata": {},
     "output_type": "display_data"
    },
    {
     "data": {
      "application/vnd.jupyter.widget-view+json": {
       "model_id": "21e9a504cb1540f796eb4d2eb238074d",
       "version_major": 2,
       "version_minor": 0
      },
      "text/plain": [
       "Bob_Graham_0004.jpg:   0%|          | 0.00/7.96k [00:00<?, ?B/s]"
      ]
     },
     "metadata": {},
     "output_type": "display_data"
    },
    {
     "data": {
      "application/vnd.jupyter.widget-view+json": {
       "model_id": "97ade1ad70d34d04ac263e0916f1d34c",
       "version_major": 2,
       "version_minor": 0
      },
      "text/plain": [
       "Bob_Graham_0005.jpg:   0%|          | 0.00/7.57k [00:00<?, ?B/s]"
      ]
     },
     "metadata": {},
     "output_type": "display_data"
    },
    {
     "data": {
      "application/vnd.jupyter.widget-view+json": {
       "model_id": "485a309c60564e01a64593aac4c9b23a",
       "version_major": 2,
       "version_minor": 0
      },
      "text/plain": [
       "Bob_Graham_0006.jpg:   0%|          | 0.00/9.27k [00:00<?, ?B/s]"
      ]
     },
     "metadata": {},
     "output_type": "display_data"
    },
    {
     "data": {
      "application/vnd.jupyter.widget-view+json": {
       "model_id": "13a6dd467a2f4902bfc840f335d4a4d3",
       "version_major": 2,
       "version_minor": 0
      },
      "text/plain": [
       "Bob_Guccione_0001.jpg:   0%|          | 0.00/9.08k [00:00<?, ?B/s]"
      ]
     },
     "metadata": {},
     "output_type": "display_data"
    },
    {
     "data": {
      "application/vnd.jupyter.widget-view+json": {
       "model_id": "4a5c5f13d00d439ea6cac2f340022771",
       "version_major": 2,
       "version_minor": 0
      },
      "text/plain": [
       "Bob_Hartley_0001.jpg:   0%|          | 0.00/7.12k [00:00<?, ?B/s]"
      ]
     },
     "metadata": {},
     "output_type": "display_data"
    },
    {
     "data": {
      "application/vnd.jupyter.widget-view+json": {
       "model_id": "ef4c62af1ac04614908b3c410fec6324",
       "version_major": 2,
       "version_minor": 0
      },
      "text/plain": [
       "Bob_Hayes_0001.jpg:   0%|          | 0.00/8.00k [00:00<?, ?B/s]"
      ]
     },
     "metadata": {},
     "output_type": "display_data"
    },
    {
     "data": {
      "application/vnd.jupyter.widget-view+json": {
       "model_id": "0b435c9d98fe4bbdaaecf22f8af39223",
       "version_major": 2,
       "version_minor": 0
      },
      "text/plain": [
       "Bob_Herz_0001.jpg:   0%|          | 0.00/8.31k [00:00<?, ?B/s]"
      ]
     },
     "metadata": {},
     "output_type": "display_data"
    },
    {
     "data": {
      "application/vnd.jupyter.widget-view+json": {
       "model_id": "44755c1be0044024b5f0ab12ad779dfb",
       "version_major": 2,
       "version_minor": 0
      },
      "text/plain": [
       "Bob_Holden_0001.jpg:   0%|          | 0.00/8.96k [00:00<?, ?B/s]"
      ]
     },
     "metadata": {},
     "output_type": "display_data"
    },
    {
     "data": {
      "application/vnd.jupyter.widget-view+json": {
       "model_id": "af8bd9b4ca95408baf8e0c963d84145d",
       "version_major": 2,
       "version_minor": 0
      },
      "text/plain": [
       "Bob_Hope_0001.jpg:   0%|          | 0.00/8.40k [00:00<?, ?B/s]"
      ]
     },
     "metadata": {},
     "output_type": "display_data"
    },
    {
     "data": {
      "application/vnd.jupyter.widget-view+json": {
       "model_id": "90f8950a6cf44b649913e2e64c1948a9",
       "version_major": 2,
       "version_minor": 0
      },
      "text/plain": [
       "Bob_Hope_0002.jpg:   0%|          | 0.00/11.4k [00:00<?, ?B/s]"
      ]
     },
     "metadata": {},
     "output_type": "display_data"
    },
    {
     "data": {
      "application/vnd.jupyter.widget-view+json": {
       "model_id": "e5652910656b439c9a7f8c369bfba525",
       "version_major": 2,
       "version_minor": 0
      },
      "text/plain": [
       "Bob_Hope_0003.jpg:   0%|          | 0.00/8.12k [00:00<?, ?B/s]"
      ]
     },
     "metadata": {},
     "output_type": "display_data"
    },
    {
     "data": {
      "application/vnd.jupyter.widget-view+json": {
       "model_id": "35023d059f7a436e829e9765b07493dd",
       "version_major": 2,
       "version_minor": 0
      },
      "text/plain": [
       "Bob_Hope_0004.jpg:   0%|          | 0.00/9.64k [00:00<?, ?B/s]"
      ]
     },
     "metadata": {},
     "output_type": "display_data"
    },
    {
     "data": {
      "application/vnd.jupyter.widget-view+json": {
       "model_id": "93d6231268eb473ba154890010eb2a49",
       "version_major": 2,
       "version_minor": 0
      },
      "text/plain": [
       "Bob_Hope_0005.jpg:   0%|          | 0.00/7.28k [00:00<?, ?B/s]"
      ]
     },
     "metadata": {},
     "output_type": "display_data"
    },
    {
     "data": {
      "application/vnd.jupyter.widget-view+json": {
       "model_id": "e855f5bdabf04a22a829e1d3e4075a99",
       "version_major": 2,
       "version_minor": 0
      },
      "text/plain": [
       "Bob_Hope_0006.jpg:   0%|          | 0.00/9.12k [00:00<?, ?B/s]"
      ]
     },
     "metadata": {},
     "output_type": "display_data"
    },
    {
     "data": {
      "application/vnd.jupyter.widget-view+json": {
       "model_id": "4b7a2a36d28c45bba2fd63eb75219e74",
       "version_major": 2,
       "version_minor": 0
      },
      "text/plain": [
       "Bob_Hope_0007.jpg:   0%|          | 0.00/7.03k [00:00<?, ?B/s]"
      ]
     },
     "metadata": {},
     "output_type": "display_data"
    },
    {
     "data": {
      "application/vnd.jupyter.widget-view+json": {
       "model_id": "19c7ca5a23e945b7ae2d03aef096abbd",
       "version_major": 2,
       "version_minor": 0
      },
      "text/plain": [
       "Bob_Hope_0008.jpg:   0%|          | 0.00/8.50k [00:00<?, ?B/s]"
      ]
     },
     "metadata": {},
     "output_type": "display_data"
    },
    {
     "data": {
      "application/vnd.jupyter.widget-view+json": {
       "model_id": "a029f8d6c9c94429aba7438cb1439a6d",
       "version_major": 2,
       "version_minor": 0
      },
      "text/plain": [
       "Bob_Huggins_0001.jpg:   0%|          | 0.00/9.30k [00:00<?, ?B/s]"
      ]
     },
     "metadata": {},
     "output_type": "display_data"
    },
    {
     "data": {
      "application/vnd.jupyter.widget-view+json": {
       "model_id": "4a97051cfd4e4b79af9d785048acc866",
       "version_major": 2,
       "version_minor": 0
      },
      "text/plain": [
       "Bob_Huggins_0002.jpg:   0%|          | 0.00/8.25k [00:00<?, ?B/s]"
      ]
     },
     "metadata": {},
     "output_type": "display_data"
    },
    {
     "data": {
      "application/vnd.jupyter.widget-view+json": {
       "model_id": "629f38b440ad44c3b5446bee9e5c2d74",
       "version_major": 2,
       "version_minor": 0
      },
      "text/plain": [
       "Bob_Huggins_0003.jpg:   0%|          | 0.00/6.69k [00:00<?, ?B/s]"
      ]
     },
     "metadata": {},
     "output_type": "display_data"
    },
    {
     "data": {
      "application/vnd.jupyter.widget-view+json": {
       "model_id": "d1c4b0c943b5464680dae3160a059d8c",
       "version_major": 2,
       "version_minor": 0
      },
      "text/plain": [
       "Bob_Huggins_0004.jpg:   0%|          | 0.00/7.75k [00:00<?, ?B/s]"
      ]
     },
     "metadata": {},
     "output_type": "display_data"
    },
    {
     "data": {
      "application/vnd.jupyter.widget-view+json": {
       "model_id": "ece9ef72fbf14ce296adced6880279f7",
       "version_major": 2,
       "version_minor": 0
      },
      "text/plain": [
       "Bob_Krueger_0001.jpg:   0%|          | 0.00/7.99k [00:00<?, ?B/s]"
      ]
     },
     "metadata": {},
     "output_type": "display_data"
    },
    {
     "data": {
      "application/vnd.jupyter.widget-view+json": {
       "model_id": "f9964541062b41b6a97a2c66030cae1e",
       "version_major": 2,
       "version_minor": 0
      },
      "text/plain": [
       "Bob_Iger_0001.jpg:   0%|          | 0.00/7.14k [00:00<?, ?B/s]"
      ]
     },
     "metadata": {},
     "output_type": "display_data"
    },
    {
     "data": {
      "application/vnd.jupyter.widget-view+json": {
       "model_id": "59a3760ade914e01a4b0a672d81500bc",
       "version_major": 2,
       "version_minor": 0
      },
      "text/plain": [
       "Bob_Melvin_0001.jpg:   0%|          | 0.00/8.42k [00:00<?, ?B/s]"
      ]
     },
     "metadata": {},
     "output_type": "display_data"
    },
    {
     "data": {
      "application/vnd.jupyter.widget-view+json": {
       "model_id": "9c74443cd0a549b8b1fb38af7d69d99f",
       "version_major": 2,
       "version_minor": 0
      },
      "text/plain": [
       "Bob_Menendez_0001.jpg:   0%|          | 0.00/9.13k [00:00<?, ?B/s]"
      ]
     },
     "metadata": {},
     "output_type": "display_data"
    },
    {
     "data": {
      "application/vnd.jupyter.widget-view+json": {
       "model_id": "3d040bc2ccc249cfa22adf02548a2c8a",
       "version_major": 2,
       "version_minor": 0
      },
      "text/plain": [
       "Bob_Newhart_0001.jpg:   0%|          | 0.00/7.46k [00:00<?, ?B/s]"
      ]
     },
     "metadata": {},
     "output_type": "display_data"
    },
    {
     "data": {
      "application/vnd.jupyter.widget-view+json": {
       "model_id": "a2fd3b1cb03244a78c6a7ee16365a2b2",
       "version_major": 2,
       "version_minor": 0
      },
      "text/plain": [
       "Bob_Petrino_0001.jpg:   0%|          | 0.00/8.80k [00:00<?, ?B/s]"
      ]
     },
     "metadata": {},
     "output_type": "display_data"
    },
    {
     "data": {
      "application/vnd.jupyter.widget-view+json": {
       "model_id": "9e7223c688dd43edb4c575104a169a25",
       "version_major": 2,
       "version_minor": 0
      },
      "text/plain": [
       "Bob_Riley_0001.jpg:   0%|          | 0.00/9.18k [00:00<?, ?B/s]"
      ]
     },
     "metadata": {},
     "output_type": "display_data"
    },
    {
     "data": {
      "application/vnd.jupyter.widget-view+json": {
       "model_id": "368fd37501974b189082a9107c288732",
       "version_major": 2,
       "version_minor": 0
      },
      "text/plain": [
       "Bob_Stoops_0001.jpg:   0%|          | 0.00/9.53k [00:00<?, ?B/s]"
      ]
     },
     "metadata": {},
     "output_type": "display_data"
    },
    {
     "data": {
      "application/vnd.jupyter.widget-view+json": {
       "model_id": "9b034808f2804682a3a22039f78694e9",
       "version_major": 2,
       "version_minor": 0
      },
      "text/plain": [
       "Bob_Stoops_0002.jpg:   0%|          | 0.00/9.78k [00:00<?, ?B/s]"
      ]
     },
     "metadata": {},
     "output_type": "display_data"
    },
    {
     "data": {
      "application/vnd.jupyter.widget-view+json": {
       "model_id": "61b108ee3deb4c22bc161981e8a8264f",
       "version_major": 2,
       "version_minor": 0
      },
      "text/plain": [
       "Bob_Stoops_0003.jpg:   0%|          | 0.00/8.78k [00:00<?, ?B/s]"
      ]
     },
     "metadata": {},
     "output_type": "display_data"
    },
    {
     "data": {
      "application/vnd.jupyter.widget-view+json": {
       "model_id": "35984dce330c4d26b317a9606ae86150",
       "version_major": 2,
       "version_minor": 0
      },
      "text/plain": [
       "Bob_Stoops_0004.jpg:   0%|          | 0.00/9.07k [00:00<?, ?B/s]"
      ]
     },
     "metadata": {},
     "output_type": "display_data"
    },
    {
     "data": {
      "application/vnd.jupyter.widget-view+json": {
       "model_id": "a3a8f1697dda458bba21da2de5c03ff5",
       "version_major": 2,
       "version_minor": 0
      },
      "text/plain": [
       "Bob_Stoops_0005.jpg:   0%|          | 0.00/7.75k [00:00<?, ?B/s]"
      ]
     },
     "metadata": {},
     "output_type": "display_data"
    },
    {
     "data": {
      "application/vnd.jupyter.widget-view+json": {
       "model_id": "b2cf7ce41084480f80e2da07bb5acca0",
       "version_major": 2,
       "version_minor": 0
      },
      "text/plain": [
       "Bob_Stoops_0006.jpg:   0%|          | 0.00/8.57k [00:00<?, ?B/s]"
      ]
     },
     "metadata": {},
     "output_type": "display_data"
    },
    {
     "data": {
      "application/vnd.jupyter.widget-view+json": {
       "model_id": "d6d12a003c6e4e64aefb8b982a5af709",
       "version_major": 2,
       "version_minor": 0
      },
      "text/plain": [
       "Bob_Stoops_0007.jpg:   0%|          | 0.00/9.14k [00:00<?, ?B/s]"
      ]
     },
     "metadata": {},
     "output_type": "display_data"
    },
    {
     "data": {
      "application/vnd.jupyter.widget-view+json": {
       "model_id": "26ac58bd27fb497290eae953617ca201",
       "version_major": 2,
       "version_minor": 0
      },
      "text/plain": [
       "Bob_Sulkin_0001.jpg:   0%|          | 0.00/9.31k [00:00<?, ?B/s]"
      ]
     },
     "metadata": {},
     "output_type": "display_data"
    },
    {
     "data": {
      "application/vnd.jupyter.widget-view+json": {
       "model_id": "b956afe995c3487cb4b63be2128dc7de",
       "version_major": 2,
       "version_minor": 0
      },
      "text/plain": [
       "Bob_Taft_0001.jpg:   0%|          | 0.00/8.93k [00:00<?, ?B/s]"
      ]
     },
     "metadata": {},
     "output_type": "display_data"
    },
    {
     "data": {
      "application/vnd.jupyter.widget-view+json": {
       "model_id": "88fce545d68e49d898d920b0197f60ef",
       "version_major": 2,
       "version_minor": 0
      },
      "text/plain": [
       "Bob_Wright_0001.jpg:   0%|          | 0.00/7.26k [00:00<?, ?B/s]"
      ]
     },
     "metadata": {},
     "output_type": "display_data"
    },
    {
     "data": {
      "application/vnd.jupyter.widget-view+json": {
       "model_id": "49fca7663c2c4617b29b1bb0afd0f4a6",
       "version_major": 2,
       "version_minor": 0
      },
      "text/plain": [
       "Bobby_Bowden_0001.jpg:   0%|          | 0.00/8.80k [00:00<?, ?B/s]"
      ]
     },
     "metadata": {},
     "output_type": "display_data"
    },
    {
     "data": {
      "application/vnd.jupyter.widget-view+json": {
       "model_id": "7f4fd29a78eb45479cb82534b3e25077",
       "version_major": 2,
       "version_minor": 0
      },
      "text/plain": [
       "Bobby_Goldwater_0001.jpg:   0%|          | 0.00/7.96k [00:00<?, ?B/s]"
      ]
     },
     "metadata": {},
     "output_type": "display_data"
    },
    {
     "data": {
      "application/vnd.jupyter.widget-view+json": {
       "model_id": "b5d13ff55039444d8e1c667020152266",
       "version_major": 2,
       "version_minor": 0
      },
      "text/plain": [
       "Bobby_Goldwater_0002.jpg:   0%|          | 0.00/9.39k [00:00<?, ?B/s]"
      ]
     },
     "metadata": {},
     "output_type": "display_data"
    },
    {
     "data": {
      "application/vnd.jupyter.widget-view+json": {
       "model_id": "bedfc7cadd4446e9bf7a2b6e7cfdd02e",
       "version_major": 2,
       "version_minor": 0
      },
      "text/plain": [
       "Bobby_Jackson_0001.jpg:   0%|          | 0.00/6.22k [00:00<?, ?B/s]"
      ]
     },
     "metadata": {},
     "output_type": "display_data"
    },
    {
     "data": {
      "application/vnd.jupyter.widget-view+json": {
       "model_id": "08e392bb52bc46ddbd763552620e29a9",
       "version_major": 2,
       "version_minor": 0
      },
      "text/plain": [
       "Bobby_Kielty_0001.jpg:   0%|          | 0.00/10.0k [00:00<?, ?B/s]"
      ]
     },
     "metadata": {},
     "output_type": "display_data"
    },
    {
     "data": {
      "application/vnd.jupyter.widget-view+json": {
       "model_id": "86b97146d2ca4a9ab291ee9e28b3edaa",
       "version_major": 2,
       "version_minor": 0
      },
      "text/plain": [
       "Bobby_Robson_0001.jpg:   0%|          | 0.00/7.69k [00:00<?, ?B/s]"
      ]
     },
     "metadata": {},
     "output_type": "display_data"
    },
    {
     "data": {
      "application/vnd.jupyter.widget-view+json": {
       "model_id": "850ec9337b2f43ebb36754cb3824bf4a",
       "version_major": 2,
       "version_minor": 0
      },
      "text/plain": [
       "Bobby_Robson_0002.jpg:   0%|          | 0.00/7.87k [00:00<?, ?B/s]"
      ]
     },
     "metadata": {},
     "output_type": "display_data"
    },
    {
     "data": {
      "application/vnd.jupyter.widget-view+json": {
       "model_id": "a2d76ccbddcc452ab83c6784f292d4d1",
       "version_major": 2,
       "version_minor": 0
      },
      "text/plain": [
       "Bobo_Balde_0001.jpg:   0%|          | 0.00/8.11k [00:00<?, ?B/s]"
      ]
     },
     "metadata": {},
     "output_type": "display_data"
    },
    {
     "data": {
      "application/vnd.jupyter.widget-view+json": {
       "model_id": "5e3263966a714524855892cceb0968f8",
       "version_major": 2,
       "version_minor": 0
      },
      "text/plain": [
       "Bode_Miller_0002.jpg:   0%|          | 0.00/12.3k [00:00<?, ?B/s]"
      ]
     },
     "metadata": {},
     "output_type": "display_data"
    },
    {
     "data": {
      "application/vnd.jupyter.widget-view+json": {
       "model_id": "5d8ad53d1fab4c29bc8415fc109cc10b",
       "version_major": 2,
       "version_minor": 0
      },
      "text/plain": [
       "Bode_Miller_0001.jpg:   0%|          | 0.00/11.1k [00:00<?, ?B/s]"
      ]
     },
     "metadata": {},
     "output_type": "display_data"
    },
    {
     "data": {
      "application/vnd.jupyter.widget-view+json": {
       "model_id": "89272c4376bd420fb9b96f7804865dc0",
       "version_major": 2,
       "version_minor": 0
      },
      "text/plain": [
       "Bonnie_Fuller_0001.jpg:   0%|          | 0.00/8.18k [00:00<?, ?B/s]"
      ]
     },
     "metadata": {},
     "output_type": "display_data"
    },
    {
     "data": {
      "application/vnd.jupyter.widget-view+json": {
       "model_id": "d7e22c2ab89c4a0098fe56390d6f49b9",
       "version_major": 2,
       "version_minor": 0
      },
      "text/plain": [
       "Bonnie_Hunt_0001.jpg:   0%|          | 0.00/7.31k [00:00<?, ?B/s]"
      ]
     },
     "metadata": {},
     "output_type": "display_data"
    },
    {
     "data": {
      "application/vnd.jupyter.widget-view+json": {
       "model_id": "dc74d47746d54367bcfcc9456143f842",
       "version_major": 2,
       "version_minor": 0
      },
      "text/plain": [
       "Bono_0001.jpg:   0%|          | 0.00/9.16k [00:00<?, ?B/s]"
      ]
     },
     "metadata": {},
     "output_type": "display_data"
    },
    {
     "data": {
      "application/vnd.jupyter.widget-view+json": {
       "model_id": "4a3430dcf9754770af7224a731b97e16",
       "version_major": 2,
       "version_minor": 0
      },
      "text/plain": [
       "Bono_0002.jpg:   0%|          | 0.00/6.99k [00:00<?, ?B/s]"
      ]
     },
     "metadata": {},
     "output_type": "display_data"
    },
    {
     "data": {
      "application/vnd.jupyter.widget-view+json": {
       "model_id": "4a35229f314c4d12bf77b2b6592b52c5",
       "version_major": 2,
       "version_minor": 0
      },
      "text/plain": [
       "Bono_0003.jpg:   0%|          | 0.00/8.77k [00:00<?, ?B/s]"
      ]
     },
     "metadata": {},
     "output_type": "display_data"
    },
    {
     "data": {
      "application/vnd.jupyter.widget-view+json": {
       "model_id": "07935fe71fa2457eba47a13c35b9aa1b",
       "version_major": 2,
       "version_minor": 0
      },
      "text/plain": [
       "Boris_Becker_0001.jpg:   0%|          | 0.00/9.43k [00:00<?, ?B/s]"
      ]
     },
     "metadata": {},
     "output_type": "display_data"
    },
    {
     "data": {
      "application/vnd.jupyter.widget-view+json": {
       "model_id": "92e01520b4c445598a81c5ea877cb0fb",
       "version_major": 2,
       "version_minor": 0
      },
      "text/plain": [
       "Boris_Becker_0002.jpg:   0%|          | 0.00/10.2k [00:00<?, ?B/s]"
      ]
     },
     "metadata": {},
     "output_type": "display_data"
    },
    {
     "data": {
      "application/vnd.jupyter.widget-view+json": {
       "model_id": "9ddc4800d7ce40f69b374ea1c4508421",
       "version_major": 2,
       "version_minor": 0
      },
      "text/plain": [
       "Boris_Becker_0003.jpg:   0%|          | 0.00/9.60k [00:00<?, ?B/s]"
      ]
     },
     "metadata": {},
     "output_type": "display_data"
    },
    {
     "data": {
      "application/vnd.jupyter.widget-view+json": {
       "model_id": "c06ba2d4ba5e4e6991fa66a3470cd178",
       "version_major": 2,
       "version_minor": 0
      },
      "text/plain": [
       "Boris_Becker_0004.jpg:   0%|          | 0.00/8.75k [00:00<?, ?B/s]"
      ]
     },
     "metadata": {},
     "output_type": "display_data"
    },
    {
     "data": {
      "application/vnd.jupyter.widget-view+json": {
       "model_id": "2680e2932e324e74a683ac01dcd1413f",
       "version_major": 2,
       "version_minor": 0
      },
      "text/plain": [
       "Boris_Becker_0005.jpg:   0%|          | 0.00/9.77k [00:00<?, ?B/s]"
      ]
     },
     "metadata": {},
     "output_type": "display_data"
    },
    {
     "data": {
      "application/vnd.jupyter.widget-view+json": {
       "model_id": "7cb665641b404a5baf3608e23bb1b017",
       "version_major": 2,
       "version_minor": 0
      },
      "text/plain": [
       "Boris_Becker_0006.jpg:   0%|          | 0.00/10.3k [00:00<?, ?B/s]"
      ]
     },
     "metadata": {},
     "output_type": "display_data"
    },
    {
     "data": {
      "application/vnd.jupyter.widget-view+json": {
       "model_id": "726bdd93e5234e61ba3f545b691a10f7",
       "version_major": 2,
       "version_minor": 0
      },
      "text/plain": [
       "Boris_Berezovsky_0001.jpg:   0%|          | 0.00/9.60k [00:00<?, ?B/s]"
      ]
     },
     "metadata": {},
     "output_type": "display_data"
    },
    {
     "data": {
      "application/vnd.jupyter.widget-view+json": {
       "model_id": "50925a8f958b43bfacf7e041f65f18f7",
       "version_major": 2,
       "version_minor": 0
      },
      "text/plain": [
       "Boris_Berezovsky_0002.jpg:   0%|          | 0.00/7.60k [00:00<?, ?B/s]"
      ]
     },
     "metadata": {},
     "output_type": "display_data"
    },
    {
     "data": {
      "application/vnd.jupyter.widget-view+json": {
       "model_id": "ab323689d34d4f41ae05ce4df7be0417",
       "version_major": 2,
       "version_minor": 0
      },
      "text/plain": [
       "Boris_Henry_0001.jpg:   0%|          | 0.00/9.24k [00:00<?, ?B/s]"
      ]
     },
     "metadata": {},
     "output_type": "display_data"
    },
    {
     "data": {
      "application/vnd.jupyter.widget-view+json": {
       "model_id": "4116de0ab5d7449387a3e48fe9e2cacb",
       "version_major": 2,
       "version_minor": 0
      },
      "text/plain": [
       "Boris_Jordan_0001.jpg:   0%|          | 0.00/7.97k [00:00<?, ?B/s]"
      ]
     },
     "metadata": {},
     "output_type": "display_data"
    },
    {
     "data": {
      "application/vnd.jupyter.widget-view+json": {
       "model_id": "4237770f3df34ce295f9e6e33472f246",
       "version_major": 2,
       "version_minor": 0
      },
      "text/plain": [
       "Boris_Trajkovski_0001.jpg:   0%|          | 0.00/7.72k [00:00<?, ?B/s]"
      ]
     },
     "metadata": {},
     "output_type": "display_data"
    },
    {
     "data": {
      "application/vnd.jupyter.widget-view+json": {
       "model_id": "1a60972aff89454488bcf826dfb15cbd",
       "version_major": 2,
       "version_minor": 0
      },
      "text/plain": [
       "Boris_Yeltsin_0001.jpg:   0%|          | 0.00/9.54k [00:00<?, ?B/s]"
      ]
     },
     "metadata": {},
     "output_type": "display_data"
    },
    {
     "data": {
      "application/vnd.jupyter.widget-view+json": {
       "model_id": "54b45fbc171e4a4b91d796c5e48e8d72",
       "version_major": 2,
       "version_minor": 0
      },
      "text/plain": [
       "Boris_Yeltsin_0002.jpg:   0%|          | 0.00/8.67k [00:00<?, ?B/s]"
      ]
     },
     "metadata": {},
     "output_type": "display_data"
    },
    {
     "data": {
      "application/vnd.jupyter.widget-view+json": {
       "model_id": "07e7ffd887384e59b7d8567e4a3fea60",
       "version_major": 2,
       "version_minor": 0
      },
      "text/plain": [
       "Boutros_Boutros_Ghali_0001.jpg:   0%|          | 0.00/7.54k [00:00<?, ?B/s]"
      ]
     },
     "metadata": {},
     "output_type": "display_data"
    },
    {
     "data": {
      "application/vnd.jupyter.widget-view+json": {
       "model_id": "20eb0666526345d398ca059b53ec131f",
       "version_major": 2,
       "version_minor": 0
      },
      "text/plain": [
       "Brad_Alexander_Smith_0001.jpg:   0%|          | 0.00/9.25k [00:00<?, ?B/s]"
      ]
     },
     "metadata": {},
     "output_type": "display_data"
    },
    {
     "data": {
      "application/vnd.jupyter.widget-view+json": {
       "model_id": "389efead5d174a698d12ae7458c2af0c",
       "version_major": 2,
       "version_minor": 0
      },
      "text/plain": [
       "Brad_Banks_0001.jpg:   0%|          | 0.00/8.28k [00:00<?, ?B/s]"
      ]
     },
     "metadata": {},
     "output_type": "display_data"
    },
    {
     "data": {
      "application/vnd.jupyter.widget-view+json": {
       "model_id": "54b2fd2b55c24916985c2f57331672ea",
       "version_major": 2,
       "version_minor": 0
      },
      "text/plain": [
       "Brad_Brownell_0001.jpg:   0%|          | 0.00/6.62k [00:00<?, ?B/s]"
      ]
     },
     "metadata": {},
     "output_type": "display_data"
    },
    {
     "data": {
      "application/vnd.jupyter.widget-view+json": {
       "model_id": "1044de7be7af42eb80564e9d4e5ba850",
       "version_major": 2,
       "version_minor": 0
      },
      "text/plain": [
       "Brad_Garrett_0001.jpg:   0%|          | 0.00/9.42k [00:00<?, ?B/s]"
      ]
     },
     "metadata": {},
     "output_type": "display_data"
    },
    {
     "data": {
      "application/vnd.jupyter.widget-view+json": {
       "model_id": "c0d99e5935644712abe33412e2dd82e3",
       "version_major": 2,
       "version_minor": 0
      },
      "text/plain": [
       "Brad_Garrett_0002.jpg:   0%|          | 0.00/7.64k [00:00<?, ?B/s]"
      ]
     },
     "metadata": {},
     "output_type": "display_data"
    },
    {
     "data": {
      "application/vnd.jupyter.widget-view+json": {
       "model_id": "e445d68d4d724bc0b05236181f253bb8",
       "version_major": 2,
       "version_minor": 0
      },
      "text/plain": [
       "Brad_Garrett_0003.jpg:   0%|          | 0.00/8.43k [00:00<?, ?B/s]"
      ]
     },
     "metadata": {},
     "output_type": "display_data"
    },
    {
     "data": {
      "application/vnd.jupyter.widget-view+json": {
       "model_id": "11ed029d5562496d940d8caf7655f47e",
       "version_major": 2,
       "version_minor": 0
      },
      "text/plain": [
       "Brad_Garrett_0004.jpg:   0%|          | 0.00/9.14k [00:00<?, ?B/s]"
      ]
     },
     "metadata": {},
     "output_type": "display_data"
    },
    {
     "data": {
      "application/vnd.jupyter.widget-view+json": {
       "model_id": "98541031b2c54d36916e262a136fd3d9",
       "version_major": 2,
       "version_minor": 0
      },
      "text/plain": [
       "Brad_Gushue_0001.jpg:   0%|          | 0.00/8.77k [00:00<?, ?B/s]"
      ]
     },
     "metadata": {},
     "output_type": "display_data"
    },
    {
     "data": {
      "application/vnd.jupyter.widget-view+json": {
       "model_id": "9d760e33ec9d47ff95708361486738cc",
       "version_major": 2,
       "version_minor": 0
      },
      "text/plain": [
       "Brad_Johnson_0001.jpg:   0%|          | 0.00/8.59k [00:00<?, ?B/s]"
      ]
     },
     "metadata": {},
     "output_type": "display_data"
    },
    {
     "data": {
      "application/vnd.jupyter.widget-view+json": {
       "model_id": "230abe3827f14927aa5347a2df39c171",
       "version_major": 2,
       "version_minor": 0
      },
      "text/plain": [
       "Brad_Johnson_0002.jpg:   0%|          | 0.00/12.7k [00:00<?, ?B/s]"
      ]
     },
     "metadata": {},
     "output_type": "display_data"
    },
    {
     "data": {
      "application/vnd.jupyter.widget-view+json": {
       "model_id": "d7897b58ee99458798b83d3698db5dc6",
       "version_major": 2,
       "version_minor": 0
      },
      "text/plain": [
       "Brad_Johnson_0003.jpg:   0%|          | 0.00/9.24k [00:00<?, ?B/s]"
      ]
     },
     "metadata": {},
     "output_type": "display_data"
    },
    {
     "data": {
      "application/vnd.jupyter.widget-view+json": {
       "model_id": "a97fd4bd65744f1bad91ff1f039f7cea",
       "version_major": 2,
       "version_minor": 0
      },
      "text/plain": [
       "Brad_Johnson_0004.jpg:   0%|          | 0.00/8.18k [00:00<?, ?B/s]"
      ]
     },
     "metadata": {},
     "output_type": "display_data"
    },
    {
     "data": {
      "application/vnd.jupyter.widget-view+json": {
       "model_id": "5a1fe368d0d14145844bb63c84712706",
       "version_major": 2,
       "version_minor": 0
      },
      "text/plain": [
       "Brad_Johnson_0005.jpg:   0%|          | 0.00/8.13k [00:00<?, ?B/s]"
      ]
     },
     "metadata": {},
     "output_type": "display_data"
    },
    {
     "data": {
      "application/vnd.jupyter.widget-view+json": {
       "model_id": "7cdd3b7524b24f31ae5b142618744391",
       "version_major": 2,
       "version_minor": 0
      },
      "text/plain": [
       "Brad_Miller_0001.jpg:   0%|          | 0.00/9.79k [00:00<?, ?B/s]"
      ]
     },
     "metadata": {},
     "output_type": "display_data"
    },
    {
     "data": {
      "application/vnd.jupyter.widget-view+json": {
       "model_id": "edffe4a7d27d4836a2af90b9e8b5c51a",
       "version_major": 2,
       "version_minor": 0
      },
      "text/plain": [
       "Brad_Pitt_0001.jpg:   0%|          | 0.00/8.95k [00:00<?, ?B/s]"
      ]
     },
     "metadata": {},
     "output_type": "display_data"
    },
    {
     "data": {
      "application/vnd.jupyter.widget-view+json": {
       "model_id": "6a39fd66a46f455ebd0cf73c8a6a6fb9",
       "version_major": 2,
       "version_minor": 0
      },
      "text/plain": [
       "Brad_Russ_0001.jpg:   0%|          | 0.00/8.16k [00:00<?, ?B/s]"
      ]
     },
     "metadata": {},
     "output_type": "display_data"
    },
    {
     "data": {
      "application/vnd.jupyter.widget-view+json": {
       "model_id": "920afd479f0443c2af3259487d266d96",
       "version_major": 2,
       "version_minor": 0
      },
      "text/plain": [
       "Brad_Smith_0001.jpg:   0%|          | 0.00/7.01k [00:00<?, ?B/s]"
      ]
     },
     "metadata": {},
     "output_type": "display_data"
    },
    {
     "data": {
      "application/vnd.jupyter.widget-view+json": {
       "model_id": "7480f145ae2c404d909d401ec525efc9",
       "version_major": 2,
       "version_minor": 0
      },
      "text/plain": [
       "Brad_Wilk_0001.jpg:   0%|          | 0.00/8.65k [00:00<?, ?B/s]"
      ]
     },
     "metadata": {},
     "output_type": "display_data"
    },
    {
     "data": {
      "application/vnd.jupyter.widget-view+json": {
       "model_id": "ca62558243a947db885baeb98d36c968",
       "version_major": 2,
       "version_minor": 0
      },
      "text/plain": [
       "Brady_Rodgers_0001.jpg:   0%|          | 0.00/7.67k [00:00<?, ?B/s]"
      ]
     },
     "metadata": {},
     "output_type": "display_data"
    },
    {
     "data": {
      "application/vnd.jupyter.widget-view+json": {
       "model_id": "8249d84fe7d345548aeeea0f63c20270",
       "version_major": 2,
       "version_minor": 0
      },
      "text/plain": [
       "Brajesh_Mishra_0001.jpg:   0%|          | 0.00/8.33k [00:00<?, ?B/s]"
      ]
     },
     "metadata": {},
     "output_type": "display_data"
    },
    {
     "data": {
      "application/vnd.jupyter.widget-view+json": {
       "model_id": "ad4781dc744f40f591c33d98745fffcd",
       "version_major": 2,
       "version_minor": 0
      },
      "text/plain": [
       "Brandon_Boyd_0001.jpg:   0%|          | 0.00/8.16k [00:00<?, ?B/s]"
      ]
     },
     "metadata": {},
     "output_type": "display_data"
    },
    {
     "data": {
      "application/vnd.jupyter.widget-view+json": {
       "model_id": "7a515f16ab9f4658b4fad1b3dba53254",
       "version_major": 2,
       "version_minor": 0
      },
      "text/plain": [
       "Brandon_Fails_0001.jpg:   0%|          | 0.00/6.99k [00:00<?, ?B/s]"
      ]
     },
     "metadata": {},
     "output_type": "display_data"
    },
    {
     "data": {
      "application/vnd.jupyter.widget-view+json": {
       "model_id": "cc1d33505ed74adbb34bb8951346fb19",
       "version_major": 2,
       "version_minor": 0
      },
      "text/plain": [
       "Brandon_Hammond_0001.jpg:   0%|          | 0.00/8.15k [00:00<?, ?B/s]"
      ]
     },
     "metadata": {},
     "output_type": "display_data"
    },
    {
     "data": {
      "application/vnd.jupyter.widget-view+json": {
       "model_id": "e6ea2543aaf74f5ca8f5921c1825174a",
       "version_major": 2,
       "version_minor": 0
      },
      "text/plain": [
       "Brandon_Inge_0001.jpg:   0%|          | 0.00/9.37k [00:00<?, ?B/s]"
      ]
     },
     "metadata": {},
     "output_type": "display_data"
    },
    {
     "data": {
      "application/vnd.jupyter.widget-view+json": {
       "model_id": "47443b0325b7421c97fec664e1ba8ef6",
       "version_major": 2,
       "version_minor": 0
      },
      "text/plain": [
       "Brandon_Jones_0001.jpg:   0%|          | 0.00/9.93k [00:00<?, ?B/s]"
      ]
     },
     "metadata": {},
     "output_type": "display_data"
    },
    {
     "data": {
      "application/vnd.jupyter.widget-view+json": {
       "model_id": "b1f45a83ff574002829697a5f90ee930",
       "version_major": 2,
       "version_minor": 0
      },
      "text/plain": [
       "Brandon_Knight_0001.jpg:   0%|          | 0.00/9.42k [00:00<?, ?B/s]"
      ]
     },
     "metadata": {},
     "output_type": "display_data"
    },
    {
     "data": {
      "application/vnd.jupyter.widget-view+json": {
       "model_id": "e0446cfee6fb47a1b795827a8ba37821",
       "version_major": 2,
       "version_minor": 0
      },
      "text/plain": [
       "Brandon_Larson_0001.jpg:   0%|          | 0.00/7.93k [00:00<?, ?B/s]"
      ]
     },
     "metadata": {},
     "output_type": "display_data"
    },
    {
     "data": {
      "application/vnd.jupyter.widget-view+json": {
       "model_id": "7cb4b2ea82d742c29c942485d7bd2727",
       "version_major": 2,
       "version_minor": 0
      },
      "text/plain": [
       "Brandon_Lloyd_0001.jpg:   0%|          | 0.00/8.15k [00:00<?, ?B/s]"
      ]
     },
     "metadata": {},
     "output_type": "display_data"
    },
    {
     "data": {
      "application/vnd.jupyter.widget-view+json": {
       "model_id": "535c6702801d4f5bb610d3bd14344b8e",
       "version_major": 2,
       "version_minor": 0
      },
      "text/plain": [
       "Brandon_Robinson_0001.jpg:   0%|          | 0.00/9.34k [00:00<?, ?B/s]"
      ]
     },
     "metadata": {},
     "output_type": "display_data"
    },
    {
     "data": {
      "application/vnd.jupyter.widget-view+json": {
       "model_id": "51fce336fb6942a38423fd0100b13b8f",
       "version_major": 2,
       "version_minor": 0
      },
      "text/plain": [
       "Brandon_Spann_0001.jpg:   0%|          | 0.00/7.77k [00:00<?, ?B/s]"
      ]
     },
     "metadata": {},
     "output_type": "display_data"
    },
    {
     "data": {
      "application/vnd.jupyter.widget-view+json": {
       "model_id": "abdf187a2a51416abf6e11ef33642f46",
       "version_major": 2,
       "version_minor": 0
      },
      "text/plain": [
       "Brandon_Webb_0001.jpg:   0%|          | 0.00/7.69k [00:00<?, ?B/s]"
      ]
     },
     "metadata": {},
     "output_type": "display_data"
    },
    {
     "data": {
      "application/vnd.jupyter.widget-view+json": {
       "model_id": "edcc1c7e9dab4f479280761cdd0e3c8d",
       "version_major": 2,
       "version_minor": 0
      },
      "text/plain": [
       "Branko_Crvenkovski_0001.jpg:   0%|          | 0.00/9.42k [00:00<?, ?B/s]"
      ]
     },
     "metadata": {},
     "output_type": "display_data"
    },
    {
     "data": {
      "application/vnd.jupyter.widget-view+json": {
       "model_id": "c4a68e40cb3944ad988b52b33b1885e5",
       "version_major": 2,
       "version_minor": 0
      },
      "text/plain": [
       "Branko_Crvenkovski_0002.jpg:   0%|          | 0.00/8.95k [00:00<?, ?B/s]"
      ]
     },
     "metadata": {},
     "output_type": "display_data"
    },
    {
     "data": {
      "application/vnd.jupyter.widget-view+json": {
       "model_id": "39ec9ab350c64f7e8fc9191b99f9d466",
       "version_major": 2,
       "version_minor": 0
      },
      "text/plain": [
       "Branko_Crvenkovski_0003.jpg:   0%|          | 0.00/8.62k [00:00<?, ?B/s]"
      ]
     },
     "metadata": {},
     "output_type": "display_data"
    },
    {
     "data": {
      "application/vnd.jupyter.widget-view+json": {
       "model_id": "ccccc2b9a9094e70a420c8a4150ddacb",
       "version_major": 2,
       "version_minor": 0
      },
      "text/plain": [
       "Brawley_King_0001.jpg:   0%|          | 0.00/8.69k [00:00<?, ?B/s]"
      ]
     },
     "metadata": {},
     "output_type": "display_data"
    },
    {
     "data": {
      "application/vnd.jupyter.widget-view+json": {
       "model_id": "e5e804ffe8a24c08ae36d115d802eac7",
       "version_major": 2,
       "version_minor": 0
      },
      "text/plain": [
       "Brenda_Magana_0001.jpg:   0%|          | 0.00/9.63k [00:00<?, ?B/s]"
      ]
     },
     "metadata": {},
     "output_type": "display_data"
    },
    {
     "data": {
      "application/vnd.jupyter.widget-view+json": {
       "model_id": "7e330272c0254e91956f07d5a8a82d17",
       "version_major": 2,
       "version_minor": 0
      },
      "text/plain": [
       "Brenda_Wilson_0001.jpg:   0%|          | 0.00/10.4k [00:00<?, ?B/s]"
      ]
     },
     "metadata": {},
     "output_type": "display_data"
    },
    {
     "data": {
      "application/vnd.jupyter.widget-view+json": {
       "model_id": "a59119a791e145c6a49db05f21748a53",
       "version_major": 2,
       "version_minor": 0
      },
      "text/plain": [
       "Brenda_van_Dam_0001.jpg:   0%|          | 0.00/7.72k [00:00<?, ?B/s]"
      ]
     },
     "metadata": {},
     "output_type": "display_data"
    },
    {
     "data": {
      "application/vnd.jupyter.widget-view+json": {
       "model_id": "24fa9ab340ff4d30ba5287ee1965061a",
       "version_major": 2,
       "version_minor": 0
      },
      "text/plain": [
       "Brendan_Fraser_0001.jpg:   0%|          | 0.00/7.13k [00:00<?, ?B/s]"
      ]
     },
     "metadata": {},
     "output_type": "display_data"
    },
    {
     "data": {
      "application/vnd.jupyter.widget-view+json": {
       "model_id": "e408aacca30e4c4bb1f03596378d855e",
       "version_major": 2,
       "version_minor": 0
      },
      "text/plain": [
       "Brendan_Gaughan_0001.jpg:   0%|          | 0.00/7.78k [00:00<?, ?B/s]"
      ]
     },
     "metadata": {},
     "output_type": "display_data"
    },
    {
     "data": {
      "application/vnd.jupyter.widget-view+json": {
       "model_id": "6fd005a3e73e451298feddc66b85cc69",
       "version_major": 2,
       "version_minor": 0
      },
      "text/plain": [
       "Brendan_Hansen_0001.jpg:   0%|          | 0.00/8.13k [00:00<?, ?B/s]"
      ]
     },
     "metadata": {},
     "output_type": "display_data"
    },
    {
     "data": {
      "application/vnd.jupyter.widget-view+json": {
       "model_id": "45178e71d2bd471a89f2588dc8f894b0",
       "version_major": 2,
       "version_minor": 0
      },
      "text/plain": [
       "Brendan_Hansen_0002.jpg:   0%|          | 0.00/7.33k [00:00<?, ?B/s]"
      ]
     },
     "metadata": {},
     "output_type": "display_data"
    },
    {
     "data": {
      "application/vnd.jupyter.widget-view+json": {
       "model_id": "b585a9b6f0e74dbfba09abb29a89668b",
       "version_major": 2,
       "version_minor": 0
      },
      "text/plain": [
       "Brendan_Stai_0001.jpg:   0%|          | 0.00/8.68k [00:00<?, ?B/s]"
      ]
     },
     "metadata": {},
     "output_type": "display_data"
    },
    {
     "data": {
      "application/vnd.jupyter.widget-view+json": {
       "model_id": "83579dbe8c7e41a38a64dd0ba124531d",
       "version_major": 2,
       "version_minor": 0
      },
      "text/plain": [
       "Brennon_Leighton_0001.jpg:   0%|          | 0.00/8.40k [00:00<?, ?B/s]"
      ]
     },
     "metadata": {},
     "output_type": "display_data"
    },
    {
     "data": {
      "application/vnd.jupyter.widget-view+json": {
       "model_id": "4e6aa5e3fb2742aa95c576687394e7a5",
       "version_major": 2,
       "version_minor": 0
      },
      "text/plain": [
       "Brent_Coles_0001.jpg:   0%|          | 0.00/7.77k [00:00<?, ?B/s]"
      ]
     },
     "metadata": {},
     "output_type": "display_data"
    },
    {
     "data": {
      "application/vnd.jupyter.widget-view+json": {
       "model_id": "5ae05ed2b1924d8f85029f6044990c04",
       "version_major": 2,
       "version_minor": 0
      },
      "text/plain": [
       "Brett_Boone_0001.jpg:   0%|          | 0.00/7.77k [00:00<?, ?B/s]"
      ]
     },
     "metadata": {},
     "output_type": "display_data"
    },
    {
     "data": {
      "application/vnd.jupyter.widget-view+json": {
       "model_id": "1bdbb9eddcf24f14bd61aeadac9351d3",
       "version_major": 2,
       "version_minor": 0
      },
      "text/plain": [
       "Brett_Hawke_0001.jpg:   0%|          | 0.00/8.29k [00:00<?, ?B/s]"
      ]
     },
     "metadata": {},
     "output_type": "display_data"
    },
    {
     "data": {
      "application/vnd.jupyter.widget-view+json": {
       "model_id": "cfb25004c1554254ac3cfc42c70eee90",
       "version_major": 2,
       "version_minor": 0
      },
      "text/plain": [
       "Brett_Hull_0001.jpg:   0%|          | 0.00/9.21k [00:00<?, ?B/s]"
      ]
     },
     "metadata": {},
     "output_type": "display_data"
    },
    {
     "data": {
      "application/vnd.jupyter.widget-view+json": {
       "model_id": "6acc7a7544ee42eba4e70b7d289be392",
       "version_major": 2,
       "version_minor": 0
      },
      "text/plain": [
       "Brett_Perry_0001.jpg:   0%|          | 0.00/7.70k [00:00<?, ?B/s]"
      ]
     },
     "metadata": {},
     "output_type": "display_data"
    },
    {
     "data": {
      "application/vnd.jupyter.widget-view+json": {
       "model_id": "072da6c8d9164f4999e4c2e0c7443db0",
       "version_major": 2,
       "version_minor": 0
      },
      "text/plain": [
       "Brian_Billick_0001.jpg:   0%|          | 0.00/9.26k [00:00<?, ?B/s]"
      ]
     },
     "metadata": {},
     "output_type": "display_data"
    },
    {
     "data": {
      "application/vnd.jupyter.widget-view+json": {
       "model_id": "0d6ba8335c9643048d649da9563fdc3c",
       "version_major": 2,
       "version_minor": 0
      },
      "text/plain": [
       "Brian_Campbell_0001.jpg:   0%|          | 0.00/7.78k [00:00<?, ?B/s]"
      ]
     },
     "metadata": {},
     "output_type": "display_data"
    },
    {
     "data": {
      "application/vnd.jupyter.widget-view+json": {
       "model_id": "93adcc2a2d21409aa6c7b74600b537b0",
       "version_major": 2,
       "version_minor": 0
      },
      "text/plain": [
       "Brian_Cashman_0001.jpg:   0%|          | 0.00/10.4k [00:00<?, ?B/s]"
      ]
     },
     "metadata": {},
     "output_type": "display_data"
    },
    {
     "data": {
      "application/vnd.jupyter.widget-view+json": {
       "model_id": "3cbbd1ecf406448e8ada122ce6ece293",
       "version_major": 2,
       "version_minor": 0
      },
      "text/plain": [
       "Brian_Clemens_0001.jpg:   0%|          | 0.00/7.22k [00:00<?, ?B/s]"
      ]
     },
     "metadata": {},
     "output_type": "display_data"
    },
    {
     "data": {
      "application/vnd.jupyter.widget-view+json": {
       "model_id": "43b34627c7244bf0bbbbae55cb97e087",
       "version_major": 2,
       "version_minor": 0
      },
      "text/plain": [
       "Brian_Cook_0001.jpg:   0%|          | 0.00/8.79k [00:00<?, ?B/s]"
      ]
     },
     "metadata": {},
     "output_type": "display_data"
    },
    {
     "data": {
      "application/vnd.jupyter.widget-view+json": {
       "model_id": "d2675bfbd4da4c229e57fddcff39d1f3",
       "version_major": 2,
       "version_minor": 0
      },
      "text/plain": [
       "Brian_Cowen_0001.jpg:   0%|          | 0.00/9.32k [00:00<?, ?B/s]"
      ]
     },
     "metadata": {},
     "output_type": "display_data"
    },
    {
     "data": {
      "application/vnd.jupyter.widget-view+json": {
       "model_id": "e6c880b516f646468a07ddb292d3a90a",
       "version_major": 2,
       "version_minor": 0
      },
      "text/plain": [
       "Brian_Cowen_0002.jpg:   0%|          | 0.00/6.11k [00:00<?, ?B/s]"
      ]
     },
     "metadata": {},
     "output_type": "display_data"
    },
    {
     "data": {
      "application/vnd.jupyter.widget-view+json": {
       "model_id": "55438c738aa74539a3d3de81fd8a9766",
       "version_major": 2,
       "version_minor": 0
      },
      "text/plain": [
       "Brian_De_Palma_0001.jpg:   0%|          | 0.00/6.58k [00:00<?, ?B/s]"
      ]
     },
     "metadata": {},
     "output_type": "display_data"
    },
    {
     "data": {
      "application/vnd.jupyter.widget-view+json": {
       "model_id": "7d248ff7e3f54008b5204915aa85265f",
       "version_major": 2,
       "version_minor": 0
      },
      "text/plain": [
       "Brian_Florence_0001.jpg:   0%|          | 0.00/10.7k [00:00<?, ?B/s]"
      ]
     },
     "metadata": {},
     "output_type": "display_data"
    },
    {
     "data": {
      "application/vnd.jupyter.widget-view+json": {
       "model_id": "ad8d42bc27944b03944601e778e09e86",
       "version_major": 2,
       "version_minor": 0
      },
      "text/plain": [
       "Brian_Grazier_0001.jpg:   0%|          | 0.00/7.96k [00:00<?, ?B/s]"
      ]
     },
     "metadata": {},
     "output_type": "display_data"
    },
    {
     "data": {
      "application/vnd.jupyter.widget-view+json": {
       "model_id": "2d4e9c147e144058b92d97b2719e4ce6",
       "version_major": 2,
       "version_minor": 0
      },
      "text/plain": [
       "Brian_Gregory_0001.jpg:   0%|          | 0.00/8.24k [00:00<?, ?B/s]"
      ]
     },
     "metadata": {},
     "output_type": "display_data"
    },
    {
     "data": {
      "application/vnd.jupyter.widget-view+json": {
       "model_id": "c8c5e35e3f774809bc29c8257d284779",
       "version_major": 2,
       "version_minor": 0
      },
      "text/plain": [
       "Brian_Griese_0001.jpg:   0%|          | 0.00/9.06k [00:00<?, ?B/s]"
      ]
     },
     "metadata": {},
     "output_type": "display_data"
    },
    {
     "data": {
      "application/vnd.jupyter.widget-view+json": {
       "model_id": "4905aa5f4da948169f2a7150459bfba1",
       "version_major": 2,
       "version_minor": 0
      },
      "text/plain": [
       "Brian_Griese_0002.jpg:   0%|          | 0.00/9.08k [00:00<?, ?B/s]"
      ]
     },
     "metadata": {},
     "output_type": "display_data"
    },
    {
     "data": {
      "application/vnd.jupyter.widget-view+json": {
       "model_id": "84d04516db674ccbb586df385cced51c",
       "version_major": 2,
       "version_minor": 0
      },
      "text/plain": [
       "Brian_Heidik_0001.jpg:   0%|          | 0.00/8.44k [00:00<?, ?B/s]"
      ]
     },
     "metadata": {},
     "output_type": "display_data"
    },
    {
     "data": {
      "application/vnd.jupyter.widget-view+json": {
       "model_id": "fb0db29f09bf4f31b30829a1365618b0",
       "version_major": 2,
       "version_minor": 0
      },
      "text/plain": [
       "Brian_Heidik_0002.jpg:   0%|          | 0.00/11.5k [00:00<?, ?B/s]"
      ]
     },
     "metadata": {},
     "output_type": "display_data"
    },
    {
     "data": {
      "application/vnd.jupyter.widget-view+json": {
       "model_id": "e79eb0bf07c147989081be59f43b6d5f",
       "version_major": 2,
       "version_minor": 0
      },
      "text/plain": [
       "Brian_Henson_0001.jpg:   0%|          | 0.00/7.67k [00:00<?, ?B/s]"
      ]
     },
     "metadata": {},
     "output_type": "display_data"
    },
    {
     "data": {
      "application/vnd.jupyter.widget-view+json": {
       "model_id": "fc28c6c1e38b45c1a355472d8521b206",
       "version_major": 2,
       "version_minor": 0
      },
      "text/plain": [
       "Brian_Jordan_0001.jpg:   0%|          | 0.00/7.85k [00:00<?, ?B/s]"
      ]
     },
     "metadata": {},
     "output_type": "display_data"
    },
    {
     "data": {
      "application/vnd.jupyter.widget-view+json": {
       "model_id": "0fbf4d1454a742c989aa6af67950b3a4",
       "version_major": 2,
       "version_minor": 0
      },
      "text/plain": [
       "Brian_Kerr_0001.jpg:   0%|          | 0.00/9.89k [00:00<?, ?B/s]"
      ]
     },
     "metadata": {},
     "output_type": "display_data"
    },
    {
     "data": {
      "application/vnd.jupyter.widget-view+json": {
       "model_id": "a9464ef03ad147278d3560b938050dc5",
       "version_major": 2,
       "version_minor": 0
      },
      "text/plain": [
       "Brian_Lara_0001.jpg:   0%|          | 0.00/8.03k [00:00<?, ?B/s]"
      ]
     },
     "metadata": {},
     "output_type": "display_data"
    },
    {
     "data": {
      "application/vnd.jupyter.widget-view+json": {
       "model_id": "c58740f286844728a2803a3a1c8d10f8",
       "version_major": 2,
       "version_minor": 0
      },
      "text/plain": [
       "Brian_McIntyre_0001.jpg:   0%|          | 0.00/9.84k [00:00<?, ?B/s]"
      ]
     },
     "metadata": {},
     "output_type": "display_data"
    },
    {
     "data": {
      "application/vnd.jupyter.widget-view+json": {
       "model_id": "16d5cff07e5b45f4b44099f302b89d41",
       "version_major": 2,
       "version_minor": 0
      },
      "text/plain": [
       "Brian_Meadors_0001.jpg:   0%|          | 0.00/9.68k [00:00<?, ?B/s]"
      ]
     },
     "metadata": {},
     "output_type": "display_data"
    },
    {
     "data": {
      "application/vnd.jupyter.widget-view+json": {
       "model_id": "1cdc0cb223054d5e8fc602375a8e0934",
       "version_major": 2,
       "version_minor": 0
      },
      "text/plain": [
       "Brian_Mulroney_0001.jpg:   0%|          | 0.00/9.29k [00:00<?, ?B/s]"
      ]
     },
     "metadata": {},
     "output_type": "display_data"
    },
    {
     "data": {
      "application/vnd.jupyter.widget-view+json": {
       "model_id": "2e9511960f714e5caa84c18000c08d80",
       "version_major": 2,
       "version_minor": 0
      },
      "text/plain": [
       "Brian_Mulroney_0002.jpg:   0%|          | 0.00/7.37k [00:00<?, ?B/s]"
      ]
     },
     "metadata": {},
     "output_type": "display_data"
    },
    {
     "data": {
      "application/vnd.jupyter.widget-view+json": {
       "model_id": "f4843248c958425bb257eefe2d127e66",
       "version_major": 2,
       "version_minor": 0
      },
      "text/plain": [
       "Brian_Olson_0001.jpg:   0%|          | 0.00/8.83k [00:00<?, ?B/s]"
      ]
     },
     "metadata": {},
     "output_type": "display_data"
    },
    {
     "data": {
      "application/vnd.jupyter.widget-view+json": {
       "model_id": "f738eb50625441c1b4b59c6ad2bd8d1a",
       "version_major": 2,
       "version_minor": 0
      },
      "text/plain": [
       "Brian_Pavlich_0001.jpg:   0%|          | 0.00/8.61k [00:00<?, ?B/s]"
      ]
     },
     "metadata": {},
     "output_type": "display_data"
    },
    {
     "data": {
      "application/vnd.jupyter.widget-view+json": {
       "model_id": "b3304fc24eeb4febbe36039953f64cda",
       "version_major": 2,
       "version_minor": 0
      },
      "text/plain": [
       "Brian_Scalabrine_0001.jpg:   0%|          | 0.00/7.71k [00:00<?, ?B/s]"
      ]
     },
     "metadata": {},
     "output_type": "display_data"
    },
    {
     "data": {
      "application/vnd.jupyter.widget-view+json": {
       "model_id": "1219c236dec64cd2a363d9501a5301c1",
       "version_major": 2,
       "version_minor": 0
      },
      "text/plain": [
       "Brian_Schneider_0001.jpg:   0%|          | 0.00/9.75k [00:00<?, ?B/s]"
      ]
     },
     "metadata": {},
     "output_type": "display_data"
    },
    {
     "data": {
      "application/vnd.jupyter.widget-view+json": {
       "model_id": "9871e755116d4162a9e5cdcb9bfa725a",
       "version_major": 2,
       "version_minor": 0
      },
      "text/plain": [
       "Brian_StPierre_0001.jpg:   0%|          | 0.00/9.33k [00:00<?, ?B/s]"
      ]
     },
     "metadata": {},
     "output_type": "display_data"
    },
    {
     "data": {
      "application/vnd.jupyter.widget-view+json": {
       "model_id": "8a109cd1cc4d4c9d96131cde082b9ff5",
       "version_major": 2,
       "version_minor": 0
      },
      "text/plain": [
       "Brian_Van_Dusen_0001.jpg:   0%|          | 0.00/7.48k [00:00<?, ?B/s]"
      ]
     },
     "metadata": {},
     "output_type": "display_data"
    },
    {
     "data": {
      "application/vnd.jupyter.widget-view+json": {
       "model_id": "c70c3a66ef584602a51975158924c241",
       "version_major": 2,
       "version_minor": 0
      },
      "text/plain": [
       "Brian_Weaver_0001.jpg:   0%|          | 0.00/6.96k [00:00<?, ?B/s]"
      ]
     },
     "metadata": {},
     "output_type": "display_data"
    },
    {
     "data": {
      "application/vnd.jupyter.widget-view+json": {
       "model_id": "1a521664e3994bb9ba1061b11d5fea6b",
       "version_major": 2,
       "version_minor": 0
      },
      "text/plain": [
       "Brian_Wells_0001.jpg:   0%|          | 0.00/8.51k [00:00<?, ?B/s]"
      ]
     },
     "metadata": {},
     "output_type": "display_data"
    },
    {
     "data": {
      "application/vnd.jupyter.widget-view+json": {
       "model_id": "b2d694eaf1664876884fb14ea3ec8f69",
       "version_major": 2,
       "version_minor": 0
      },
      "text/plain": [
       "Brian_Wells_0002.jpg:   0%|          | 0.00/8.95k [00:00<?, ?B/s]"
      ]
     },
     "metadata": {},
     "output_type": "display_data"
    },
    {
     "data": {
      "application/vnd.jupyter.widget-view+json": {
       "model_id": "d59d0cfe65ed429ba274475024fbed4b",
       "version_major": 2,
       "version_minor": 0
      },
      "text/plain": [
       "Brian_Williams_0001.jpg:   0%|          | 0.00/7.04k [00:00<?, ?B/s]"
      ]
     },
     "metadata": {},
     "output_type": "display_data"
    },
    {
     "data": {
      "application/vnd.jupyter.widget-view+json": {
       "model_id": "a595159f50fd49cba62c8b0c30d047a6",
       "version_major": 2,
       "version_minor": 0
      },
      "text/plain": [
       "Bridget_Fonda_0001.jpg:   0%|          | 0.00/8.60k [00:00<?, ?B/s]"
      ]
     },
     "metadata": {},
     "output_type": "display_data"
    },
    {
     "data": {
      "application/vnd.jupyter.widget-view+json": {
       "model_id": "cb1c148d4b654f6d85c5762dea0a683b",
       "version_major": 2,
       "version_minor": 0
      },
      "text/plain": [
       "Bridget_Fonda_0002.jpg:   0%|          | 0.00/9.80k [00:00<?, ?B/s]"
      ]
     },
     "metadata": {},
     "output_type": "display_data"
    },
    {
     "data": {
      "application/vnd.jupyter.widget-view+json": {
       "model_id": "89e15ca742b84a22ba4ee4bc03acfdfb",
       "version_major": 2,
       "version_minor": 0
      },
      "text/plain": [
       "Bridget_Fonda_0003.jpg:   0%|          | 0.00/8.87k [00:00<?, ?B/s]"
      ]
     },
     "metadata": {},
     "output_type": "display_data"
    },
    {
     "data": {
      "application/vnd.jupyter.widget-view+json": {
       "model_id": "508d04366bb24f2e840080e862278c5d",
       "version_major": 2,
       "version_minor": 0
      },
      "text/plain": [
       "Bridgette_Wilson-Sampras_0001.jpg:   0%|          | 0.00/11.5k [00:00<?, ?B/s]"
      ]
     },
     "metadata": {},
     "output_type": "display_data"
    },
    {
     "data": {
      "application/vnd.jupyter.widget-view+json": {
       "model_id": "9452aee10da444e1aef762573817988c",
       "version_major": 2,
       "version_minor": 0
      },
      "text/plain": [
       "Bridgette_Wilson-Sampras_0002.jpg:   0%|          | 0.00/10.4k [00:00<?, ?B/s]"
      ]
     },
     "metadata": {},
     "output_type": "display_data"
    },
    {
     "data": {
      "application/vnd.jupyter.widget-view+json": {
       "model_id": "30ded5a5d978413592da2e43097223e7",
       "version_major": 2,
       "version_minor": 0
      },
      "text/plain": [
       "Bridgette_Wilson-Sampras_0003.jpg:   0%|          | 0.00/11.3k [00:00<?, ?B/s]"
      ]
     },
     "metadata": {},
     "output_type": "display_data"
    },
    {
     "data": {
      "application/vnd.jupyter.widget-view+json": {
       "model_id": "d140ea50ab924951b4c4e36d2b9503ee",
       "version_major": 2,
       "version_minor": 0
      },
      "text/plain": [
       "Brigitte_Boisselier_0001.jpg:   0%|          | 0.00/10.5k [00:00<?, ?B/s]"
      ]
     },
     "metadata": {},
     "output_type": "display_data"
    },
    {
     "data": {
      "application/vnd.jupyter.widget-view+json": {
       "model_id": "8b181ed2386e4e61a350eec33bc28f6b",
       "version_major": 2,
       "version_minor": 0
      },
      "text/plain": [
       "Brigitte_Boisselier_0002.jpg:   0%|          | 0.00/7.31k [00:00<?, ?B/s]"
      ]
     },
     "metadata": {},
     "output_type": "display_data"
    },
    {
     "data": {
      "application/vnd.jupyter.widget-view+json": {
       "model_id": "e1313cbafed04278aa8ccf1c1a8763fc",
       "version_major": 2,
       "version_minor": 0
      },
      "text/plain": [
       "Britney_Spears_0001.jpg:   0%|          | 0.00/11.0k [00:00<?, ?B/s]"
      ]
     },
     "metadata": {},
     "output_type": "display_data"
    },
    {
     "data": {
      "application/vnd.jupyter.widget-view+json": {
       "model_id": "2d8c2c5aa8ca44139bcf4c4afdc6c34a",
       "version_major": 2,
       "version_minor": 0
      },
      "text/plain": [
       "Britney_Spears_0002.jpg:   0%|          | 0.00/10.9k [00:00<?, ?B/s]"
      ]
     },
     "metadata": {},
     "output_type": "display_data"
    },
    {
     "data": {
      "application/vnd.jupyter.widget-view+json": {
       "model_id": "b563078059f44b489b77a631fdcba534",
       "version_major": 2,
       "version_minor": 0
      },
      "text/plain": [
       "Britney_Spears_0003.jpg:   0%|          | 0.00/9.77k [00:00<?, ?B/s]"
      ]
     },
     "metadata": {},
     "output_type": "display_data"
    },
    {
     "data": {
      "application/vnd.jupyter.widget-view+json": {
       "model_id": "804f3a6e03624f6fb3eec6e6c1fd570a",
       "version_major": 2,
       "version_minor": 0
      },
      "text/plain": [
       "Britney_Spears_0004.jpg:   0%|          | 0.00/7.91k [00:00<?, ?B/s]"
      ]
     },
     "metadata": {},
     "output_type": "display_data"
    },
    {
     "data": {
      "application/vnd.jupyter.widget-view+json": {
       "model_id": "37f3ad9d8aab4d3d96a0cd28c6d3169f",
       "version_major": 2,
       "version_minor": 0
      },
      "text/plain": [
       "Britney_Spears_0005.jpg:   0%|          | 0.00/10.2k [00:00<?, ?B/s]"
      ]
     },
     "metadata": {},
     "output_type": "display_data"
    },
    {
     "data": {
      "application/vnd.jupyter.widget-view+json": {
       "model_id": "9e2d39a9ec794a3a9d9c56007d5595af",
       "version_major": 2,
       "version_minor": 0
      },
      "text/plain": [
       "Britney_Spears_0006.jpg:   0%|          | 0.00/10.2k [00:00<?, ?B/s]"
      ]
     },
     "metadata": {},
     "output_type": "display_data"
    },
    {
     "data": {
      "application/vnd.jupyter.widget-view+json": {
       "model_id": "bf3793a470144b6987a00643e13f4e98",
       "version_major": 2,
       "version_minor": 0
      },
      "text/plain": [
       "Britney_Spears_0007.jpg:   0%|          | 0.00/8.65k [00:00<?, ?B/s]"
      ]
     },
     "metadata": {},
     "output_type": "display_data"
    },
    {
     "data": {
      "application/vnd.jupyter.widget-view+json": {
       "model_id": "220d7cfbea814b1c916cfaf251a7cdd6",
       "version_major": 2,
       "version_minor": 0
      },
      "text/plain": [
       "Britney_Spears_0008.jpg:   0%|          | 0.00/7.84k [00:00<?, ?B/s]"
      ]
     },
     "metadata": {},
     "output_type": "display_data"
    },
    {
     "data": {
      "application/vnd.jupyter.widget-view+json": {
       "model_id": "70cf809b02df49138a58b02ee4237284",
       "version_major": 2,
       "version_minor": 0
      },
      "text/plain": [
       "Britney_Spears_0009.jpg:   0%|          | 0.00/9.77k [00:00<?, ?B/s]"
      ]
     },
     "metadata": {},
     "output_type": "display_data"
    },
    {
     "data": {
      "application/vnd.jupyter.widget-view+json": {
       "model_id": "98184d1a334f402891f969980d182a44",
       "version_major": 2,
       "version_minor": 0
      },
      "text/plain": [
       "Britney_Spears_0010.jpg:   0%|          | 0.00/9.87k [00:00<?, ?B/s]"
      ]
     },
     "metadata": {},
     "output_type": "display_data"
    },
    {
     "data": {
      "application/vnd.jupyter.widget-view+json": {
       "model_id": "87b546b24ed641a08d43c1c14b1871f2",
       "version_major": 2,
       "version_minor": 0
      },
      "text/plain": [
       "Britney_Spears_0011.jpg:   0%|          | 0.00/8.63k [00:00<?, ?B/s]"
      ]
     },
     "metadata": {},
     "output_type": "display_data"
    },
    {
     "data": {
      "application/vnd.jupyter.widget-view+json": {
       "model_id": "3c62313d23da48ee8de38768f76a7679",
       "version_major": 2,
       "version_minor": 0
      },
      "text/plain": [
       "Britney_Spears_0012.jpg:   0%|          | 0.00/10.6k [00:00<?, ?B/s]"
      ]
     },
     "metadata": {},
     "output_type": "display_data"
    },
    {
     "data": {
      "application/vnd.jupyter.widget-view+json": {
       "model_id": "f68ba7563706435d8c3258554bc2624b",
       "version_major": 2,
       "version_minor": 0
      },
      "text/plain": [
       "Britney_Spears_0013.jpg:   0%|          | 0.00/7.05k [00:00<?, ?B/s]"
      ]
     },
     "metadata": {},
     "output_type": "display_data"
    },
    {
     "data": {
      "application/vnd.jupyter.widget-view+json": {
       "model_id": "e21c7f94a48f4e98983d3a8d9406f8dc",
       "version_major": 2,
       "version_minor": 0
      },
      "text/plain": [
       "Britney_Spears_0014.jpg:   0%|          | 0.00/9.27k [00:00<?, ?B/s]"
      ]
     },
     "metadata": {},
     "output_type": "display_data"
    },
    {
     "data": {
      "application/vnd.jupyter.widget-view+json": {
       "model_id": "2078bb18e6184e1c85da13a1261e0b5c",
       "version_major": 2,
       "version_minor": 0
      },
      "text/plain": [
       "Brittany_Snow_0001.jpg:   0%|          | 0.00/7.35k [00:00<?, ?B/s]"
      ]
     },
     "metadata": {},
     "output_type": "display_data"
    },
    {
     "data": {
      "application/vnd.jupyter.widget-view+json": {
       "model_id": "b99786393a5b495691e534f4171f73a3",
       "version_major": 2,
       "version_minor": 0
      },
      "text/plain": [
       "Brock_Berlin_0001.jpg:   0%|          | 0.00/8.32k [00:00<?, ?B/s]"
      ]
     },
     "metadata": {},
     "output_type": "display_data"
    },
    {
     "data": {
      "application/vnd.jupyter.widget-view+json": {
       "model_id": "01f9173022bc40e3b1c7efbcec93e144",
       "version_major": 2,
       "version_minor": 0
      },
      "text/plain": [
       "Bronson_Arroyo_0001.jpg:   0%|          | 0.00/7.94k [00:00<?, ?B/s]"
      ]
     },
     "metadata": {},
     "output_type": "display_data"
    },
    {
     "data": {
      "application/vnd.jupyter.widget-view+json": {
       "model_id": "04bcddde9d5946d99fd93f1ee7ee89f0",
       "version_major": 2,
       "version_minor": 0
      },
      "text/plain": [
       "Brook_Robinson_0001.jpg:   0%|          | 0.00/8.52k [00:00<?, ?B/s]"
      ]
     },
     "metadata": {},
     "output_type": "display_data"
    },
    {
     "data": {
      "application/vnd.jupyter.widget-view+json": {
       "model_id": "90e03db4ca654bcb9ebae966990c9781",
       "version_major": 2,
       "version_minor": 0
      },
      "text/plain": [
       "Brooke_Adams_0001.jpg:   0%|          | 0.00/7.71k [00:00<?, ?B/s]"
      ]
     },
     "metadata": {},
     "output_type": "display_data"
    },
    {
     "data": {
      "application/vnd.jupyter.widget-view+json": {
       "model_id": "3dbdccce1c5544c9b84b288140442d20",
       "version_major": 2,
       "version_minor": 0
      },
      "text/plain": [
       "Brooke_Gordon_0001.jpg:   0%|          | 0.00/7.85k [00:00<?, ?B/s]"
      ]
     },
     "metadata": {},
     "output_type": "display_data"
    },
    {
     "data": {
      "application/vnd.jupyter.widget-view+json": {
       "model_id": "d33ff85251d147f3880e26a832ad1c89",
       "version_major": 2,
       "version_minor": 0
      },
      "text/plain": [
       "Brooke_Shields_0001.jpg:   0%|          | 0.00/9.47k [00:00<?, ?B/s]"
      ]
     },
     "metadata": {},
     "output_type": "display_data"
    },
    {
     "data": {
      "application/vnd.jupyter.widget-view+json": {
       "model_id": "d8d607aa817440409e1047b081824aac",
       "version_major": 2,
       "version_minor": 0
      },
      "text/plain": [
       "Brooke_Shields_0002.jpg:   0%|          | 0.00/7.95k [00:00<?, ?B/s]"
      ]
     },
     "metadata": {},
     "output_type": "display_data"
    },
    {
     "data": {
      "application/vnd.jupyter.widget-view+json": {
       "model_id": "8ac507d1efa9454eba84b62d38897ac4",
       "version_major": 2,
       "version_minor": 0
      },
      "text/plain": [
       "Bruce_Arena_0001.jpg:   0%|          | 0.00/7.35k [00:00<?, ?B/s]"
      ]
     },
     "metadata": {},
     "output_type": "display_data"
    },
    {
     "data": {
      "application/vnd.jupyter.widget-view+json": {
       "model_id": "9951e5d9a96447468fc03f36bc59e3a8",
       "version_major": 2,
       "version_minor": 0
      },
      "text/plain": [
       "Bruce_Gebhardt_0001.jpg:   0%|          | 0.00/6.47k [00:00<?, ?B/s]"
      ]
     },
     "metadata": {},
     "output_type": "display_data"
    },
    {
     "data": {
      "application/vnd.jupyter.widget-view+json": {
       "model_id": "df2f19d96be44a32b43309fb494b6f54",
       "version_major": 2,
       "version_minor": 0
      },
      "text/plain": [
       "Bruce_Lunsford_0001.jpg:   0%|          | 0.00/7.68k [00:00<?, ?B/s]"
      ]
     },
     "metadata": {},
     "output_type": "display_data"
    },
    {
     "data": {
      "application/vnd.jupyter.widget-view+json": {
       "model_id": "1bc0da90810a4717ae418a6708f9ee55",
       "version_major": 2,
       "version_minor": 0
      },
      "text/plain": [
       "Bruce_Paltrow_0001.jpg:   0%|          | 0.00/6.97k [00:00<?, ?B/s]"
      ]
     },
     "metadata": {},
     "output_type": "display_data"
    },
    {
     "data": {
      "application/vnd.jupyter.widget-view+json": {
       "model_id": "1eafab865de44ac6902fe951cda82bc0",
       "version_major": 2,
       "version_minor": 0
      },
      "text/plain": [
       "Bruce_Springsteen_0001.jpg:   0%|          | 0.00/8.75k [00:00<?, ?B/s]"
      ]
     },
     "metadata": {},
     "output_type": "display_data"
    },
    {
     "data": {
      "application/vnd.jupyter.widget-view+json": {
       "model_id": "c084991ad5cd428295ce38c1acdc899e",
       "version_major": 2,
       "version_minor": 0
      },
      "text/plain": [
       "Bruce_Springsteen_0002.jpg:   0%|          | 0.00/8.08k [00:00<?, ?B/s]"
      ]
     },
     "metadata": {},
     "output_type": "display_data"
    },
    {
     "data": {
      "application/vnd.jupyter.widget-view+json": {
       "model_id": "98a10eb24c04467c9ecbb808e2431f54",
       "version_major": 2,
       "version_minor": 0
      },
      "text/plain": [
       "Bruce_Springsteen_0003.jpg:   0%|          | 0.00/8.84k [00:00<?, ?B/s]"
      ]
     },
     "metadata": {},
     "output_type": "display_data"
    },
    {
     "data": {
      "application/vnd.jupyter.widget-view+json": {
       "model_id": "5529ed118df744dcb50404e70ce2a6ad",
       "version_major": 2,
       "version_minor": 0
      },
      "text/plain": [
       "Bruce_Springsteen_0004.jpg:   0%|          | 0.00/7.85k [00:00<?, ?B/s]"
      ]
     },
     "metadata": {},
     "output_type": "display_data"
    },
    {
     "data": {
      "application/vnd.jupyter.widget-view+json": {
       "model_id": "b0bc62832aac4511b059d77d6caf5a22",
       "version_major": 2,
       "version_minor": 0
      },
      "text/plain": [
       "Bruce_Van_De_Velde_0001.jpg:   0%|          | 0.00/8.55k [00:00<?, ?B/s]"
      ]
     },
     "metadata": {},
     "output_type": "display_data"
    },
    {
     "data": {
      "application/vnd.jupyter.widget-view+json": {
       "model_id": "432bb5df7b084d969b12ed7305d6f5db",
       "version_major": 2,
       "version_minor": 0
      },
      "text/plain": [
       "Bruce_Van_De_Velde_0002.jpg:   0%|          | 0.00/9.00k [00:00<?, ?B/s]"
      ]
     },
     "metadata": {},
     "output_type": "display_data"
    },
    {
     "data": {
      "application/vnd.jupyter.widget-view+json": {
       "model_id": "a1043e9c0ffb40e0b4a00d74a67f3f83",
       "version_major": 2,
       "version_minor": 0
      },
      "text/plain": [
       "Bruce_Weber_0001.jpg:   0%|          | 0.00/6.68k [00:00<?, ?B/s]"
      ]
     },
     "metadata": {},
     "output_type": "display_data"
    },
    {
     "data": {
      "application/vnd.jupyter.widget-view+json": {
       "model_id": "3c12b8f89c4746e2ba47557e34f22bc8",
       "version_major": 2,
       "version_minor": 0
      },
      "text/plain": [
       "Bruce_Weber_0002.jpg:   0%|          | 0.00/7.29k [00:00<?, ?B/s]"
      ]
     },
     "metadata": {},
     "output_type": "display_data"
    },
    {
     "data": {
      "application/vnd.jupyter.widget-view+json": {
       "model_id": "38820810a2124bebb487dc166c9dd59b",
       "version_major": 2,
       "version_minor": 0
      },
      "text/plain": [
       "Bruce_Willis_0001.jpg:   0%|          | 0.00/8.13k [00:00<?, ?B/s]"
      ]
     },
     "metadata": {},
     "output_type": "display_data"
    },
    {
     "data": {
      "application/vnd.jupyter.widget-view+json": {
       "model_id": "cc8697e06d5f4f4f84a4b1a059bfae7f",
       "version_major": 2,
       "version_minor": 0
      },
      "text/plain": [
       "Bruna_Colosio_0001.jpg:   0%|          | 0.00/8.72k [00:00<?, ?B/s]"
      ]
     },
     "metadata": {},
     "output_type": "display_data"
    },
    {
     "data": {
      "application/vnd.jupyter.widget-view+json": {
       "model_id": "00ff8e4a61a9492cb52c69d8bfa29930",
       "version_major": 2,
       "version_minor": 0
      },
      "text/plain": [
       "Bruno_Junquiera_0001.jpg:   0%|          | 0.00/10.4k [00:00<?, ?B/s]"
      ]
     },
     "metadata": {},
     "output_type": "display_data"
    },
    {
     "data": {
      "application/vnd.jupyter.widget-view+json": {
       "model_id": "f91f956ec1f7487e8f3298e6e5628f38",
       "version_major": 2,
       "version_minor": 0
      },
      "text/plain": [
       "Bryan_Adams_0001.jpg:   0%|          | 0.00/7.88k [00:00<?, ?B/s]"
      ]
     },
     "metadata": {},
     "output_type": "display_data"
    },
    {
     "data": {
      "application/vnd.jupyter.widget-view+json": {
       "model_id": "4869b87e3fc84babaa81a585f10d7558",
       "version_major": 2,
       "version_minor": 0
      },
      "text/plain": [
       "Bryan_Chui_0001.jpg:   0%|          | 0.00/10.1k [00:00<?, ?B/s]"
      ]
     },
     "metadata": {},
     "output_type": "display_data"
    },
    {
     "data": {
      "application/vnd.jupyter.widget-view+json": {
       "model_id": "7bf04bd9d8d24727896caef3efc2e511",
       "version_major": 2,
       "version_minor": 0
      },
      "text/plain": [
       "Bryan_Cooley_0001.jpg:   0%|          | 0.00/7.63k [00:00<?, ?B/s]"
      ]
     },
     "metadata": {},
     "output_type": "display_data"
    },
    {
     "data": {
      "application/vnd.jupyter.widget-view+json": {
       "model_id": "f0119f4cd7124ec0904ca7bcf27a73cd",
       "version_major": 2,
       "version_minor": 0
      },
      "text/plain": [
       "Bryan_Murray_0001.jpg:   0%|          | 0.00/7.22k [00:00<?, ?B/s]"
      ]
     },
     "metadata": {},
     "output_type": "display_data"
    },
    {
     "data": {
      "application/vnd.jupyter.widget-view+json": {
       "model_id": "bdb5bae1ea224eaf8f73583443a52129",
       "version_major": 2,
       "version_minor": 0
      },
      "text/plain": [
       "Bryan_Thomas_0001.jpg:   0%|          | 0.00/7.34k [00:00<?, ?B/s]"
      ]
     },
     "metadata": {},
     "output_type": "display_data"
    },
    {
     "data": {
      "application/vnd.jupyter.widget-view+json": {
       "model_id": "b4fa5269f4a947a1af3e5b0b6a6ca6bb",
       "version_major": 2,
       "version_minor": 0
      },
      "text/plain": [
       "Bryce_Carmine_0001.jpg:   0%|          | 0.00/9.84k [00:00<?, ?B/s]"
      ]
     },
     "metadata": {},
     "output_type": "display_data"
    },
    {
     "data": {
      "application/vnd.jupyter.widget-view+json": {
       "model_id": "910ac7c03fee4e7b9f2e274ef0767ebf",
       "version_major": 2,
       "version_minor": 0
      },
      "text/plain": [
       "Bryant_Young_0001.jpg:   0%|          | 0.00/8.75k [00:00<?, ?B/s]"
      ]
     },
     "metadata": {},
     "output_type": "display_data"
    },
    {
     "data": {
      "application/vnd.jupyter.widget-view+json": {
       "model_id": "c828dfcd82ed4b1fbd4184cfe2c0a83e",
       "version_major": 2,
       "version_minor": 0
      },
      "text/plain": [
       "Buck_Rodgers_0001.jpg:   0%|          | 0.00/9.69k [00:00<?, ?B/s]"
      ]
     },
     "metadata": {},
     "output_type": "display_data"
    },
    {
     "data": {
      "application/vnd.jupyter.widget-view+json": {
       "model_id": "30f91336aec34d1abb65add02ae218c0",
       "version_major": 2,
       "version_minor": 0
      },
      "text/plain": [
       "Bud_Selig_0001.jpg:   0%|          | 0.00/9.05k [00:00<?, ?B/s]"
      ]
     },
     "metadata": {},
     "output_type": "display_data"
    },
    {
     "data": {
      "application/vnd.jupyter.widget-view+json": {
       "model_id": "262f7cdd6f574cc19509d0a267d1b04f",
       "version_major": 2,
       "version_minor": 0
      },
      "text/plain": [
       "Bud_Selig_0002.jpg:   0%|          | 0.00/7.36k [00:00<?, ?B/s]"
      ]
     },
     "metadata": {},
     "output_type": "display_data"
    },
    {
     "data": {
      "application/vnd.jupyter.widget-view+json": {
       "model_id": "d00a510e837c4ac9818e68151a126391",
       "version_major": 2,
       "version_minor": 0
      },
      "text/plain": [
       "Bud_Selig_0003.jpg:   0%|          | 0.00/8.81k [00:00<?, ?B/s]"
      ]
     },
     "metadata": {},
     "output_type": "display_data"
    },
    {
     "data": {
      "application/vnd.jupyter.widget-view+json": {
       "model_id": "31bb0facde304fac9b685199ba7c6f58",
       "version_major": 2,
       "version_minor": 0
      },
      "text/plain": [
       "Bud_Selig_0004.jpg:   0%|          | 0.00/8.57k [00:00<?, ?B/s]"
      ]
     },
     "metadata": {},
     "output_type": "display_data"
    },
    {
     "data": {
      "application/vnd.jupyter.widget-view+json": {
       "model_id": "127c7439fb894d8289936613a64fbb96",
       "version_major": 2,
       "version_minor": 0
      },
      "text/plain": [
       "Budd_Schulberg_0001.jpg:   0%|          | 0.00/7.36k [00:00<?, ?B/s]"
      ]
     },
     "metadata": {},
     "output_type": "display_data"
    },
    {
     "data": {
      "application/vnd.jupyter.widget-view+json": {
       "model_id": "33c56e09c49540a390407ab7a2a65f0e",
       "version_major": 2,
       "version_minor": 0
      },
      "text/plain": [
       "Buddy_Ryan_0001.jpg:   0%|          | 0.00/9.70k [00:00<?, ?B/s]"
      ]
     },
     "metadata": {},
     "output_type": "display_data"
    },
    {
     "data": {
      "application/vnd.jupyter.widget-view+json": {
       "model_id": "eedf79f32249489a9b492e987ec167e1",
       "version_major": 2,
       "version_minor": 0
      },
      "text/plain": [
       "Buford_Blount_0001.jpg:   0%|          | 0.00/8.39k [00:00<?, ?B/s]"
      ]
     },
     "metadata": {},
     "output_type": "display_data"
    },
    {
     "data": {
      "application/vnd.jupyter.widget-view+json": {
       "model_id": "3d00352754ba48bcab7aa16dbfffb56a",
       "version_major": 2,
       "version_minor": 0
      },
      "text/plain": [
       "Bulent_Ecevit_0001.jpg:   0%|          | 0.00/9.66k [00:00<?, ?B/s]"
      ]
     },
     "metadata": {},
     "output_type": "display_data"
    },
    {
     "data": {
      "application/vnd.jupyter.widget-view+json": {
       "model_id": "c507feed8ea24d7899696a962ba68af1",
       "version_major": 2,
       "version_minor": 0
      },
      "text/plain": [
       "Bulent_Ecevit_0002.jpg:   0%|          | 0.00/7.74k [00:00<?, ?B/s]"
      ]
     },
     "metadata": {},
     "output_type": "display_data"
    },
    {
     "name": "stdout",
     "output_type": "stream",
     "text": [
      "Error pushing to Hugging Face Hub: Error while uploading 'data/Bill_Graham_0008.jpg' to the Hub.\n",
      "Make sure you're logged in to Hugging Face using `huggingface-cli login`\n"
     ]
    }
   ],
   "source": [
    "import fiftyone as fo\n",
    "import os\n",
    "import tempfile\n",
    "from huggingface_hub import HfApi, login\n",
    "\n",
    "dataset = fo.load_dataset(\"lfw-deepfunneled\")\n",
    "print(f\"Loaded dataset: {dataset.name}\")\n",
    "print(f\"Number of samples: {len(dataset)}\")\n",
    "\n",
    "temp_dir = tempfile.mkdtemp()\n",
    "print(f\"Exporting dataset to temporary directory: {temp_dir}\")\n",
    "\n",
    "dataset.export(\n",
    "    export_dir=temp_dir,\n",
    "    dataset_type=fo.types.FiftyOneDataset,\n",
    ")\n",
    "\n",
    "try:\n",
    "    login()\n",
    "\n",
    "    repo_id = \"GangGreenTemperTatum/lfw-deepfunneled\"\n",
    "\n",
    "    api = HfApi()\n",
    "    api.create_repo(repo_id=repo_id, exist_ok=True)\n",
    "    print(f\"Created repository: {repo_id}\")\n",
    "\n",
    "    print(\"Starting upload (this may take some time)...\")\n",
    "    api.upload_folder(\n",
    "        folder_path=temp_dir,\n",
    "        repo_id=repo_id,\n",
    "        repo_type=\"dataset\"\n",
    "    )\n",
    "    print(\"Successfully uploaded dataset to Hugging Face Hub!\")\n",
    "\n",
    "except Exception as e:\n",
    "    print(f\"Error pushing to Hugging Face Hub: {e}\")\n",
    "    print(\"Make sure you're logged in to Hugging Face using `huggingface-cli login`\")\n",
    "\n",
    "# import shutil\n",
    "# shutil.rmtree(temp_dir)\n",
    "# print(f\"Cleaned up temporary directory: {temp_dir}\")"
   ]
  }
 ],
 "metadata": {
  "kernelspec": {
   "display_name": ".venv",
   "language": "python",
   "name": "python3"
  },
  "language_info": {
   "codemirror_mode": {
    "name": "ipython",
    "version": 3
   },
   "file_extension": ".py",
   "mimetype": "text/x-python",
   "name": "python",
   "nbconvert_exporter": "python",
   "pygments_lexer": "ipython3",
   "version": "3.11.11"
  }
 },
 "nbformat": 4,
 "nbformat_minor": 2
}
