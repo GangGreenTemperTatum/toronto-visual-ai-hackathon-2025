{
 "cells": [
  {
   "cell_type": "code",
   "execution_count": 3,
   "metadata": {},
   "outputs": [
    {
     "name": "stdout",
     "output_type": "stream",
     "text": [
      "FiftyOne version: 1.4.0\n",
      "Found 3 datasets\n",
      "Dataset 'lfw-deepfunneled' is located at <path not available>\n",
      "  - Sample count: 13233\n",
      "  - Fields: ['id', 'filepath', 'tags', 'metadata', 'created_at', 'last_modified_at', 'ground_truth']\n",
      "Dataset 'lfw-deepfunneled-sample' is located at <path not available>\n",
      "  - Sample count: 100\n",
      "  - Fields: ['id', 'filepath', 'tags', 'metadata', 'created_at', 'last_modified_at', 'ground_truth']\n",
      "Dataset 'lfw_organized' is located at <path not available>\n",
      "  - Sample count: 200\n",
      "  - Fields: ['id', 'filepath', 'tags', 'metadata', 'created_at', 'last_modified_at', 'classification']\n"
     ]
    }
   ],
   "source": [
    "import fiftyone as fo\n",
    "\n",
    "print(f\"FiftyOne version: {fo.__version__}\")\n",
    "\n",
    "try:\n",
    "    datasets = fo.list_datasets()\n",
    "except AttributeError:\n",
    "    try:\n",
    "        datasets = fo.datasets.list()\n",
    "    except AttributeError:\n",
    "        print(\"Could not list datasets with either current or legacy API.\")\n",
    "        datasets = []\n",
    "\n",
    "print(f\"Found {len(datasets)} datasets\")\n",
    "\n",
    "for dataset_name in datasets:\n",
    "    try:\n",
    "        dataset = fo.load_dataset(dataset_name)\n",
    "\n",
    "        if hasattr(dataset, 'get_data_dir'):\n",
    "            data_path = dataset.get_data_dir()\n",
    "        elif hasattr(dataset, 'media_dir'):\n",
    "            data_path = dataset.media_dir\n",
    "        else:\n",
    "            data_path = \"<path not available>\"\n",
    "\n",
    "        print(f\"Dataset '{dataset_name}' is located at {data_path}\")\n",
    "\n",
    "        print(f\"  - Sample count: {len(dataset)}\")\n",
    "        print(f\"  - Fields: {list(dataset.get_field_schema().keys())}\")\n",
    "    except Exception as e:\n",
    "        print(f\"Error loading dataset '{dataset_name}': {str(e)}\")\n"
   ]
  },
  {
   "cell_type": "code",
   "execution_count": null,
   "metadata": {},
   "outputs": [
    {
     "name": "stdout",
     "output_type": "stream",
     "text": [
      "\n",
      "Exploring dataset: lfw-deepfunneled\n",
      "Number of samples: 13233\n",
      "\n",
      "Field schema:\n",
      "  - id: fiftyone.core.fields.ObjectIdField\n",
      "  - filepath: fiftyone.core.fields.StringField\n",
      "  - tags: fiftyone.core.fields.ListField(fiftyone.core.fields.StringField)\n",
      "  - metadata: fiftyone.core.fields.EmbeddedDocumentField(fiftyone.core.metadata.ImageMetadata)\n",
      "  - created_at: fiftyone.core.fields.DateTimeField\n",
      "  - last_modified_at: fiftyone.core.fields.DateTimeField\n",
      "  - ground_truth: fiftyone.core.fields.EmbeddedDocumentField(fiftyone.core.labels.Classification)\n",
      "\n",
      "First sample:\n",
      "<Sample: {\n",
      "    'id': '67dedb2d40259dc46d042e93',\n",
      "    'media_type': 'image',\n",
      "    'filepath': '/Users/ads/git/toronto-visual-ai-hackathon-2025/dataset/lfw-deepfunneled/lfw-deepfunneled/AJ_Cook/AJ_Cook_0001.jpg',\n",
      "    'tags': [],\n",
      "    'metadata': None,\n",
      "    'created_at': datetime.datetime(2025, 3, 22, 15, 45, 49, 565000),\n",
      "    'last_modified_at': datetime.datetime(2025, 3, 22, 15, 45, 49, 565000),\n",
      "    'ground_truth': <Classification: {\n",
      "        'id': '67dedb2d40259dc46d042e92',\n",
      "        'tags': [],\n",
      "        'label': 'AJ_Cook',\n",
      "        'confidence': None,\n",
      "        'logits': None,\n",
      "    }>,\n",
      "}>\n",
      "\n",
      "Sample visualization:\n",
      "Connected to FiftyOne on port 5151 at localhost.\n",
      "If you are not connecting to a remote session, you may need to start a new session and specify a port\n"
     ]
    },
    {
     "data": {
      "text/html": [
       "\n",
       "        <iframe\n",
       "            width=\"100%\"\n",
       "            height=\"800\"\n",
       "            src=\"http://localhost:5151/?notebook=True&subscription=ef516570-1b0e-4084-9a38-2187b8a3763d\"\n",
       "            frameborder=\"0\"\n",
       "            allowfullscreen\n",
       "            \n",
       "        ></iframe>\n",
       "        "
      ],
      "text/plain": [
       "<IPython.lib.display.IFrame at 0x14881c310>"
      ]
     },
     "metadata": {},
     "output_type": "display_data"
    },
    {
     "data": {
      "text/html": [
       "\n",
       "        <iframe\n",
       "            width=\"100%\"\n",
       "            height=\"800\"\n",
       "            src=\"http://localhost:5151/?notebook=True&subscription=8546dfcf-efeb-45e2-8205-955ec3838847\"\n",
       "            frameborder=\"0\"\n",
       "            allowfullscreen\n",
       "            \n",
       "        ></iframe>\n",
       "        "
      ],
      "text/plain": [
       "<IPython.lib.display.IFrame at 0x142b9a950>"
      ]
     },
     "metadata": {},
     "output_type": "display_data"
    }
   ],
   "source": [
    "if datasets:\n",
    "    dataset_name = datasets[0]\n",
    "    dataset = fo.load_dataset(dataset_name)\n",
    "\n",
    "    print(f\"\\nExploring dataset: {dataset_name}\")\n",
    "    print(f\"Number of samples: {len(dataset)}\")\n",
    "\n",
    "    schema = dataset.get_field_schema()\n",
    "    print(\"\\nField schema:\")\n",
    "    for field_name, field_type in schema.items():\n",
    "        print(f\"  - {field_name}: {field_type}\")\n",
    "\n",
    "    if len(dataset) > 0:\n",
    "        first_sample = dataset.first()\n",
    "        print(\"\\nFirst sample:\")\n",
    "        print(first_sample)\n",
    "\n",
    "        try:\n",
    "            print(\"\\nSample visualization:\")\n",
    "            session = fo.launch_app(dataset)\n",
    "            session.view = fo.DatasetView(dataset).limit(10)\n",
    "        except Exception as e:\n",
    "            print(f\"Could not visualize: {e}\")\n"
   ]
  }
 ],
 "metadata": {
  "kernelspec": {
   "display_name": ".venv",
   "language": "python",
   "name": "python3"
  },
  "language_info": {
   "codemirror_mode": {
    "name": "ipython",
    "version": 3
   },
   "file_extension": ".py",
   "mimetype": "text/x-python",
   "name": "python",
   "nbconvert_exporter": "python",
   "pygments_lexer": "ipython3",
   "version": "3.11.11"
  }
 },
 "nbformat": 4,
 "nbformat_minor": 2
}
